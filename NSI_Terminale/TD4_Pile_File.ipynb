{
 "cells": [
  {
   "cell_type": "markdown",
   "metadata": {},
   "source": [
    "# TD 4 : Les structures de Pile et de File"
   ]
  },
  {
   "cell_type": "markdown",
   "metadata": {},
   "source": [
    "On importera la module Pile créé en cours. Il faudra pour cela qu'il soit dans le même répertoire que le TD."
   ]
  },
  {
   "cell_type": "markdown",
   "metadata": {},
   "source": [
    "## Exercice 1 : Compléter la structure de Pile\n",
    "Compléter la classe **`Pile`** du *programme 2* du cours sur les piles avec les trois méthodes additionnelles suivantes : \n",
    "\n",
    "- **`consulter`** : permet de consulter l'élément au sommet de la pile sans le modifier.\n",
    "\n",
    "\n",
    "- **`vider`** : permet de vider la pile en redéfinissant le contenu comme le pile vide.\n",
    "\n",
    "\n",
    "- **`taille`** : renvoie la taille de la pile c'est-à-dire le nombre d'éléments qu'elle contient. \n",
    "\n",
    "Quel est l'ordre de grandeur du nombre d’opérations effectuées par la fonction **`taille`** ?"
   ]
  },
  {
   "cell_type": "code",
   "execution_count": null,
   "metadata": {},
   "outputs": [],
   "source": []
  },
  {
   "cell_type": "markdown",
   "metadata": {},
   "source": [
    "## Exercice 2 : Modification de la classe Pile\n",
    "Pour éviter d'avoir à caluler la taille en utilisant la méthode de l'exercice précédant, nous allons revisiter  la  classe  **`Pile`**  en  lui  ajoutant un attribut privé **`_taille`** indiquant à tout moment la taille de la pile. \n",
    "\n",
    "Quelles méthodes doivent être modifiées, et comment?"
   ]
  },
  {
   "cell_type": "code",
   "execution_count": null,
   "metadata": {},
   "outputs": [],
   "source": []
  },
  {
   "cell_type": "markdown",
   "metadata": {},
   "source": [
    "## Exercice 3 : Calculatrice polonaise inverse (à pile)\n",
    "L'écriture polonaise inverse des expressions arithmétiques place l’opérateur après ses opérandes.    \n",
    "Cette notation ne nécessite aucune parenthèse ni aucune règle de priorité. Ainsi l'expression polonaise inverse décrite par la chaine de caractères : \n",
    "\n",
    "**`\"1 2 3 * + 4 *\"`**\n",
    "\n",
    "désigne l’expression traditionnellement notée $(1 + 2 \\times 3) \\times 4$.   \n",
    "\n",
    "La valeur d’une telle expression peut être calculée facilement en utilisant une pile pour stocker les résultats intermédiaires.  \n",
    "\n",
    "Pour cela, on observe un à un les éléments de l’expression et on effectue les actions suivantes :\n",
    "\n",
    "+ si on voit un nombre, on le place sur la pile ;\n",
    "\n",
    "\n",
    "+ si on voit un opérateur binaire (une opération), on récupère les deux nombres au sommet de la pile, on leur applique l’operateur, et on  replace  le résultat sur la pile.\n",
    "\n",
    "\n",
    "Si l’expression était bien écrite, il y a bien toujours deux nombres sur la pile lorsque l’on voit un opérateur.   \n",
    "À la  fin  du  processus  il reste  exactement un nombre sur la pile ; ce nombre est le résultat.\n",
    "\n",
    "Écrire une fonction prenant en paramètre une chaîne de caractères représantant une expression en notation polonaise inversée composée d’additions et de multiplications de nombres entiers et renvoyant la valeur de cette expression.    \n",
    "On supposera que les éléments  de  l’expression  sont  séparés  par des espaces. \n",
    "\n",
    "*Attention* : cette fonction ne doit pas renvoyer de résultat si l’expression  est mal écrite.\n",
    "\n",
    "**Rappel** : **`chaine.split(\"char\")`** coupe la chaîne de caractère **`chaine`** chaque fois que le caractère **`char`** est rencontré et renvoie un tableau contenant chaque élément ainsi découpé.\n"
   ]
  },
  {
   "cell_type": "code",
   "execution_count": null,
   "metadata": {},
   "outputs": [],
   "source": []
  },
  {
   "cell_type": "markdown",
   "metadata": {},
   "source": [
    "## Exercice 4 : Parenthèses associées\n",
    "On dit qu’une chaine de caractères comprenant, entre autres choses, des parenthèses **`(`** et **`)`** est bien parenthésée lorsque chaque parenthèse ouvrante est associée à une unique fermante, et réciproquement.\n",
    "\n",
    "Écrire une fonction prenant en  paramètres  une  chaîne  bien  parenthésée **`s`** et l’indice **`f`** d’une parenthèse fermante, et qui renvoie l'indice de la parenthèse ouvrante associée.\n",
    "\n",
    "*Indice* : Comme chaque parenthèse fermante est associée à la dernière parenthèse ouvrante non encore fermée, on peut suivre les associations à l’aide de l’une des deux structures de données Pile ou File."
   ]
  },
  {
   "cell_type": "code",
   "execution_count": null,
   "metadata": {},
   "outputs": [],
   "source": []
  },
  {
   "cell_type": "markdown",
   "metadata": {},
   "source": [
    "## Exercice 5 : Chaînes bien parenthésées\n",
    "On considère une chaine de caractères incluant à la fois des parenthèses rondes **`(`** et **`)`** et  des  parenthèses carrées **`[`** et **`]`**. La chaîne est bien parenthésée si chaque  ouvrante  est  associée à une unique fermante de même forme, et réciproquement.\n",
    "\n",
    "Écrire une fonction prenant en paramètre une chaîne de caractères contenant, entre autres, les parenthèses décrites et  qui renvoie  **`True`**  si  la chaîne est  bien  parenthésée  et **`False`** sinon.\n"
   ]
  },
  {
   "cell_type": "code",
   "execution_count": null,
   "metadata": {},
   "outputs": [],
   "source": []
  },
  {
   "cell_type": "markdown",
   "metadata": {},
   "source": [
    "## Exercice 6 : File bornée\n",
    "Une file bornée est une file dotée à sa création\n",
    "d une capacité maximale. On propose l’interface suivante.\n",
    "<table style=\"border:1px solid black;\">\n",
    "<tr style=\"border:1px solid black;\">\n",
    "    <th style=\"text-align:center;\">Fonction</th>\n",
    "    <th style=\"text-align:center;\">Description</th>    \n",
    "</tr>\n",
    "<tr>\n",
    "    <td style=\"text-align:justify;font-weight:bold;\">creer_file(c)</td>\n",
    "    <td style=\"text-align:justify;\">crée et renvoie une file bornée de apacité $c$</td>   \n",
    "</tr>\n",
    "<tr>\n",
    "    <td style=\"text-align:justify;font-weight:bold;\">est_vide(f)</td>\n",
    "    <td style=\"text-align:justify;\">Renvoie $True$ si la file est vide, $False$ sinon</td>   \n",
    "</tr>\n",
    "<tr>\n",
    "    <td style=\"text-align:justify;font-weight:bold;\">est_pleine(f)</td>\n",
    "    <td style=\"text-align:justify;\">Renvoie $True$ si la file est pleine, $False$ sinon<</td>   \n",
    "</tr>\n",
    "<tr>\n",
    "    <td style=\"text-align:justify;font-weight:bold;\">ajouter(f,e)</td>\n",
    "    <td style=\"text-align:justify;\">ajoute $e$ à l'arrière de la file $f$ si $f$ n'est pas pleine, et lève une exception $IndexError$ sinon</td>   \n",
    "</tr>\n",
    "<tr>\n",
    "    <td style=\"text-align:justify;font-weight:bold;\">retirer(f)</td>\n",
    "    <td style=\"text-align:justify;\">retire et renvoie l'élément à l'avant de $f$ si $f$ n'est pas vide, et lève une excpetion $ IndexError$ sinon</td>   \n",
    "</tr>\n",
    "</table>\n",
    "\n",
    "\n",
    "On propose de réaliser une telle file bornée à l’aide d’un tableau dont la taille est fixée à la création et  correspond à la capacité **`c`** de la file. \n",
    "\n",
    "Les éléments de la file sont stockés consécutivement à partir d’un indice premier correspondant à l’avant de la file, et le tableau est considéré comme circulaire : après la dernière case, les éléments reviennent à la première. Dans les schémas ci-dessous, un élément retiré  l’est  au niveau de l’indice premier, et un élément ajouté l’est à l’autre extrémité.\n",
    "![file_bornee.jpg](file_bornee2.jpg)\n",
    "\n",
    "Réaliser une telle structure à l'aide d’une classe ayant pour attributs le tableau fixe **`contenu`**, le nombre d’éléments **`nb`** dans la file bornée et l'indice du premier élement **`premier`**."
   ]
  },
  {
   "cell_type": "code",
   "execution_count": null,
   "metadata": {},
   "outputs": [],
   "source": []
  }
 ],
 "metadata": {
  "kernelspec": {
   "display_name": "Python 3",
   "language": "python",
   "name": "python3"
  },
  "language_info": {
   "codemirror_mode": {
    "name": "ipython",
    "version": 3
   },
   "file_extension": ".py",
   "mimetype": "text/x-python",
   "name": "python",
   "nbconvert_exporter": "python",
   "pygments_lexer": "ipython3",
   "version": "3.7.7"
  }
 },
 "nbformat": 4,
 "nbformat_minor": 4
}
