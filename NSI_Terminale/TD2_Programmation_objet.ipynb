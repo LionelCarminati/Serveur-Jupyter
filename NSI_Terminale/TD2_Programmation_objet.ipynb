{
 "cells": [
  {
   "cell_type": "markdown",
   "metadata": {},
   "source": [
    "# TD 2 : Programmation objet"
   ]
  },
  {
   "cell_type": "markdown",
   "metadata": {},
   "source": [
    "## Exercice 1 : Les fractions\n",
    "Définir une classe **`Fraction`** pour représenter un nombre rationnel.    \n",
    "Cette classe possède deux  attributs, **`num`** et **`denon`**,  qui sont  des entiers et désignent respectivement le numérateur et le dénominateur.    \n",
    "On demande que le dénominateur soit plus particulièrement un entier strictement positif.\n",
    "\n",
    "* Écrire le constructeur de cette classe. Le constructeur doit lever une ValueError si le dénominateur fourni n’est pas strictement positif.\n",
    "\n",
    "\n",
    "* Ajouter  une  méthode **`__str__`** qui  renvoie  une  chaîne  de  caractères de la forme \"\" 12 / 35\", ou simplement de la forme \"12\" lorsque le dénominateur vaut un.\n",
    "\n",
    "\n",
    "* Ajouter  des  méthodes **`__eq__`** et **`__lt__`** qui  reçoivent  une  deuxième fraction en argument et renvoient **`True`** si la première fraction représente respectivement un nombre égal ou un nombre strictement inférieur à la deuxième fraction.\n",
    "\n",
    "\n",
    "* Ajouter  des méthodes **`__add__`** et **`__mul__`** qui reçoivent  une deuxieme fraction en argument et renvoient une nouvelle fraction représentant respectivement la somme et le produit des deux fractions.   \n",
    "*Remarque* : ces méthodes spéciales permetant de redéfinir l'addition et la multiplication pour notre nouvelle structure de données. On parle de **Surcharge d'opérateur** (La surcharge permet à un opérateur de posséder un sens différent suivant le type de ses opérandes).\n",
    "\n",
    "\n",
    "* Tester ces opérations.\n",
    "\n",
    "Bonus : s’assurer que les fractions sont toujours sous forme réduite.\n"
   ]
  },
  {
   "cell_type": "code",
   "execution_count": null,
   "metadata": {},
   "outputs": [],
   "source": []
  },
  {
   "cell_type": "markdown",
   "metadata": {},
   "source": [
    "## Exercice 2 : Les intervalles\n",
    "Définir une classe **`Intervalle`** représentant des intervalles de nombres.    \n",
    "Cette classe possède deux attributs **`a`** et **`b`** représentant respectivement l’extrémité inférieure et l’extrémité supérieure de l'intervalle. Les deux extrémités sont considérées comme incluses dans l’intervalle.     \n",
    "Tout intervalle avec **b < a** représente l’intervalle vide.\n",
    "\n",
    "* Écrire  le  constructeur  de  la  classe  **`Intervalle`**  et une méthode  **`est_vide`** renvoyant **`True`** si l'objet représente l'intervalle vide et **`False`** sinon.\n",
    "\n",
    "\n",
    "* Ajouter des méthodes **`__len__`** renvoyant la longueur de l’intervalle (l’intervalle vide a une longueur 0)  et  **`__contains__`** testant l’appartenance d’un élément **`x`** à l’intervalle.\n",
    "\n",
    "\n",
    "* Ajouter une méthode **`__eq__`** permettant de tester l’égalité de deux intervalles avec **`==`** et une méthode **`__le__`** permettant de tester l’inclusion d’un intervalle dans un autre avec **`<=`**.    \n",
    "*Attention : toutes les représentations de l’intervalle vide doivent être considérées ega1es, et incluses dans tout intervalle.*\n",
    "\n",
    "\n",
    "* Ajouter des méthodes **`intersection`**  et **`union`** calculant  respectivement l’intersection de deux intervalles et le plus petit intervalle contenant l’union de deux intervalles (l’intersection est bien toujours un intervalle, alors que l’union ne l’est pas forcément). Ces deux fonctions doivent renvoyer un nouvel intervalle sans modifier leurs paramètres.\n",
    "\n",
    "\n",
    "* Tester ces méthodes.\n"
   ]
  },
  {
   "cell_type": "code",
   "execution_count": null,
   "metadata": {},
   "outputs": [],
   "source": []
  },
  {
   "cell_type": "markdown",
   "metadata": {},
   "source": [
    "## Exercice 3 : Les angles\n",
    "Définir une classe **`Angle`** pour représenter un angle en degrés. Cette classe contient un unique attribut, **`angle`**, qui est un entier.  On  demande que, quoiqu’il arrive, l’égalité $ 0 \\leq angle \\le 360$ reste verifiée.\n",
    "\n",
    "* Écrire le constructeur de cette classe.\n",
    "\n",
    "\n",
    "* Ajouter  une méthode  **`__str__`** qui renvoie  une chaîne de caractères de la forme *\"60 degrés \"*. Observer  son effet  en  construisant  un  objet  de la classe **`Angle`** puis en l’afhchant avec **`print`**.\n",
    "\n",
    "\n",
    "* Ajouter une méthode **`ajoute`** qui  reçoit un autre angle en argument (un objet de la classe **`Angle`**) et l’ajoute au champ angle de l’objet. Attention à ce que la valeur d’angle reste bien dans le bon intervalle.\n",
    "\n",
    "\n",
    "* Ajouter deux méthodes **`cos`** et **`sin`** pour calculer respectivement le cosinus et le sinus de l’angle. On utilisera pour cela les fonctions **`cos`** et **`sin`** de la bibliothèque **`math`**.    \n",
    "*Attention : il faut convertir l’angle en radians (en le multipliant par x/180) avant d’appeler les fonctions cos et sin.*\n",
    "\n",
    "\n",
    "•\tTester les méthodes **`ajoute`**, **`cos`** et **`sin`**.\n"
   ]
  },
  {
   "cell_type": "code",
   "execution_count": null,
   "metadata": {},
   "outputs": [],
   "source": []
  },
  {
   "cell_type": "markdown",
   "metadata": {},
   "source": [
    "## Exercice 4 : Les dates\n",
    "Définir une classe **`Date`** pour représenter une date, avec trois attributs **`jour`**, **`mois`** et **`annee`**.\n",
    "\n",
    "* Écrire son constructeur.\n",
    "\n",
    "\n",
    "* Ajouter  une méthode **`__str__`** qui renvoie  une chaîne de caractères  de la forme \"14 juillet  1785 ”. On  pourra  se  servir  d’un  attribut  de  classe qui est un tableau donnant les noms des douze mois de l’année. Tester en construisant des objets de la classe **`Date`** puis en les afhchant avec **`print`**.\n",
    "\n",
    "\n",
    "* Ajouter  une méthode **`__lt__`** qui permet  de déterminer si une date **`d1`**  est antérieure à une date **`d2`** en écrivant $d1 \\le d2$. La tester.\n"
   ]
  },
  {
   "cell_type": "code",
   "execution_count": null,
   "metadata": {},
   "outputs": [],
   "source": []
  },
  {
   "cell_type": "markdown",
   "metadata": {},
   "source": [
    "## Exercice 5 : Indexage d'un tableau\n",
    "Dans certains langages de programmation, comme Pascal ou Ada, les tableaux ne sont pas nécessairement indexés à partir de **0**. C’est le programmeur qui choisit sa plage d’indices. Par exemple, on peut déclarer un tableau dont les indices vont de **— 10** à **9** si on le souhaite.   \n",
    "\n",
    "Dans cet exercice, on se propose de construire une classe **`Tableau`** pour réaliser de tels tableaux.    \n",
    "Un objet de cette classe aura deux attributs, un attribut **`premier`** qui est la valeur de premier indice et un attribut **`contenu`** qui est un tableau Python contenant les éléments. Ce dernier est un vrai tableau Python, indexé à partir de 0.\n",
    "\n",
    "* Écrire un consructeur **`__init__(self, imin, imax, v)`** ou **`imin`** est le premier  indice, **`imax`** le dernier indice et **`v`** la valeur utilisée pour initialiser  toutes  les cases du tableau. Ainsi,  on peut  écrire **`t = Tableau(-10, 9, 42)`** pour construire un tableau de vingt cases, indexées de **—10** à **9** et toutes initialisées avec la valeur **42**.\n",
    "\n",
    "\n",
    "* Écrire une méthode **`__len__`** qui renvoie la taille du tableau.\n",
    "\n",
    "\n",
    "* Écrire une méthode **`__getitem__(self, i)`** qui renvoie l’élément du tableau **`selfr`** d’indice**`i`** .\tDe même, écrire\tune\tméthode **`__setitem__(self , i , v)`** qui modifie l’élément  du  tableau  **`self`** d’indice **`i`** pour lui donner la valeur **`v`**. Ces deux méthodes doivent vérifier que l’indice **`i`** est bien valide et, dans le cas contraire, lever l’exception **`IndexError`** avec la valeur de **`i`** en argument (c’est-à-dire **`raise IndexError(i)`**).\n",
    "\n",
    "\n",
    "* Enfin, écrire une méthode **`__str__`** qui renvoie une chaîne de caractères décrivant le contenu du tableau.\n"
   ]
  },
  {
   "cell_type": "code",
   "execution_count": null,
   "metadata": {},
   "outputs": [],
   "source": []
  },
  {
   "cell_type": "markdown",
   "metadata": {},
   "source": [
    "## Exercice 6 : Tableaux bidirectionnels\n",
    "On veut définir une classe **`TabBiDir`** pour des tableaux bidirectionnels, dont une partie des éléments ont des indices positifs et une partie des éléments ont des indices négatifs, et  qui sont  extensibles  aussi  bien  par la gauche que par la droite.    \n",
    "Plus précisément, les indices d’un tel tableau bidirectionnel vont aller d’un indice $i_\\min$  à un  indice $i_\\max$,  tous deux  inclus, et  tels que $i_\\min \\leq 0$ et $-1 \\leq i_\\max$.    \n",
    "\n",
    "Le tableau  bidirectionnel vide correspond au cas où $i_\\min$ vaut $0$ et $i_\\max$ vaut $-1$.\n",
    "\n",
    "La classe **`TabBiDir`** a pour attributs deux tableaux Python : un tableau **`droite`** contenant l’élément d’indice **`0`** et les autres éléments d’indices positifs, et un tableau **`gauche`** tel que **`gauche[0]`** contient l’élément d’indice $-1$ du tableau bidirectionnel, et **`gauche[1]`** , **`gauche[2]`**, etc. contiennent les éléments d’indices négatifs suivants en progressant vers la gauche.\n",
    "\n",
    "* Écrire  un  constructeur **`__init__(self, g, d)`** construisant un tableau bidirectionnel contenant, dans l’ordre, les éléments des tableaux **`g`** et **`d`**. Le dernier élément de **`g`** (si **`g`** n'est  pas vide), devra être calé sur l’indice $-1$ du tableau bidirectionnel, et le premier élément de **`d`** (si **`d`** n'est pas vide) sur l’indice $0$. Écrire également des méthodes **`imin(self)`** et **`imax(self)`**  renvoyant  respectivement  l’indice  minimum et l’indice maximum.\n",
    "\n",
    "\n",
    "* Ajouter une méthode **`append(self, v)`**, qui comme son homonyme des tableaux Python ajoute l’élément **`v`** à droite du tableau bidirectionnel **`self`**, et une méthode **`prepend(self, v)`** ajoutant  cette  fois l’élément **`v`** à gauche du tableau bidirectiorrel **`self`**. Utiliser **`append`** sur un tableau bidirectionnel vide place l’élément à l’indice $0$. Utiliser **`prepend`** sur un tableau bidirectionnel vide place l’élément à l’indice $-1$.\n",
    "\n",
    "* Ajouter\tune\tméthode\t**`__getitem(self, i)`** renvoie l’élément du tableau bidirectionnel **`self`** à l’indice **`i`**,\tet une méthode **`__setitem__(self, i, v)`** qui modifie l’élément du tableau **`self`** d’indice **`i`** pour lui donner la valeur **`v`**.\n",
    "\n",
    "\n",
    "* Ajouter une méthode **`__str__(self)`** qui renvoie  une chaine de caractères décrivant le contenu du tableau.\n"
   ]
  },
  {
   "cell_type": "code",
   "execution_count": null,
   "metadata": {},
   "outputs": [],
   "source": []
  },
  {
   "cell_type": "markdown",
   "metadata": {},
   "source": [
    "## Exercice 7\n",
    "Reprendre les tableaux redimensionnables de l'exercice 3 du TD 1, et les réaliser à l’aide d’une classe plutot qu’à l’aide d’un triplet nommé."
   ]
  },
  {
   "cell_type": "code",
   "execution_count": null,
   "metadata": {},
   "outputs": [],
   "source": []
  }
 ],
 "metadata": {
  "kernelspec": {
   "display_name": "Python 3",
   "language": "python",
   "name": "python3"
  },
  "language_info": {
   "codemirror_mode": {
    "name": "ipython",
    "version": 3
   },
   "file_extension": ".py",
   "mimetype": "text/x-python",
   "name": "python",
   "nbconvert_exporter": "python",
   "pygments_lexer": "ipython3",
   "version": "3.7.7"
  }
 },
 "nbformat": 4,
 "nbformat_minor": 4
}
