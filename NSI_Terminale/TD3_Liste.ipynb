{
 "cells": [
  {
   "cell_type": "markdown",
   "metadata": {},
   "source": [
    "# TD 3 : La structure de Liste"
   ]
  },
  {
   "cell_type": "markdown",
   "metadata": {},
   "source": [
    "On importera la module Liste créé en cours. Il faudra pour cela qu'il soit dans le même répertoire que le TD."
   ]
  },
  {
   "cell_type": "markdown",
   "metadata": {},
   "source": [
    "## Exercice 1 : Liste d'entier\n",
    "Écrire une fonction **`listeN(n)`** qui reçoit en argument un entier  **`n`**, supposé  positif ou nul, et renvoie  la  liste  des  entiers  1, 2, 3, ..., n dans cet  ordre. Si  n =  0,  la liste renvoyée est vide.\n"
   ]
  },
  {
   "cell_type": "code",
   "execution_count": null,
   "metadata": {},
   "outputs": [],
   "source": []
  },
  {
   "cell_type": "markdown",
   "metadata": {},
   "source": [
    "## Exercice 2 : Affichage de Liste\n",
    "Écrire une fonction **`affiche_liste(lst)`**  qui affiche, en utilisant la fonction **`print`**, tous les éléments de la liste **`lst`** séparés par des espaces, suivis d'un retour chariot. L’écrire comme une fonction récursive, puis avec une boucle **`while`**."
   ]
  },
  {
   "cell_type": "code",
   "execution_count": null,
   "metadata": {},
   "outputs": [],
   "source": []
  },
  {
   "cell_type": "code",
   "execution_count": null,
   "metadata": {},
   "outputs": [],
   "source": []
  },
  {
   "cell_type": "markdown",
   "metadata": {},
   "source": [
    "## Exercice 3 : Fonction n_ieme élément version itérative\n",
    "Réécrire la fonction **`nieme_element`** (programme 4 du cours) avec une boucle **`while`**."
   ]
  },
  {
   "cell_type": "code",
   "execution_count": null,
   "metadata": {},
   "outputs": [],
   "source": []
  },
  {
   "cell_type": "markdown",
   "metadata": {},
   "source": [
    "## Exercice 4 : Compter les occurences\n",
    "Écrire une fonction **`occurrences(x , lst)`** qui  renvoie  le nombre d’occurrences de la valeur **`x`** dans la liste **`lst`**. L’écrire comme une fonction récursive,  puis avec une boucle **`while`**."
   ]
  },
  {
   "cell_type": "code",
   "execution_count": null,
   "metadata": {},
   "outputs": [],
   "source": []
  },
  {
   "cell_type": "code",
   "execution_count": null,
   "metadata": {},
   "outputs": [],
   "source": []
  },
  {
   "cell_type": "markdown",
   "metadata": {},
   "source": [
    "## Exercice 5 : Chercher dans une liste\n",
    "Écrire une fonction **`trouve(x, lst)`** qui renvoie le rang de la première occurrence de **`x`** dans la liste **`lst`**, le cas échéant, et **`None`** sinon. L’écrire comme une fonction récursive,  puis avec une boucle **`while`**."
   ]
  },
  {
   "cell_type": "code",
   "execution_count": null,
   "metadata": {},
   "outputs": [],
   "source": []
  },
  {
   "cell_type": "code",
   "execution_count": null,
   "metadata": {},
   "outputs": [],
   "source": []
  },
  {
   "cell_type": "markdown",
   "metadata": {},
   "source": [
    "## Exercice 6 : Concaténer et renverser\n",
    "Écrire une fonction récursive **`concatener_inverse(l1, l2)`** qui renvoie le même résultat que **`concatener(renverser(l1), l2)`** , mais sans appeler ces deux fonctions.\n",
    "\n",
    "En déduire une  fonction  **`renverser`** utilisant la fonction précédente et qui  a même complexité  que  celle du programme 5 du cours. Il s'agira donc d'une version récursive de la fonction **`renverser`**, de même complexité que la version itérative."
   ]
  },
  {
   "cell_type": "code",
   "execution_count": null,
   "metadata": {},
   "outputs": [],
   "source": []
  },
  {
   "cell_type": "code",
   "execution_count": null,
   "metadata": {},
   "outputs": [],
   "source": []
  },
  {
   "cell_type": "markdown",
   "metadata": {},
   "source": [
    "## Exercice7 : Listes identiques\n",
    "Écrire une fonction **`identiques(l1, l2)`** qui renvoie un booléen indiquant si les listes **`ll`** et **`l2`** sont identiques, c’est-à-dire contiennent exactement les  memes éléments, dans le même ordre.     \n",
    "On suppose que l’on peut comparer les éléments de **`ll`** et **`l2`** avec l’egalité **`==`** de Python.\n"
   ]
  },
  {
   "cell_type": "code",
   "execution_count": null,
   "metadata": {},
   "outputs": [],
   "source": []
  },
  {
   "cell_type": "markdown",
   "metadata": {},
   "source": [
    "## Exercice 8 : Insertion dans une liste triée\n",
    "Écrire une fonction **`inserer(x, lst)`** qui prend en arguments un entier **`x`** et une liste d’entiers **`lst`**, *supposée triée par ordre croissant*, et qui renvoie une nouvelle liste dans laquelle **`x`** a été inséré à sa place.   \n",
    "Insérer la valeur 3 dans la liste 1, 2, 5, 8 renvoie la liste 1, 2, 3, 5, 8. \n",
    "\n",
    "On suggère d’écrire  **`inserer`**  comme  une fonction récursive.\n"
   ]
  },
  {
   "cell_type": "code",
   "execution_count": null,
   "metadata": {},
   "outputs": [],
   "source": []
  },
  {
   "cell_type": "markdown",
   "metadata": {},
   "source": [
    "## Exercice 9 : Tri par insertion d'une liste\n",
    "En  se  servant  de  l’exercice  précédent,  écrire  une   fonction  **`tri_par_insertion(lst)`**  qui  prend  en  argument   une   liste   d’entiers **`lst`** et renvoie une *nouvelle liste*, contenant les mêmes éléments et triee par ordre croissant. \n",
    "\n",
    "On suggère de l'écrire comme une fonction récursive."
   ]
  },
  {
   "cell_type": "code",
   "execution_count": null,
   "metadata": {},
   "outputs": [],
   "source": []
  },
  {
   "cell_type": "markdown",
   "metadata": {},
   "source": [
    "## Exercice 10 : Tableau en liste\n",
    "Écrire une fonction **`tableau_en_liste(t)`** qui renvoie une liste qui contient les éléments du tableau **`t`**, *dans le meme ordre*. \n",
    "\n",
    "On suggère de l’écrire avec une boucle **`for`**."
   ]
  },
  {
   "cell_type": "code",
   "execution_count": null,
   "metadata": {},
   "outputs": [],
   "source": []
  },
  {
   "cell_type": "markdown",
   "metadata": {},
   "source": [
    "## Exercice 11 : Accès à la dernière cellule\n",
    "Écrire  une  fonction  **`dernière_cellule(lst)`** qui  renvoie la\n",
    "dernière  cellule de la  liste **`lst`**. On suppose la liste **`lst`** est non vide."
   ]
  },
  {
   "cell_type": "code",
   "execution_count": null,
   "metadata": {},
   "outputs": [],
   "source": []
  },
  {
   "cell_type": "markdown",
   "metadata": {},
   "source": [
    "## Exercice 12 : Concaténation en place\n",
    "En utilisant la fonction de l’exercice précédent, écrire une fonction, **`concatener_en_place(l1, l2)`**, qui réalise une concaténation en place des listes **`l1`** et **`l2`**, c’est-à-dire qui relie la dernière cellule de **`l1`** à la première cellule de **`l2`**. Cette fonction doit renvoyer la toute première cellule de la concaténation."
   ]
  },
  {
   "cell_type": "code",
   "execution_count": null,
   "metadata": {},
   "outputs": [],
   "source": []
  },
  {
   "cell_type": "markdown",
   "metadata": {},
   "source": [
    "## Exerice 12 : Représentation alternative des listes\n",
    "D’autres représentations des listes chaînées sont possibles. Plutot qu’un objet de la classe Cellule, on pourrait utiliser un couple, et dans ce cas écrire (1, (2, (3, None))), ou encore un tableau à deux éléments, et dans ce cas écrire **`[1, [2, [3, None]]]`**.\n",
    "\n",
    "Nous allons, dans cet exercice, étudier la première représentation.\n",
    "La fonction suivante définit, en Python, une liste chaînée.\n",
    "```Python\n",
    "def liste_ch(*args):\n",
    "    # les arguments passés en parametre sont paquetes dans args qui se comporte comme un tuple\n",
    "    liste = None\n",
    "    for valeur in reversed(args): # On parcours le tuple arg qui\n",
    "    # contient les arguments de la fonction à l'envers\n",
    "        liste = (valeur,liste)\n",
    "    return liste\n",
    "```\n",
    "Pour créer une liste, il suffit alors de taper par exemple : \n",
    "```Python \n",
    "lst = liste_ch(2,8,3,5,4)\n",
    "```\n",
    "On crée ainsi l'objet **`(2, (8, (3, (5, (4, None))))`**\n",
    "\n",
    "1. Écrire une fonction **`tete`** qui renvoie la tête de la lsite, c'est-à-dire le premier élément de la liste si elle est non vide et **`None`** sinon, aisni qu'une fonction **`queue`** qui renvoie la queue de la liste, c'est-à-dire le reste de la liste sans le premier élément.\n",
    "2. Écrire une fonction **`ajoute`** qui prend en paramètre une élément **`x`** et une liste **`lst`** et ajoute cet élément au début de la liste et une fonction **`supprime`** qui enlève l'élément en tête de liste et le renvoie.\n",
    "3. En numérotant les éléments de la liste chaînée à partir de 0 pour le premier élément, écrire une fonction **`nieme_element`** qui prend en paramètre un entier **`n`** et une liste **`lst`** et renvoie l'élement de rang **`n`** de la liste.\n",
    "4. Écrire une fonction **`longueur`** qui rpend en paramètre une liste **`lst`** et renvoie sa longueur."
   ]
  },
  {
   "cell_type": "code",
   "execution_count": null,
   "metadata": {},
   "outputs": [],
   "source": []
  }
 ],
 "metadata": {
  "kernelspec": {
   "display_name": "Python 3",
   "language": "python",
   "name": "python3"
  },
  "language_info": {
   "codemirror_mode": {
    "name": "ipython",
    "version": 3
   },
   "file_extension": ".py",
   "mimetype": "text/x-python",
   "name": "python",
   "nbconvert_exporter": "python",
   "pygments_lexer": "ipython3",
   "version": "3.7.7"
  }
 },
 "nbformat": 4,
 "nbformat_minor": 4
}
