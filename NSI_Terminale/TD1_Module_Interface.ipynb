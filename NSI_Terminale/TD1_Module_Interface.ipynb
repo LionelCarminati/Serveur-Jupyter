{
 "cells": [
  {
   "cell_type": "markdown",
   "metadata": {},
   "source": [
    "<h1 style=\"color:red\"> TD 1 : Module, Interface et Implémentation</h1>"
   ]
  },
  {
   "cell_type": "markdown",
   "metadata": {},
   "source": [
    "<h2 style=\"color:blue\"> Exercice 1 : Retour sur l'interface \"Ensemble de dates\"</h2>\n",
    "\n",
    "1. Écrire un module réalisant l'interface \"Ensemble de dates\" du cours suivant la stratégie du **programme 1** du cours.   \n",
    "Enregistrez-le à partir d'un éditeur dans le même répertoire que le TD sous le nom **dates1.py**."
   ]
  },
  {
   "cell_type": "code",
   "execution_count": null,
   "metadata": {},
   "outputs": [],
   "source": []
  },
  {
   "cell_type": "markdown",
   "metadata": {},
   "source": [
    "2. Écrire un module réalisant l'interface \"Ensemble de dates\" du cours suivant la stratégie du **programme 3** du cours. _Attention : Pour que la fonction **`ajoute`** fonctionne, il faut pouvoir modifier l'ensemble._\n",
    "Enregistrez-le dans le même répertoire que le TD sous le nom **dates3.py**."
   ]
  },
  {
   "cell_type": "code",
   "execution_count": null,
   "metadata": {},
   "outputs": [],
   "source": []
  },
  {
   "cell_type": "markdown",
   "metadata": {},
   "source": [
    "3. Supposons que l'on veuille ajouter à l'interface *_\"Ensemble de dates\"_* du cours la fonction **`enumere`** (déjà présente par exemple dans le **programme 9** du cours).   \n",
    "Adapter le module du **programme 6** du cours pour qu'il réalise cette interface étendue.\n",
    "\n",
    "    **Indication** : Comme dans le **programme 9**, on construira un tableau que l’on agrandit à chaque élément trouvé. On teste alors chaque bit de chacun des entiers du tableau, et on calcule le nombre correspondant lorsque nécessaire."
   ]
  },
  {
   "cell_type": "code",
   "execution_count": null,
   "metadata": {},
   "outputs": [],
   "source": []
  },
  {
   "cell_type": "markdown",
   "metadata": {},
   "source": [
    "4. Supposons maintenant que l'on veuille ajouter à l'interface *_\"Ensemble de dates\"_* du cours, les deux fonctions d'union et d'intersection suivantes. \n",
    "\n",
    "<table style=\"border:1px solid black;\">\n",
    "<tr style=\"border:1px solid black;\">\n",
    "    <th style=\"text-align:center;\">Fonction</th>\n",
    "    <th style=\"text-align:center;\">Description</th>    \n",
    "</tr>\n",
    "<tr>\n",
    "    <td style=\"text-align:justify;font-weight:bold;\">union(s1, s2)</td>\n",
    "    <td style=\"text-align:justify;\">renvoie un nouvel ensemble composé de l'union des éléments de $s1$ et $s2$</td>   \n",
    "</tr>\n",
    "<tr>\n",
    "    <td style=\"text-align:justify;font-weight:bold;\">intersection(s1, s2)</td>\n",
    "    <td style=\"text-align:justify;\">renvoie un nouvel ensemble composé de l'intersection des éléments de $s1$ et $s2$</td>   \n",
    "</tr>\n",
    "</table>\n",
    "\n",
    "Précisons que ces fonctions ne doivent pas modifier les ensembles `s1`et `s2`passés en paramètres et que, dans le cas de l'union, il ne doit pas y avoir de doublons.\n",
    "   "
   ]
  },
  {
   "cell_type": "markdown",
   "metadata": {},
   "source": [
    "   4.1 Réaliser ces fonctions dans le module de la **question 1**."
   ]
  },
  {
   "cell_type": "code",
   "execution_count": null,
   "metadata": {},
   "outputs": [],
   "source": []
  },
  {
   "cell_type": "markdown",
   "metadata": {},
   "source": [
    "4.2 Réaliser ces fonctions dans le module de la **question 3** (**programme 6**)."
   ]
  },
  {
   "cell_type": "code",
   "execution_count": null,
   "metadata": {},
   "outputs": [],
   "source": []
  },
  {
   "cell_type": "markdown",
   "metadata": {},
   "source": [
    "<h2 style=\"color:blue\"> Exercice 2 : Manipulation de tableaux</h2>\n",
    "\n",
    "L'interface des tableaux en Python fournit de nombreuses opérations à l'allure anodine mais cachant une complexité non négligeable. Rien de tel que de réaliser soi-même ces fonctions pour s'en rendre compte.\n",
    "\n",
    "Sans utiliser les opérations `+` et `t[i:j]`, écrire un module réalisant l'interface suivante :\n",
    "<table style=\"border:1px solid black;\">\n",
    "<tr style=\"border:1px solid black;\">\n",
    "    <th style=\"text-align:center;\">Fonction</th>\n",
    "    <th style=\"text-align:center;\">Description</th>    \n",
    "</tr>\n",
    "<tr>\n",
    "    <td style=\"text-align:justify;font-weight:bold;\">tranche(t, i, j)</td>\n",
    "    <td style=\"text-align:justify;\">renvoie un nouveau tableau contenant les éléments du tableau $t$ de l'indice i inclus à l'indice j exclus (et le tableau vide si $j \\leq i$)</td>   \n",
    "</tr>\n",
    "<tr>\n",
    "    <td style=\"text-align:justify;font-weight:bold;\">concatenation(t1, t2)</td>\n",
    "    <td style=\"text-align:justify;\">renvoie un nouveau tableau contenant dans l'odre les éléments de $t1$ puis les éléments de $t2$</td>   \n",
    "</tr>\n",
    "</table>\n",
    "\n",
    "Notez qu'aucune de ces fonctions ne doit modifier les tableaux passés en paramètres."
   ]
  },
  {
   "cell_type": "code",
   "execution_count": null,
   "metadata": {},
   "outputs": [],
   "source": []
  },
  {
   "cell_type": "markdown",
   "metadata": {},
   "source": [
    "<h2 style=\"color:blue\"> Exercice 3 : Structure de tableaux redimensionnables</h2>\n",
    "\n",
    "Le tableaux en Python sont redimensionnables (type list) : leur nombre d'éléments peut augmenter au fil du temps, par exemple avec des opérations comme **`append`**.   \n",
    "L'objectif de cet exercice est de définir un module réalisant une interface de tableau redimensionnable, mais sans utiliser les capacités  de redimensionnement natives des tableaux Python (des listes).\n",
    "Voici une interface minimale pour une structure de tableau redimensionnable.\n",
    "\n",
    "<table style=\"border:1px solid black;\">\n",
    "<tr style=\"border:1px solid black;\">\n",
    "    <th style=\"text-align:center;\">Fonction</th>\n",
    "    <th style=\"text-align:center;\">Description</th>    \n",
    "</tr>\n",
    "<tr>\n",
    "    <td style=\"text-align:justify;font-weight:bold;\">cree()\n",
    "    </td>\n",
    "    <td style=\"text-align:justify;\">crée et renvoie un tableau vide\n",
    "    </td>   \n",
    "</tr>\n",
    "<tr>\n",
    "    <td style=\"text-align:justify;font-weight:bold;\">lit(tr, i)\n",
    "    </td>\n",
    "    <td style=\"text-align:justify;\">renvoie l'élément de $tr$ à l'indice $i$\n",
    "    </td>   \n",
    "</tr>\n",
    "    <tr>\n",
    "    <td style=\"text-align:justify;font-weight:bold;\">ecrit(tr, i, x),\n",
    "    </td>\n",
    "    <td style=\"text-align:justify;\">place la valeur $x$ dans la case d'indice $i$ du tableau $tr$\n",
    "    </td>   \n",
    "</tr>\n",
    "    <tr>\n",
    "    <td style=\"text-align:justify;font-weight:bold;\">ajoute(tr, x)\n",
    "    </td>\n",
    "    <td style=\"text-align:justify;\">ajoute le nouvel élément $x$ au tableau $tr$, après ses éléments actuels\n",
    "    </td>   \n",
    "</tr>\n",
    "</table>\n",
    "\n",
    "Notez que ces opérations sont équivalentes aux opérations `[]`, `tr[i]`, `tr[i] = x` et `tr.append(x)` des listes de Python.\n",
    "\n",
    "Pour réaliser cette interface, on va représenter un tableau redimensionnable `tr`de `n`éléments par une paire nommée (réalisée par un dictionnaire contenant deux clés) contenant d'une part ce nombre `n` et d'autre part un tableau Python (liste) `t` dont la longueur est supérieure ou égale à `n`.   \n",
    "Le nombre `n`sera appelé la **taille** de `tr` et la longueur de `t` sa **capacité**.   \n",
    "Les `n` éléments sont stockés dans les cases d'indices `0` à `n-1` du tableau `t`, tandis que les cases suivantes contiennent `None`.\n",
    "\n",
    "1. Écrire une fonction `cree()`créant et renvoyant un tableau redimentionnable de taille `0` et de capacité `8`."
   ]
  },
  {
   "cell_type": "code",
   "execution_count": null,
   "metadata": {},
   "outputs": [],
   "source": []
  },
  {
   "cell_type": "markdown",
   "metadata": {},
   "source": [
    "2. Écrire deux fonctions `lit(tr,i)`et `ecrit(tr,i,x)` telles que décrites dans l'interface, en supposant que l'indice `i` fourni est bien compris entre `0` inclus et la taille de `tr` exclue."
   ]
  },
  {
   "cell_type": "code",
   "execution_count": null,
   "metadata": {},
   "outputs": [],
   "source": []
  },
  {
   "cell_type": "markdown",
   "metadata": {},
   "source": [
    "3. La fonction `ajoute`.\n",
    "\n",
    "3.1 Écrire une fonction `_ajoute_aux(tr, x)`qui ajoute l'élément `x` à la fin du tableau redimensionnable `tr`, en supposant que la cpacité de ce dernier est suffisante."
   ]
  },
  {
   "cell_type": "code",
   "execution_count": null,
   "metadata": {},
   "outputs": [],
   "source": []
  },
  {
   "cell_type": "markdown",
   "metadata": {},
   "source": [
    "3.2 Écrire une fonction `_double(tr)`qui double la capacité du tableau redimensionnable `tr`, en conservant ses éléments."
   ]
  },
  {
   "cell_type": "code",
   "execution_count": null,
   "metadata": {},
   "outputs": [],
   "source": []
  },
  {
   "cell_type": "markdown",
   "metadata": {},
   "source": [
    "3.3 En déduire une fonction `ajoute(tr, x)`telle que décrite dans l'interface. Cette fonction doit doubler la capacité du tableau redimensionnable lorsqu'il ne peut accueillir de nouvel élément."
   ]
  },
  {
   "cell_type": "code",
   "execution_count": null,
   "metadata": {},
   "outputs": [],
   "source": []
  },
  {
   "cell_type": "markdown",
   "metadata": {},
   "source": [
    "_Remarque_ : Vous pouvez aussi ajouter des fonctions reproduisant les fonctions Python `pop`, `del`, `insert`, `extend`."
   ]
  },
  {
   "cell_type": "markdown",
   "metadata": {},
   "source": [
    "<h2 style=\"color:blue\"> Exercice 4 : Structure de dictionnaire</h2>\n",
    "\n",
    "Voici une interface minimale pour une structure de dictionnaire.\n",
    "\n",
    "<table style=\"border:1px solid black;\">\n",
    "<tr style=\"border:1px solid black;\">\n",
    "    <th style=\"text-align:center;\">Fonction</th>\n",
    "    <th style=\"text-align:center;\">Description</th>    \n",
    "</tr>\n",
    "<tr>\n",
    "    <td style=\"text-align:justify;font-weight:bold;\">cree()\n",
    "    </td>\n",
    "    <td style=\"text-align:justify;\">crée et renvoie un dictionnaire vide\n",
    "    </td>   \n",
    "</tr>\n",
    "<tr>\n",
    "    <td style=\"text-align:justify;font-weight:bold;\">cle(d, k)\n",
    "    </td>\n",
    "    <td style=\"text-align:justify;\">renvoie $True$ si et seulement si le dictionnaire $d$ contient la clé $k$\n",
    "    </td>   \n",
    "</tr>\n",
    "    <tr>\n",
    "    <td style=\"text-align:justify;font-weight:bold;\">lit(d, k),\n",
    "    </td>\n",
    "    <td style=\"text-align:justify;\">renvoie la valeur associée à la clé $k$ dans le dictionnaire $d$, et $None$ si la clé $k$ n'appartient pas\n",
    "    </td>   \n",
    "</tr>\n",
    "    <tr>\n",
    "    <td style=\"text-align:justify;font-weight:bold;\">ecrit(d, k, v)\n",
    "    </td>\n",
    "    <td style=\"text-align:justify;\">ajoute au dictionnaire $d$ l'association entre la clé $k$ et la valeur $v$, en remplaçant une éventuelle association déjà présente pour $k$\n",
    "    </td>   \n",
    "</tr>\n",
    "</table>\n",
    "\n",
    "On propose de réaliser cette interface de dictionnaire avec un tableau de couples (tuple) clé-valeur, en faisant en sorte qu'aucune clé n'apparaisse deux fois.\n",
    "1. Écrire un module réalisant cela"
   ]
  },
  {
   "cell_type": "code",
   "execution_count": null,
   "metadata": {},
   "outputs": [],
   "source": []
  },
  {
   "cell_type": "markdown",
   "metadata": {},
   "source": [
    "2. La description de l'une des quatre fonctions de notre interface ne correspond pas exactement à l'opération équivalente des dictionnaires de Python. Laquelle ?    \n",
    "Quelle expérience faire pour le confirmer ?    \n",
    "Corriger la description pour se rapprocher de celle de Python et adapter la réalisation."
   ]
  },
  {
   "cell_type": "markdown",
   "metadata": {},
   "source": []
  },
  {
   "cell_type": "code",
   "execution_count": null,
   "metadata": {},
   "outputs": [],
   "source": []
  }
 ],
 "metadata": {
  "kernelspec": {
   "display_name": "Python 3",
   "language": "python",
   "name": "python3"
  },
  "language_info": {
   "codemirror_mode": {
    "name": "ipython",
    "version": 3
   },
   "file_extension": ".py",
   "mimetype": "text/x-python",
   "name": "python",
   "nbconvert_exporter": "python",
   "pygments_lexer": "ipython3",
   "version": "3.7.9"
  }
 },
 "nbformat": 4,
 "nbformat_minor": 4
}
