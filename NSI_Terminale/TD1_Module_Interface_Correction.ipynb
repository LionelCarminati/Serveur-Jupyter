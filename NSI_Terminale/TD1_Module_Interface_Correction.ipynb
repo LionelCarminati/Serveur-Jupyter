{
 "cells": [
  {
   "cell_type": "markdown",
   "metadata": {},
   "source": [
    "<h1 style=\"color:red\"> TD 1 : Module, Interface et Implémentation</h1>"
   ]
  },
  {
   "cell_type": "markdown",
   "metadata": {},
   "source": [
    "<h2 style=\"color:blue\"> Exercice 1 : Retour sur l'interface \"Ensemble de dates\"</h2>\n",
    "\n",
    "1. Écrire un module réalisant l'interface \"Ensemble de dates\" du cours suivant la stratégie du **programme 1** du cours.   \n",
    "Enregistrez-le à partir d'un éditeur dans le même répertoire que le TD sous le nom **dates1.py**."
   ]
  },
  {
   "cell_type": "code",
   "execution_count": null,
   "metadata": {},
   "outputs": [],
   "source": [
    "def cree():\n",
    "    return []\n",
    "\n",
    "def contient(s,x):\n",
    "    return x in s\n",
    "\n",
    "def ajoute(s,x):\n",
    "    s.append(x)"
   ]
  },
  {
   "cell_type": "markdown",
   "metadata": {},
   "source": [
    "2. Écrire un module réalisant l'interface \"Ensemble de dates\" du cours suivant la stratégie du **programme 3** du cours. _Attention : Pour que la fonction **`ajoute`** fonctionne, il faut pouvoir modifier l'ensemble._\n",
    "Enregistrez-le dans le même répertoire que le TD sous le nom **dates3.py**."
   ]
  },
  {
   "cell_type": "markdown",
   "metadata": {},
   "source": [
    "**Attention** : Pour permettre la modification de l'entier représentant l'ensemble, celui-ci doit être contenu dans une structure mutable. Par exemple un singleton (« 1-uplet ») nommé implémenté par un dictionnaire a une clé..\n"
   ]
  },
  {
   "cell_type": "code",
   "execution_count": null,
   "metadata": {},
   "outputs": [],
   "source": [
    "def cree():\n",
    "    return {'n':0}\n",
    "\n",
    "def contient(s,x):\n",
    "    return s['n'] & (1<<x) != 0\n",
    "\n",
    "def ajoute(s,x):\n",
    "    s['n'] = s['n'] | (1<<x)"
   ]
  },
  {
   "cell_type": "markdown",
   "metadata": {},
   "source": [
    "3. Supposons que l'on veuille ajouter à l'interface *_\"Ensemble de dates\"_* du cours la fonction **`enumere`** (déjà présente par exemple dans le **programme 9** du cours).   \n",
    "Adapter le module du **programme 6** du cours pour qu'il réalise cette interface étendue.\n",
    "\n",
    "    **Indication** : Comme dans le **programme 9**, on construira un tableau que l’on agrandit à chaque élément trouvé. On teste alors chaque bit de chacun des entiers du tableau, et on calcule le nombre correspondant lorsque nécessaire."
   ]
  },
  {
   "cell_type": "markdown",
   "metadata": {},
   "source": [
    "Comme dans le **programme 9**, on construit un tableau que l’on agrandit à chaque élément trouvé. On teste alors chaque bit de chacun des six entiers du tableau. Si on trouve un bit à 1, alors c'est que le reste dont la valeur correspond à la position du bit à 1 est présent. On reconstruit donc le nombre à partir de la position `j` dans le tableau et du bit `i`qui vaut 1 en utilisant la formule `x = 64*j + i`. "
   ]
  },
  {
   "cell_type": "code",
   "execution_count": null,
   "metadata": {},
   "outputs": [],
   "source": [
    "def cree():\n",
    "    return [0]*6\n",
    "\n",
    "def contient(s,x):\n",
    "    paquet = x//64\n",
    "    bit = x%64\n",
    "    return s[paquet]&(1<<bit) != 0\n",
    "\n",
    "def ajoute(s,x):\n",
    "    paquet = x//64\n",
    "    bit = x%64\n",
    "    s[paquet] = s[paquet]|(1<<bit)\n",
    "\n",
    "def enumere(s):\n",
    "    tab = []\n",
    "    for nombre in range(6):\n",
    "        for bit in range(64):\n",
    "            if s[nombre] & (1<< bit) != 0: # on peut aussi tester si == 1 \n",
    "                tab.append(64*nombre + bit)\n",
    "    return tab"
   ]
  },
  {
   "cell_type": "markdown",
   "metadata": {},
   "source": [
    "4. Supposons maintenant que l'on veuille ajouter à l'interface *_\"Ensemble de dates\"_* du cours, les deux fonctions d'union et d'intersection suivantes. \n",
    "\n",
    "<table style=\"border:1px solid black;\">\n",
    "<tr style=\"border:1px solid black;\">\n",
    "    <th style=\"text-align:center;\">Fonction</th>\n",
    "    <th style=\"text-align:center;\">Description</th>    \n",
    "</tr>\n",
    "<tr>\n",
    "    <td style=\"text-align:justify;font-weight:bold;\">union(s1, s2)</td>\n",
    "    <td style=\"text-align:justify;\">renvoie un nouvel ensemble composé de l'union des éléments de $s1$ et $s2$</td>   \n",
    "</tr>\n",
    "<tr>\n",
    "    <td style=\"text-align:justify;font-weight:bold;\">intersection(s1, s2)</td>\n",
    "    <td style=\"text-align:justify;\">renvoie un nouvel ensemble composé de l'intersection des éléments de $s1$ et $s2$</td>   \n",
    "</tr>\n",
    "</table>\n",
    "\n",
    "Précisons que ces fonctions ne doivent pas modifier les ensembles `s1`et `s2`passés en paramètres et que, dans le cas de l'union, il ne doit pas y avoir de doublons.\n",
    "   "
   ]
  },
  {
   "cell_type": "markdown",
   "metadata": {},
   "source": [
    "   4.1 Réaliser ces fonctions dans le module de la question 1."
   ]
  },
  {
   "cell_type": "markdown",
   "metadata": {},
   "source": [
    "Dans la réalisation utilisant un tableau, on crée un nouveau tableau, que l’on remplit avec les éléments concernés. Dans le cas de l’union on s'assure que l’on n’introduit pas de doublons."
   ]
  },
  {
   "cell_type": "code",
   "execution_count": null,
   "metadata": {},
   "outputs": [],
   "source": [
    "def cree():\n",
    "    return []\n",
    "\n",
    "def contient(s,x):\n",
    "    return x in s\n",
    "\n",
    "def ajoute(s,x):\n",
    "    s.append(x)\n",
    "\n",
    "def union(s1, s2):\n",
    "    t = [x for x in s1]\n",
    "    for x in s2:\n",
    "        if not(x in s1): # on peut aussi écrire x not in s1\n",
    "            t.append(x)\n",
    "    return t\n",
    "\n",
    "def intersection(s1, s2):\n",
    "    t = []\n",
    "    for x in s1:\n",
    "        if x in s2:\n",
    "            t.append(x)\n",
    "    return t\n",
    "    "
   ]
  },
  {
   "cell_type": "markdown",
   "metadata": {},
   "source": [
    "4.2 Réaliser ces fonctions dans le module de la question 3 (**programme 6**)."
   ]
  },
  {
   "cell_type": "markdown",
   "metadata": {},
   "source": [
    "Pour la réalisation à base de tableau de bits, il suffit d'utiliser les opérations bit à\n",
    "bit | et & :     \n",
    "* b1|b2 met le bit à 1 si l'un des deux bits est à 1 : on réalise donc une union.\n",
    "\n",
    "\n",
    "* b1&b2 met le bit à 1 si les deux bits sont à 1 : on réalise donc une intersection."
   ]
  },
  {
   "cell_type": "code",
   "execution_count": null,
   "metadata": {},
   "outputs": [],
   "source": [
    "def cree():\n",
    "    return {'n':0}\n",
    "\n",
    "def contient(s,x):\n",
    "    return s['n'] & (1<<x) != 0\n",
    "\n",
    "def ajoute(s,x):\n",
    "    s['n'] = s['n'] | (1<<x)\n",
    "\n",
    "def union(s1, s2):\n",
    "    return [s1[i] | s2[i] for i in range(6)] # Pour tester les 366 possibilités, \n",
    "                                             # seuls les 6 premiers bits interviennent\n",
    "\n",
    "def intersection(s1, s2):\n",
    "    return [s1[i] & s2[i] for i in range(6)]\n",
    "    "
   ]
  },
  {
   "cell_type": "markdown",
   "metadata": {},
   "source": [
    "<h2 style=\"color:blue\"> Exercice 2 : Manipulation de tableaux</h2>\n",
    "\n",
    "L'interface des tableaux en Python fournit de nombreuses opérations à l'allure anodine mais cachant une complexité non négligeable. Rien de tel que de réaliser soi-même ces fonctions pour s'en rendre compte.\n",
    "\n",
    "Sans utiliser les opérations `+` et `t[i:j]`, écrire un module réalisant l'interface suivante :\n",
    "<table style=\"border:1px solid black;\">\n",
    "<tr style=\"border:1px solid black;\">\n",
    "    <th style=\"text-align:center;\">Fonction</th>\n",
    "    <th style=\"text-align:center;\">Description</th>    \n",
    "</tr>\n",
    "<tr>\n",
    "    <td style=\"text-align:justify;font-weight:bold;\">tranche(t, i, j)</td>\n",
    "    <td style=\"text-align:justify;\">renvoie un nouveau tableau contenant les éléments du tableau $t$ de l'indice i inclus à l'indice j exclus (et le tableau vide si $j \\leq i$)</td>   \n",
    "</tr>\n",
    "<tr>\n",
    "    <td style=\"text-align:justify;font-weight:bold;\">concatenation(t1, t2)</td>\n",
    "    <td style=\"text-align:justify;\">renvoie un nouveau tableau contenant dans l'odre les éléments de $t1$ puis les éléments de $t2$</td>   \n",
    "</tr>\n",
    "</table>\n",
    "\n",
    "Notez qu'aucune de ces fonctions ne doit modifier les tableaux passés en paramètres."
   ]
  },
  {
   "cell_type": "markdown",
   "metadata": {},
   "source": [
    "La tranche est créée dans un nouveau tableau de longueur adaptée, où on place les éléments prélevés à partir de l’indice `i`.       \n",
    "La concaténation, elle, crée dès l’origine un tableau de taille adaptée."
   ]
  },
  {
   "cell_type": "code",
   "execution_count": null,
   "metadata": {},
   "outputs": [],
   "source": [
    "def tranche(t, i, j):\n",
    "    n = j - i\n",
    "    if n <= 0 :\n",
    "        return []\n",
    "    else:\n",
    "        tab = [None] * n\n",
    "        for k in range(n):\n",
    "            tab[k] = t[i + k]\n",
    "        return tab\n",
    "\n",
    "    def concaténation(t1, t2):\n",
    "        l1, l2 = len(t1), len(t2)\n",
    "        tab = [None] * (l1 + l2)\n",
    "        for i in range(l1):\n",
    "            tab[i] = t1[i]\n",
    "        for i in range(l2):\n",
    "            tab[l1 + i] = t2[i]\n",
    "        return tab"
   ]
  },
  {
   "cell_type": "markdown",
   "metadata": {},
   "source": [
    "On peut aussi bien éviemment, dans chaque cas, partir d'un tableau vide et le remplir en utilisant `append`. C'est là une manière de faire spécifique à Python qui utilise des tableaux dynamiques (qu'il appelle improproprement *_\"listes\"_*) et donc redimensionnables à la volée (voir exercice suivant). La méthode ci-dessus est, elle, portable dans la plupart des langages de programmation."
   ]
  },
  {
   "cell_type": "markdown",
   "metadata": {},
   "source": [
    "<h2 style=\"color:blue\"> Exercice 3 : Structure de tableaux redimensionnables</h2>\n",
    "\n",
    "Le tableaux en Python sont redimensionnables (type list) : leur nombre d'éléments peut augmenter au fil du temps, par exemple avec des opérations comme **`append`**.   \n",
    "L'objectif de cet exercice est de définir un module réalisant une interface de tableau redimensionnable, mais sans utiliser les capacités  de redimensionnement natives des tableaux Python (des listes).\n",
    "Voici une interface minimale pour une structure de tableau redimensionnable.\n",
    "\n",
    "<table style=\"border:1px solid black;\">\n",
    "<tr style=\"border:1px solid black;\">\n",
    "    <th style=\"text-align:center;\">Fonction</th>\n",
    "    <th style=\"text-align:center;\">Description</th>    \n",
    "</tr>\n",
    "<tr>\n",
    "    <td style=\"text-align:justify;font-weight:bold;\">cree()\n",
    "    </td>\n",
    "    <td style=\"text-align:justify;\">crée et renvoie un tableau vide\n",
    "    </td>   \n",
    "</tr>\n",
    "<tr>\n",
    "    <td style=\"text-align:justify;font-weight:bold;\">lit(tr, i)\n",
    "    </td>\n",
    "    <td style=\"text-align:justify;\">renvoie l'élément de $tr$ à l'indice $i$\n",
    "    </td>   \n",
    "</tr>\n",
    "    <tr>\n",
    "    <td style=\"text-align:justify;font-weight:bold;\">ecrit(tr, i, x),\n",
    "    </td>\n",
    "    <td style=\"text-align:justify;\">place la valeur $x$ dans la case d'indice $i$ du tableau $tr$\n",
    "    </td>   \n",
    "</tr>\n",
    "    <tr>\n",
    "    <td style=\"text-align:justify;font-weight:bold;\">ajoute(tr, x)\n",
    "    </td>\n",
    "    <td style=\"text-align:justify;\">ajoute le nouvel élément $x$ au tableau $tr$, après ses éléments actuels\n",
    "    </td>   \n",
    "</tr>\n",
    "</table>\n",
    "\n",
    "Notez que ces opérations sont équivalentes aux opérations `[]`, `tr[i]`, `tr[i] = x` et `tr.append(x)` des listes de Python.\n",
    "\n",
    "Pour réaliser cette interface, on va représenter un tableau redimensionnable `tr`de `n`éléments par une paire nommée (réalisée par un dictionnaire contenant deux clés) contenant d'une part ce nombre `n` et d'autre part un tableau Python (liste) `t` dont la longueur est supérieure ou égale à `n`.   \n",
    "Le nombre `n`sera appelé la **taille** de `tr` et la longueur de `t` sa **capacité**.   \n",
    "Les `n` éléments sont stockés dans les cases d'indices `0` à `n-1` du tableau `t`, tandis que les cases suivantes contiennent `None`.\n",
    "\n",
    "1. Écrire une fonction `cree()`créant et renvoyant un tableau redimentionnable de taille `0` et de capacité `8`."
   ]
  },
  {
   "cell_type": "code",
   "execution_count": null,
   "metadata": {},
   "outputs": [],
   "source": [
    "def cree():\n",
    "    return {'n':0,'t':[None] * 8}   "
   ]
  },
  {
   "cell_type": "markdown",
   "metadata": {},
   "source": [
    "2. Écrire deux fonctions `lit(tr,i)`et `ecrit(tr,i,x)` telles que décrites dans l'interface, en supposant que l'indice `i` fourni est bien compris entre `0` inclus et la taille de `tr` exclue."
   ]
  },
  {
   "cell_type": "markdown",
   "metadata": {},
   "source": [
    "L’accès aux élément du tableau suit le schéma habituel, mais doit passer au préalable par la récupération du tableau interne. On procède de même pour l'écriture."
   ]
  },
  {
   "cell_type": "code",
   "execution_count": null,
   "metadata": {},
   "outputs": [],
   "source": [
    "def lit(tr, i):\n",
    "    return tr['t'][i]\n",
    "\n",
    "def ecrit(tr, i, x):\n",
    "    tr['t'][i] = x"
   ]
  },
  {
   "cell_type": "markdown",
   "metadata": {},
   "source": [
    "3. La fonction `ajoute`.\n",
    "\n",
    "3.1 Écrire une fonction `_ajoute_aux(tr, x)`qui ajoute l'élément `x` à la fin du tableau redimensionnable `tr`, en supposant que la capacité de ce dernier est suffisante."
   ]
  },
  {
   "cell_type": "markdown",
   "metadata": {},
   "source": [
    "Pour l’ajout, la taille actuelle donne directement l’indice de la prochaine case libre. En revanche, il ne faut pas oublier de mettre à jour la taille du tableau."
   ]
  },
  {
   "cell_type": "code",
   "execution_count": null,
   "metadata": {},
   "outputs": [],
   "source": [
    "def _ajoute_aux(tr, x):\n",
    "    tr['t'][tr['n']] = x\n",
    "    tr['n'] += 1"
   ]
  },
  {
   "cell_type": "markdown",
   "metadata": {},
   "source": [
    "3.2 Écrire une fonction `_double(tr)`qui double la capacité du tableau redimensionnable `tr`, en conservant ses éléments."
   ]
  },
  {
   "cell_type": "markdown",
   "metadata": {},
   "source": [
    "Doubler la taille du tableau support demande de créer un nouveau support de taille adaptée dans lequel on copie tous les éléments."
   ]
  },
  {
   "cell_type": "code",
   "execution_count": null,
   "metadata": {},
   "outputs": [],
   "source": [
    "def _double(tr):\n",
    "    c = len(tr['t'])\n",
    "    t = [None] * (2*c)\n",
    "    for i in range(c):\n",
    "        t[i] = tr['t'][i]\n",
    "    tr['t'] = t"
   ]
  },
  {
   "cell_type": "markdown",
   "metadata": {},
   "source": [
    "3.3 En déduire une fonction `ajoute(tr, x)`telle que décrite dans l'interface. Cette fonction doit doubler la capacité du tableau redimensionnable lorsqu'il ne peut accueillir de nouvel élément."
   ]
  },
  {
   "cell_type": "code",
   "execution_count": null,
   "metadata": {},
   "outputs": [],
   "source": [
    "def ajoute(tr, x):\n",
    "    if tr['n'] >= len(tr['t']):\n",
    "        _double(tr)\n",
    "    _ajoute_aux(tr, x)"
   ]
  },
  {
   "cell_type": "markdown",
   "metadata": {},
   "source": [
    "_Remarque_ : Vous pouvez aussi ajouter des fonctions reproduisant les fonctions Python `pop`, `del`, `insert`, `extend`."
   ]
  },
  {
   "cell_type": "markdown",
   "metadata": {},
   "source": [
    "<h2 style=\"color:blue\"> Exercice 4 : Structure de dictionnaire</h2>\n",
    "\n",
    "Voici une interface minimale pour une structure de dictionnaire.\n",
    "\n",
    "<table style=\"border:1px solid black;\">\n",
    "<tr style=\"border:1px solid black;\">\n",
    "    <th style=\"text-align:center;\">Fonction</th>\n",
    "    <th style=\"text-align:center;\">Description</th>    \n",
    "</tr>\n",
    "<tr>\n",
    "    <td style=\"text-align:justify;font-weight:bold;\">cree()\n",
    "    </td>\n",
    "    <td style=\"text-align:justify;\">crée et renvoie un dictionnaire vide\n",
    "    </td>   \n",
    "</tr>\n",
    "<tr>\n",
    "    <td style=\"text-align:justify;font-weight:bold;\">cle(d, k)\n",
    "    </td>\n",
    "    <td style=\"text-align:justify;\">renvoie $True$ si et seulement si le dictionnaire $d$ contient la clé $k$\n",
    "    </td>   \n",
    "</tr>\n",
    "    <tr>\n",
    "    <td style=\"text-align:justify;font-weight:bold;\">lit(d, k),\n",
    "    </td>\n",
    "    <td style=\"text-align:justify;\">renvoie la valeur associée à la clé $k$ dans le dictionnaire $d$, et $None$ si la clé $k$ n'appartient pas\n",
    "    </td>   \n",
    "</tr>\n",
    "    <tr>\n",
    "    <td style=\"text-align:justify;font-weight:bold;\">ecrit(d, k, v)\n",
    "    </td>\n",
    "    <td style=\"text-align:justify;\">ajoute au dictionnaire $d$ l'association entre la clé $k$ et la valeur $v$, en remplaçant une éventuelle association déjà présente pour $k$\n",
    "    </td>   \n",
    "</tr>\n",
    "</table>\n",
    "\n",
    "On propose de réaliser cette interface de dictionnaire avec un tableau de couples (tuple) clé-valeur, en faisant en sorte qu'aucune clé n'apparaisse deux fois.\n",
    "1. Écrire un module réalisant cela"
   ]
  },
  {
   "cell_type": "markdown",
   "metadata": {},
   "source": [
    "Le dictionnaire vide n’est rien d’autre qu’un tableau vide."
   ]
  },
  {
   "cell_type": "code",
   "execution_count": null,
   "metadata": {},
   "outputs": [],
   "source": [
    "def cree():\n",
    "    return []"
   ]
  },
  {
   "cell_type": "markdown",
   "metadata": {},
   "source": [
    "Pour chercher une clé, on passe en revue tous les couples clé-valeur jusqu’à trouver la clé cherchée ou épuiser le tableau. Pour lire la valeur associé à une clé, on fait de même. Il ne fait pas oublier qu'ici un dictionnaire est un tableau de couples."
   ]
  },
  {
   "cell_type": "code",
   "execution_count": null,
   "metadata": {},
   "outputs": [],
   "source": [
    "def cle(d, k):\n",
    "    for (kv, v) in d:\n",
    "        if kv == k:\n",
    "            return True\n",
    "    return False\n",
    "\n",
    "def lit(d, k):\n",
    "    for (kv, v) in d:\n",
    "        if kv == k:\n",
    "            return v\n",
    "    return None"
   ]
  },
  {
   "cell_type": "markdown",
   "metadata": {},
   "source": [
    "Pour ajouter une nouvelle association, il faut distinguer le cas où la clé est déjà présente du cas où elle ne l’est pas. Ici, dans le premier cas on remplace le couple correspondant par un nouveau couple, et dans le deuxième cas on ajoute le nouveau couple à la fin."
   ]
  },
  {
   "cell_type": "code",
   "execution_count": null,
   "metadata": {},
   "outputs": [],
   "source": [
    "def ecrit(d, k, v):\n",
    "    for i in range(len(d)):\n",
    "        if d[i][0] == k:\n",
    "            d[i] = (k, v)\n",
    "            return\n",
    "    d.append((k, v))"
   ]
  },
  {
   "cell_type": "markdown",
   "metadata": {},
   "source": [
    "2. La description de l'une des quatre fonctions de notre interface ne correspond pas exactement à l'opération équivalente des dictionnaires de Python. Laquelle ?    \n",
    "Quelle expérience faire pour le confirmer ?    \n",
    "Corriger la description pour se rapprocher de celle de Python et adapter la réalisation."
   ]
  },
  {
   "cell_type": "markdown",
   "metadata": {},
   "source": [
    "La différence avec les dictionnaires de Python est dans l’opération de lecture.      \n",
    "En Python, essayer d'obtenir la valeur associée à une clé absente lève une exception `KeyError` (essayez!).    \n"
   ]
  },
  {
   "cell_type": "code",
   "execution_count": 1,
   "metadata": {},
   "outputs": [
    {
     "ename": "KeyError",
     "evalue": "'a'",
     "output_type": "error",
     "traceback": [
      "\u001b[1;31m---------------------------------------------------------------------------\u001b[0m",
      "\u001b[1;31mKeyError\u001b[0m                                  Traceback (most recent call last)",
      "\u001b[1;32m<ipython-input-1-c9bdb69b1f14>\u001b[0m in \u001b[0;36m<module>\u001b[1;34m\u001b[0m\n\u001b[0;32m      1\u001b[0m \u001b[0md\u001b[0m \u001b[1;33m=\u001b[0m \u001b[1;33m{\u001b[0m\u001b[1;33m}\u001b[0m\u001b[1;33m\u001b[0m\u001b[1;33m\u001b[0m\u001b[0m\n\u001b[1;32m----> 2\u001b[1;33m \u001b[0mprint\u001b[0m\u001b[1;33m(\u001b[0m\u001b[0md\u001b[0m\u001b[1;33m[\u001b[0m\u001b[1;34m'a'\u001b[0m\u001b[1;33m]\u001b[0m\u001b[1;33m)\u001b[0m\u001b[1;33m\u001b[0m\u001b[1;33m\u001b[0m\u001b[0m\n\u001b[0m",
      "\u001b[1;31mKeyError\u001b[0m: 'a'"
     ]
    }
   ],
   "source": [
    "d = {}\n",
    "print(d['a'])"
   ]
  },
  {
   "cell_type": "markdown",
   "metadata": {},
   "source": [
    "Écrivons une nouvelle version de `lit` dans laquelle une exception `KeyError` est levée si le parcours du tableau termine sans avoir trouvé la clé cherchée :"
   ]
  },
  {
   "cell_type": "code",
   "execution_count": null,
   "metadata": {},
   "outputs": [],
   "source": [
    "def lit(d, k):\n",
    "    for (kv, v) in d:\n",
    "        if kv == k:\n",
    "            return v\n",
    "    raise KeyError(k)"
   ]
  }
 ],
 "metadata": {
  "kernelspec": {
   "display_name": "Python 3",
   "language": "python",
   "name": "python3"
  },
  "language_info": {
   "codemirror_mode": {
    "name": "ipython",
    "version": 3
   },
   "file_extension": ".py",
   "mimetype": "text/x-python",
   "name": "python",
   "nbconvert_exporter": "python",
   "pygments_lexer": "ipython3",
   "version": "3.7.9"
  }
 },
 "nbformat": 4,
 "nbformat_minor": 4
}
