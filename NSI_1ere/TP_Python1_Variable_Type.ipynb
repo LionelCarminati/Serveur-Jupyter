{
 "cells": [
  {
   "cell_type": "markdown",
   "metadata": {},
   "source": [
    "<h1 style=\"color:red\"> TP Python 1 : Variables et types </h1>"
   ]
  },
  {
   "cell_type": "markdown",
   "metadata": {},
   "source": [
    "<h2 style=\"color:blue\"> Exercice1</h2>\n",
    "\n",
    "Exécuter **à la main** l'algorithme suivant :\n",
    "``` python\n",
    "      a = 0\n",
    "      b = 1\n",
    "      a = a + b\n",
    "      b = a * b\n",
    "      a = a - 2\n",
    "```\n",
    "Quelles sont les valeurs finales de a et b ?"
   ]
  },
  {
   "cell_type": "markdown",
   "metadata": {},
   "source": [
    "a = \n",
    "b = "
   ]
  },
  {
   "cell_type": "markdown",
   "metadata": {},
   "source": [
    "Insérer une cellule de code en dessous, copiez-y le code précédent et complétez-le de façon à faire afficher les valeurs des variables a et b. Vérifiez avec vos prédictions."
   ]
  },
  {
   "cell_type": "markdown",
   "metadata": {},
   "source": [
    "<h2 style=\"color:blue\"> Exercice2</h2>\n",
    "\n",
    "Traduire en python les expressions suivantes et déterminer leur résultat :\n",
    "\n",
    "a) $3^2+2^3$   \n",
    "b) $\\dfrac{5}{3}\\times \\dfrac{9}{2}+12$   \n",
    "c) $(\\dfrac{36}{25})^2$"
   ]
  },
  {
   "cell_type": "code",
   "execution_count": null,
   "metadata": {},
   "outputs": [],
   "source": []
  },
  {
   "cell_type": "code",
   "execution_count": null,
   "metadata": {},
   "outputs": [],
   "source": []
  },
  {
   "cell_type": "code",
   "execution_count": null,
   "metadata": {},
   "outputs": [],
   "source": []
  },
  {
   "cell_type": "markdown",
   "metadata": {},
   "source": [
    "<h2 style=\"color:blue\"> Exercice 3</h2>\n",
    "\n",
    "Soit le programme python suivant :\n",
    "``` python\n",
    "    a = 2\n",
    "    b = 3\n",
    "    nombre = 8\n",
    "    valeur = 2.718\n",
    "    sp1 = \"Numérique\"\n",
    "    sp2 = \"Sciences Informatiques\"\n",
    "    x = nombre / a\n",
    "    y = nombre // a\n",
    "    z = nombre % a\n",
    "    t = nombre * valeur\n",
    "    u = nombre ** a\n",
    "    v = int(x)\n",
    "    print(\"x=\",x,\"y=\",y,\"z=\",z,\"t=\",t,\"u=\",u,\"v=\",v)\n",
    "    TR = sp1 + \" et \" + sp2\n",
    "    f = sp1 * 2\n",
    "    e = sp1 + 2\n",
    "    print(\"TR=\",TR,\"f=\",f,\"e=\",e)\n",
    "```\n",
    "1. Préciser (sans exécuter le programme) en justifiant la réponse, quelle ligne du script va déclencher une erreur lors de son exécution. Proposer une correction. "
   ]
  },
  {
   "cell_type": "markdown",
   "metadata": {},
   "source": []
  },
  {
   "cell_type": "markdown",
   "metadata": {},
   "source": [
    "2.\tDonner la valeur et le type de chacune des variables après exécution des instructions (corrigées) ci-dessus **à la main**."
   ]
  },
  {
   "cell_type": "markdown",
   "metadata": {},
   "source": [
    "x =                                                             \n",
    "y =                                                             \n",
    "z =                                                             \n",
    "t =                                                             \n",
    "u =                                                             \n",
    "v =             \n",
    "TR =                                                             \n",
    "f =                                                             "
   ]
  },
  {
   "cell_type": "markdown",
   "metadata": {},
   "source": [
    "3. Que se passerait-il si on rajoutait la ligne `print(int(e))`. Expliquer."
   ]
  },
  {
   "cell_type": "markdown",
   "metadata": {},
   "source": []
  },
  {
   "cell_type": "markdown",
   "metadata": {},
   "source": [
    "<h2 style=\"color:blue\"> Exercice 4</h2>\n",
    "\n",
    "Créer une variable `nsi` et assignez-lui la valeur \"Numérique et Sciences Informatiques\".   \n",
    "1. Faites afficher le troisième caractère de la chaine, le dernier puis la longueur de la chaine. Faire ensuite à nouveau afficher le dernier caractère mais en utilisant la fonction `len`.\n"
   ]
  },
  {
   "cell_type": "code",
   "execution_count": null,
   "metadata": {},
   "outputs": [],
   "source": []
  },
  {
   "cell_type": "code",
   "execution_count": null,
   "metadata": {},
   "outputs": [],
   "source": []
  },
  {
   "cell_type": "code",
   "execution_count": null,
   "metadata": {},
   "outputs": [],
   "source": []
  },
  {
   "cell_type": "code",
   "execution_count": null,
   "metadata": {},
   "outputs": [],
   "source": []
  },
  {
   "cell_type": "markdown",
   "metadata": {},
   "source": [
    "Allons un peu plus loin. On peut vouloir sélectionner une partie des éléments d'une chaine de caractères :   \n",
    "` nom_chaine[n : m] ` affiche les caractères de n à m-1 (le m ième caractère est toujours exclu).\n",
    "\n",
    "On peut aussi vouloir sélectionner une partie des caractères mais en faisaant des sauts constants (par exemple un caracrère sur 2...).   \n",
    "` nom_chaine[n : m : p] ` affiche les caractères de n à m-1 par pas de p\n",
    "\n",
    "2. Faire afficher, à partir de `nsi`, le mot \"Sciences\" en vous aidant de la syntaxe ci-dessus. "
   ]
  },
  {
   "cell_type": "code",
   "execution_count": null,
   "metadata": {},
   "outputs": [],
   "source": []
  },
  {
   "cell_type": "markdown",
   "metadata": {},
   "source": [
    "3. Afficher les 3 derniers caractères de la chaine en vous aidant de la syntaxe précédente, puis en utilisant la fonction `len`."
   ]
  },
  {
   "cell_type": "code",
   "execution_count": null,
   "metadata": {},
   "outputs": [],
   "source": []
  },
  {
   "cell_type": "code",
   "execution_count": null,
   "metadata": {},
   "outputs": [],
   "source": []
  },
  {
   "cell_type": "markdown",
   "metadata": {},
   "source": [
    "4. Faire afficher la chaine \"uéiu\" contenue dans la chaine `nsi` en vous aidant de la syntaxe ci-dessus."
   ]
  },
  {
   "cell_type": "code",
   "execution_count": null,
   "metadata": {},
   "outputs": [],
   "source": []
  },
  {
   "cell_type": "markdown",
   "metadata": {},
   "source": [
    "<h2 style=\"color:blue\"> Exercice 5</h2>\n",
    "\n",
    "Écrire un programme qui demande à l’utilisateur les longueurs (entières) des deux côtés d’un rectangle et qui affiche son périmètre et son aire (avec une petite phrase explicative)."
   ]
  },
  {
   "cell_type": "code",
   "execution_count": null,
   "metadata": {},
   "outputs": [],
   "source": []
  },
  {
   "cell_type": "markdown",
   "metadata": {},
   "source": [
    "<h2 style=\"color:blue\"> Exercice 6</h2>\n",
    "\n",
    "Écrire un programme qui demande 3 valeurs (\"a = \"...), les affecte dans des variables a, b et c, les  permute (a va dans b, b dans c et c dans a) et les affiche (\"Maintenant, a =\"...).   \n",
    "Par exemple, si on rentre dans le programme :   \n",
    "    a = 1   \n",
    "    b = 2   \n",
    "    c = 3   \n",
    "à la fin de l’exécution du programme, on doit avoir dans la variable `b` la valeur de `a` soit ici `1`, dans la variable `c` la valeur de `b` soit ici `2` et dans la variable `a` la valeur de `c` soit ici `3`."
   ]
  },
  {
   "cell_type": "code",
   "execution_count": null,
   "metadata": {},
   "outputs": [],
   "source": []
  }
 ],
 "metadata": {
  "kernelspec": {
   "display_name": "Python 3",
   "language": "python",
   "name": "python3"
  },
  "language_info": {
   "codemirror_mode": {
    "name": "ipython",
    "version": 3
   },
   "file_extension": ".py",
   "mimetype": "text/x-python",
   "name": "python",
   "nbconvert_exporter": "python",
   "pygments_lexer": "ipython3",
   "version": "3.7.7"
  }
 },
 "nbformat": 4,
 "nbformat_minor": 4
}
