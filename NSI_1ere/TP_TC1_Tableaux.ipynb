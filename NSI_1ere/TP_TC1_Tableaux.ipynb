{
 "cells": [
  {
   "cell_type": "markdown",
   "metadata": {},
   "source": [
    "<h1 style=\"color:red\"> TP Types Construits : Les tableaux </h1>"
   ]
  },
  {
   "cell_type": "markdown",
   "metadata": {},
   "source": [
    "<h2 style=\"color:blue\"> Exercice 1 : Fréquence d'apparition</h2>\n",
    "\n",
    "1. Écrire un programme qui tire au hasard mille entiers entre **`1`** et  **`10`** et affiche ensuite le nombre de fois que chaque nombre a été tiré.      \n",
    "*Indice* : Utiliser un tableau pour stocker le nombre de fois où chaque valeur apparait.\n",
    "\n",
    "2. Modifier le programme pour que le nombre de tirages soit fixé par une variable et qu'il affiche la fréquence d'appartion de chaque valeur, c'est-à-dire le nombre de fois qu'elle apparait divisé par le nombre total de tirage. Relancer  le  programme plusieurs fois.\n",
    "\n",
    "<u>*Rappel*</u> : pour tirer un entier au hasard entre **`1`** et **`n`**, il faut utiliser la fonction **`randint`** du module **`random`** en écrivant **`randint(n)`**. **`randint(a,b)`** permet de tirer un nombre entier aléatoire entre **`a`** et **`b`** inclus.\n"
   ]
  },
  {
   "cell_type": "code",
   "execution_count": null,
   "metadata": {},
   "outputs": [],
   "source": []
  },
  {
   "cell_type": "code",
   "execution_count": null,
   "metadata": {},
   "outputs": [],
   "source": []
  },
  {
   "cell_type": "markdown",
   "metadata": {},
   "source": [
    "<h2 style=\"color:blue\"> Exercice 2 : Ajouter un élément en fin de tableau</h2>\n",
    "\n",
    "Écrire un programme **`ajout(v, t)`** qui crée un nouveau tableau contenant  d’abord  tous  les éléments de **`t`** puis l'élément **`v`**.\n",
    "\n",
    "*Remarque* : On crée ici un nouveau tableau. Python utilise des tbleaux dynamiques, c'est-à-dire que l'on peut modifier leur taille \"à la volée\". Ainsi, il existe une intruction qui permet de rajouter au tableau existant un nouvel élément à la fin de celui-ci, sans pour autant créer un nouveau tableau. La taille tu tableau est alors automatiquement augmentée de 1. Il suffit de faire : **`t.append(v)`**.   \n",
    "Testez cette instruction. Nous éviterons toutefois de l'utiliser car nous avons pris le parti de considérer les tableaux dont la taille fixée dès le départ.\n"
   ]
  },
  {
   "cell_type": "code",
   "execution_count": null,
   "metadata": {},
   "outputs": [],
   "source": []
  },
  {
   "cell_type": "markdown",
   "metadata": {},
   "source": [
    "<h2 style=\"color:blue\"> Exercice 3 : La suite de Fibonacci</h2>\n",
    "\n",
    "En mathématiques, la très celèbre ***suite de Fibonacci*** est une séquence infinie d'entiers définie de la façon suivante : on part des deux entiers **`0`** et **`1`** puis on construit à chaque fois l’entier suivant comme la somme des deux entiers précédents.\n",
    "\n",
    "    0, 1, 0 + 1 = 1, 1 + 1 = 2, 1 + 2 = 3, 2 + 3 = 5, ...\n",
    "\n",
    "Écrire un programme  qui construit  puis imprime un tableau  contenant  les 30\n",
    "premiers   termes  de  la  suite.   Le  dernier   élément   de  ce   tableau   doit être\n",
    "514 229.\n"
   ]
  },
  {
   "cell_type": "code",
   "execution_count": null,
   "metadata": {},
   "outputs": [],
   "source": []
  },
  {
   "cell_type": "markdown",
   "metadata": {},
   "source": [
    "<h2 style=\"color:blue\">Exercice 4 : Tableau aléatoire croissant</h2>\n",
    "\n",
    "Écrire une fonction **`tableau_croissant(n)`** qui  renvoie  un  tableau de taille **`n`** contenant des entiers tirés an hasard et ayant la propriété d’etre trié par ordre croissant. \n",
    "\n",
    "Pour faire cela, on pourrait construire un tableau aléatoire, puis le trier avec un algorithme de tri (ce que nous verrons ultérieurement).      \n",
    "Il y a néanmoins une façon plus simple de procéder, consistant à remplir le tableau de gauche à droite en ajoutant à chaque fois un entier positif ou nul (entre 0 et 10 par exemple) à l’élément précèdent. Ainsi, le tableau est trié par construction."
   ]
  },
  {
   "cell_type": "code",
   "execution_count": null,
   "metadata": {},
   "outputs": [],
   "source": []
  },
  {
   "cell_type": "markdown",
   "metadata": {},
   "source": [
    "<h2 style=\"color:blue\"> Exercice 5 : Fonction miroir</h2>\n",
    "\n",
    "Écrire une fonction **`miroir(tab)`** qui reçoit un tableau en argument et le modifie pour échanger le premier élément avec le dernier, le second avec l’avant-dernier, etc.    \n",
    "Dit autrement, on remplace le tableau par son image miroir. On pourra se servir de la fonction **`echange`** développée dans le cours."
   ]
  },
  {
   "cell_type": "code",
   "execution_count": null,
   "metadata": {},
   "outputs": [],
   "source": []
  },
  {
   "cell_type": "markdown",
   "metadata": {},
   "source": [
    "<h2 style=\"color:blue\"> Exercice 6 : Mélanger un tableau</h2>\n",
    "\n",
    "Pour mélanger les élements d’un tableau  aléatoirement, il existe un algorithme très simple qui procède ainsi : on parcourt le tableau de la gauche vers la droite et, pour chaque élément à l’indice  **`i`**,  on l’échange  avec un élèment situe à un indice tiré  aléatoirement  entre  **`0`** et  **`i`**  (inclus).  \n",
    "\n",
    "Écrire une fonction **`melange(tab)`** qui réalise cet algorithme. On pourra se resservir de la fonction **`echange`** développée dans le cours. Cet algorithme  s’appelle  le ***mélange de Knuth***."
   ]
  },
  {
   "cell_type": "code",
   "execution_count": null,
   "metadata": {},
   "outputs": [],
   "source": []
  },
  {
   "cell_type": "markdown",
   "metadata": {},
   "source": [
    "<h2 style=\"color:blue\"> Exercice 7 : Tableau préfixe</h2>\n",
    "\n",
    "Écrire une fonction **`prefixe(tab1, tab2)`**  qui renvoie **`True`**  si  le tableau **`tab1`** est un préfixe du tableau **`tab2`**, c’est-à-dire si le tableau **`tab2`** commence par les éléments du tableau **`tab1`** dans le même ordre."
   ]
  },
  {
   "cell_type": "code",
   "execution_count": null,
   "metadata": {},
   "outputs": [],
   "source": []
  },
  {
   "cell_type": "markdown",
   "metadata": {},
   "source": [
    "<h2 style=\"color:blue\"> Exercice 8 : Tableau suffixe</h2>\n",
    "\n",
    "Écrire une fonction **`suffixe(tab1, tab2)`**  qui renvoie **`True`**  si  le tableau **`tab1`** est un sufffixe du tableau **`tab2`**, c’est-à-dire si le tableau **`tab2`** se termine par les éléments du tableau **`tab1`** dans le même ordre."
   ]
  },
  {
   "cell_type": "code",
   "execution_count": null,
   "metadata": {},
   "outputs": [],
   "source": []
  },
  {
   "cell_type": "markdown",
   "metadata": {},
   "source": [
    "<h2 style=\"color:blue\"> Exercice 9 : Distance de Hamming</h2>\n",
    "\n",
    "Écrire une fonction **`hamming(tab1, tab2)`** qui prend en paramètres  deux  tableaux,  que l’on supposera de la même taille, et qui renvoie le nombre d’indices auxquels les deux tableaux diffèrent. Ce nombre est appelé ***distance de Hamming***."
   ]
  },
  {
   "cell_type": "code",
   "execution_count": null,
   "metadata": {},
   "outputs": [],
   "source": []
  },
  {
   "cell_type": "markdown",
   "metadata": {},
   "source": [
    "<h2 style=\"color:blue\"> Exercice 10 : Distance de Hamming (2)</h2>\n",
    "\n",
    "Reprendre l’exercice précédent, sans supposer  que les tableaux ont la même taille. On considérera qu’un indice auquel seul l'un des tableaux est défini compte pour une différence."
   ]
  },
  {
   "cell_type": "code",
   "execution_count": null,
   "metadata": {},
   "outputs": [],
   "source": []
  }
 ],
 "metadata": {
  "kernelspec": {
   "display_name": "Python 3",
   "language": "python",
   "name": "python3"
  },
  "language_info": {
   "codemirror_mode": {
    "name": "ipython",
    "version": 3
   },
   "file_extension": ".py",
   "mimetype": "text/x-python",
   "name": "python",
   "nbconvert_exporter": "python",
   "pygments_lexer": "ipython3",
   "version": "3.7.9"
  }
 },
 "nbformat": 4,
 "nbformat_minor": 4
}
