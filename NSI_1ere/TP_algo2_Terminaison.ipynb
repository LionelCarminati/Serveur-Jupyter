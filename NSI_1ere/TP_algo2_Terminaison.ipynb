{
 "cells": [
  {
   "cell_type": "markdown",
   "metadata": {},
   "source": [
    "<h1 style=\"color:red\"> TP Algorithmique 2 : Terminaison d'algorithme</h1>"
   ]
  },
  {
   "cell_type": "markdown",
   "metadata": {},
   "source": [
    "<h2 style=\"color:blue\"> Exercice 1 : </h2>\n",
    "\n",
    "On a déjà vu que la fonction suivante renvoie **`True`** si la valeur **`v`** est présente dans le tableau **`t`** :\n",
    "\n",
    "``` Python\n",
    "def appartient(v, t): \n",
    "    i = 0\n",
    "    while i < len(t) and t[i] != v:\n",
    "        i = i + 1\n",
    "    return i < len(t)\n",
    "```\n",
    "Justifier qu’elle termine à, l’aide de la technique du variant."
   ]
  },
  {
   "cell_type": "markdown",
   "metadata": {},
   "source": []
  },
  {
   "cell_type": "markdown",
   "metadata": {},
   "source": [
    "<h2 style=\"color:blue\"> Exercice 2 : </h2>\n",
    "\n",
    "Voici deux programmes dont on prétend qu'ils calculent le nombre de chiffres d'un nombre positif saisi par l'utilisateur :\n",
    "\n",
    "**Programme 1 :**\n",
    "\n",
    "``` Python\n",
    "a = int(input())\n",
    "i = 0\n",
    "while a > 0:\n",
    "    a = a // 10\n",
    "    i += 1\n",
    "print(i)\n",
    "```\n",
    "\n",
    "**Programme 2**\n",
    "\n",
    "``` Python\n",
    "a = int(input())\n",
    "k = 1\n",
    "i = 0\n",
    "while k < a + 1:\n",
    "    k = k * 10\n",
    "    i += 1\n",
    "print(i)\n",
    "```\n",
    "Justifier qu’ils terminent avec la technique du variant.    "
   ]
  },
  {
   "cell_type": "markdown",
   "metadata": {},
   "source": []
  },
  {
   "cell_type": "markdown",
   "metadata": {},
   "source": [
    "Que se passe-t-il si on remplace a > 0 par a ! = 0 dans le premier programme ? Justifier."
   ]
  },
  {
   "cell_type": "markdown",
   "metadata": {},
   "source": []
  },
  {
   "cell_type": "markdown",
   "metadata": {},
   "source": [
    "Et si on remplace k < a + 1 par k != a + 1 dans le deuxième ? Justifier."
   ]
  },
  {
   "cell_type": "markdown",
   "metadata": {},
   "source": []
  },
  {
   "cell_type": "markdown",
   "metadata": {},
   "source": [
    "<h2 style=\"color:blue\"> Exercice 3 : </h2>\n",
    "\n",
    "On prétend que la fonction suivante affiche une certaine alternance d’éléments des deux tableaux **`t1`** et **`t2`** :\n",
    "\n",
    "``` Python\n",
    "def entrelace(t1, t2):\n",
    "    i1 = 0\n",
    "    i2 = 0\n",
    "    while i1 < len(t1) and i2 < |en(t2):\n",
    "        if t1[il] < t2[i2]:\n",
    "            print(t1[i1]) \n",
    "            i1 += 1\n",
    "    else:\n",
    "        print(t2[i2])\n",
    "        i2 += 1\n",
    "\n",
    "```\n",
    "Justifer que cette fonction se termine à l'aide de la technique du variant."
   ]
  },
  {
   "cell_type": "markdown",
   "metadata": {},
   "source": []
  },
  {
   "cell_type": "markdown",
   "metadata": {},
   "source": [
    "<h2 style=\"color:blue\"> Exercice 4 : </h2>\n",
    "\n",
    "On prétend que la fonction suivante réordonne les éléments du tableau **`t`** en plaçant à  gauche les éléments plus petits que **`v`** et à droite les éléments plus grands :\n",
    "\n",
    "``` Python\n",
    "def separe(t, v):\n",
    "    i = 0\n",
    "    j = len(t) - 1\n",
    "    while i < j:\n",
    "        if t[i] <= v:\n",
    "            i += 1\n",
    "    else:\n",
    "        tmp = t[i]\n",
    "        t[i] = t[j]\n",
    "        t[j] = tmp\n",
    "        i -=1\n",
    "```\n",
    "Justifer que cette fonction se termine à l'aide de la technique du variant."
   ]
  },
  {
   "cell_type": "markdown",
   "metadata": {},
   "source": []
  }
 ],
 "metadata": {
  "celltoolbar": "Format de la Cellule Texte Brut",
  "kernelspec": {
   "display_name": "Python 3",
   "language": "python",
   "name": "python3"
  },
  "language_info": {
   "codemirror_mode": {
    "name": "ipython",
    "version": 3
   },
   "file_extension": ".py",
   "mimetype": "text/x-python",
   "name": "python",
   "nbconvert_exporter": "python",
   "pygments_lexer": "ipython3",
   "version": "3.7.7"
  }
 },
 "nbformat": 4,
 "nbformat_minor": 4
}
