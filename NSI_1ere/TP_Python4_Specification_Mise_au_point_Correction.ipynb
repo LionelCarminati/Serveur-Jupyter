{
 "cells": [
  {
   "cell_type": "markdown",
   "metadata": {},
   "source": [
    "<h1 style=\"color:red\"> TP Python 4 : Spécification et mise au point</h1>"
   ]
  },
  {
   "cell_type": "markdown",
   "metadata": {},
   "source": [
    "<h2 style=\"color:blue\"> Exercice 1 : Documenter une fonction</h2>\n",
    "\n",
    "Documenter la fonction *dividion euclidienne* vue en cours. Tester des préconditions."
   ]
  },
  {
   "cell_type": "code",
   "execution_count": 1,
   "metadata": {},
   "outputs": [],
   "source": [
    "def div_euclidienne(a,b):\n",
    "    \"\"\"\n",
    "        Division euclidienne de a par b\n",
    "        Entrée : a : entier positif ou nul\n",
    "                 b : entier strictement positif\n",
    "        Sortie : renvoie une parire (q, r) avec q le quotient et r le reste de la division\n",
    "    \"\"\"\n",
    "    assert a >= 0\n",
    "    assert b > 0\n",
    "    q = 0\n",
    "    r = a\n",
    "    while r >= b:\n",
    "        q += 1\n",
    "        r -= b\n",
    "    return q, r\n"
   ]
  },
  {
   "cell_type": "markdown",
   "metadata": {},
   "source": [
    "<h2 style=\"color:blue\"> Exercice 2 : Fonction puissance</h2>\n",
    "\n",
    "Donner un invariant de boucle pour la fonction suivante qui calcule **`x`** à la puissance **`n`**, écrire la documentation et des tests.\n",
    "\n",
    "```Python\n",
    "def puissance(x, n):\n",
    "    r = 1\n",
    "    for i in range(n):\n",
    "        r = r * x\n",
    "    return r\n",
    "```"
   ]
  },
  {
   "cell_type": "markdown",
   "metadata": {},
   "source": [
    "Avant d'exécuter le tour de boucle `i`, on a $r = x^i$.     \n",
    "On vérifie en particulier que c'est bien vrai pour `i = 0`, car $r = 1 = x^0$.      \n",
    "On peut donc écrire : *invariant : r = x^i (x à la puissance i)*\n",
    "\n",
    "A la toute dernière itération, pour `i = n - 1`, on a donc $r = x^{n-1}$ avant d'effectuer une dernière multiplication par $x$.     \n",
    "On aura donc bien calculé $x^n$ au final.\n",
    "\n",
    "Pour les tests, une bonne idée, comme on l'a dit en cours, consiste à tester la fonction sur des valeurs \"aux limites\". Ici, on peut par exemple tester la fonction sur les valeurs `0` et `1` pour les variables `x` et `n`.    \n",
    "\n",
    "On peut aussi tester des valeurs plus grandes, par exemple des puissances particulières dont on connait bien le résultat.\n",
    "\n",
    "Enfin, il est jusdicieux de tester aussi la fonction sur des valeurs négatives pour `x`."
   ]
  },
  {
   "cell_type": "code",
   "execution_count": 7,
   "metadata": {},
   "outputs": [],
   "source": [
    "def puissance(x, n):\n",
    "    \"\"\"\n",
    "    Calcule x à la puissance n\n",
    "    Entrée : x nombre décimal\n",
    "             n : entier positif ou nul\n",
    "    Sortie : renvoie x à la puissance n\n",
    "    \"\"\"\n",
    "    assert n >= 0\n",
    "    r = 1\n",
    "    for i in range(n):\n",
    "        # invariant : x^i (x à la puissance i)\n",
    "        r = r * x\n",
    "    return r\n",
    "\n",
    "assert puissance(13,0) == 1\n",
    "assert puissance(69,1) == 69\n",
    "assert puissance(1,51) == 1\n",
    "assert puissance(0,45) == 0\n",
    "\n",
    "assert puissance(2,10) == 1024\n",
    "assert puissance(10,4) == 10000\n",
    "\n",
    "assert puissance(-1,0) == 1\n",
    "assert puissance(-1,1) == -1\n",
    "assert puissance(-2,9) == -512\n",
    "assert puissance(-2,8) == 256"
   ]
  },
  {
   "cell_type": "markdown",
   "metadata": {},
   "source": [
    "<h2 style=\"color:blue\"> Exercice 3 : Fonction inconnue</h2>\n",
    "\n",
    "Pour la fonction suivante, lui donner un meilleur nom, une chaîne de documentation, un invariant de boucle et des tests.\n",
    "\n",
    "```Python\n",
    "def f(t):\n",
    "    s = 0\n",
    "    for i in range(len(t)):\n",
    "        s += t[i]\n",
    "    return s\n",
    "```"
   ]
  },
  {
   "cell_type": "markdown",
   "metadata": {},
   "source": [
    "Cette fonction calcule la somme des éléments du tableau `t`. L'invariant de boucle indique que `s`contient la somme des éléments jusqu'à `t[i]` exclu."
   ]
  },
  {
   "cell_type": "code",
   "execution_count": null,
   "metadata": {},
   "outputs": [],
   "source": [
    "def somme(t):\n",
    "    \"\"\"\n",
    "    Calcule la somme des éléments du tableau t\n",
    "    Entrée : t un tableau\n",
    "    Sortie : renvoie la somme des éléments du tableau t\n",
    "    \"\"\"\n",
    "    s = 0\n",
    "    for i in range(len(t)):\n",
    "        # invariant : s = t[0] + t[1] + ... + t[i-1]\n",
    "        s += t[i]\n",
    "    return s"
   ]
  },
  {
   "cell_type": "markdown",
   "metadata": {},
   "source": [
    "<h2 style=\"color:blue\"> Exercice 4 : Tester une fonction (1)</h2>\n",
    "\n",
    "On prétend que la fonction suivante teste l’appartenance de la valeur **`v`** au tableau **`t`**.\n",
    "\n",
    "```Python\n",
    "def appartient(v, t):\n",
    "    i = 0\n",
    "    while i < len(t) - 1 and t[i] != v:\n",
    "        i = i + 1\n",
    "    return i < len(t)\n",
    "\n",
    "```\n",
    "Documenter puis donner des tests pour cette fonction, et en particulier un test montrant qu'elle est incorrecte."
   ]
  },
  {
   "cell_type": "markdown",
   "metadata": {},
   "source": [
    "La fonction teste l'appartenance de l'élément v au tableau t.\n",
    "\n",
    "La fonction renverra `True` à tort si `v` n'appartient pas au tableau `t` sauf s'il est vide.    \n",
    "En effet, si `v` n'appartient pas au tableau `t` , la boucle s'arrête lorsque `i = len(t) - 1`. En sortie de boucle, on aura donc `i = len(t) - 1`.  Donc `i = len(t) - 1 < len(t)` et la fonction renverra `True`alors que l'élément n'appartient pas au tableau.\n",
    "\n",
    "Dans la série de tests, le quatrième met l'erreur en évidence."
   ]
  },
  {
   "cell_type": "code",
   "execution_count": 17,
   "metadata": {},
   "outputs": [
    {
     "ename": "AssertionError",
     "evalue": "",
     "output_type": "error",
     "traceback": [
      "\u001b[1;31m---------------------------------------------------------------------------\u001b[0m",
      "\u001b[1;31mAssertionError\u001b[0m                            Traceback (most recent call last)",
      "\u001b[1;32m<ipython-input-17-a95273927f9b>\u001b[0m in \u001b[0;36m<module>\u001b[1;34m\u001b[0m\n\u001b[0;32m     14\u001b[0m \u001b[1;32massert\u001b[0m \u001b[0mappartient\u001b[0m\u001b[1;33m(\u001b[0m\u001b[1;36m1\u001b[0m\u001b[1;33m,\u001b[0m \u001b[1;33m[\u001b[0m\u001b[1;36m1\u001b[0m\u001b[1;33m,\u001b[0m \u001b[1;36m2\u001b[0m\u001b[1;33m,\u001b[0m \u001b[1;36m3\u001b[0m\u001b[1;33m,\u001b[0m \u001b[1;36m4\u001b[0m\u001b[1;33m]\u001b[0m\u001b[1;33m)\u001b[0m \u001b[1;33m==\u001b[0m \u001b[1;32mTrue\u001b[0m\u001b[1;33m\u001b[0m\u001b[1;33m\u001b[0m\u001b[0m\n\u001b[0;32m     15\u001b[0m \u001b[1;32massert\u001b[0m \u001b[0mappartient\u001b[0m\u001b[1;33m(\u001b[0m\u001b[1;36m4\u001b[0m\u001b[1;33m,\u001b[0m \u001b[1;33m[\u001b[0m\u001b[1;36m1\u001b[0m\u001b[1;33m,\u001b[0m \u001b[1;36m2\u001b[0m\u001b[1;33m,\u001b[0m \u001b[1;36m3\u001b[0m\u001b[1;33m,\u001b[0m \u001b[1;36m4\u001b[0m\u001b[1;33m]\u001b[0m\u001b[1;33m)\u001b[0m \u001b[1;33m==\u001b[0m \u001b[1;32mTrue\u001b[0m\u001b[1;33m\u001b[0m\u001b[1;33m\u001b[0m\u001b[0m\n\u001b[1;32m---> 16\u001b[1;33m \u001b[1;32massert\u001b[0m \u001b[0mappartient\u001b[0m\u001b[1;33m(\u001b[0m\u001b[1;36m2\u001b[0m\u001b[1;33m,\u001b[0m \u001b[1;33m[\u001b[0m\u001b[1;36m1\u001b[0m\u001b[1;33m,\u001b[0m \u001b[1;36m3\u001b[0m\u001b[1;33m,\u001b[0m \u001b[1;36m4\u001b[0m\u001b[1;33m]\u001b[0m\u001b[1;33m)\u001b[0m \u001b[1;33m==\u001b[0m \u001b[1;32mFalse\u001b[0m\u001b[1;33m\u001b[0m\u001b[1;33m\u001b[0m\u001b[0m\n\u001b[0m",
      "\u001b[1;31mAssertionError\u001b[0m: "
     ]
    }
   ],
   "source": [
    "def appartient(v, t):\n",
    "    \"\"\"\n",
    "    Teste l'appartenance de l'élément v au tableau t\n",
    "    Entrée : v un élement\n",
    "             t un tableau\n",
    "    Sortie : renvoie True si v appartient au tableau t et False sinon         \n",
    "    \"\"\"\n",
    "    i = 0\n",
    "    while i < len(t) - 1 and t[i] != v:\n",
    "        i = i + 1\n",
    "    return i < len(t)\n",
    "\n",
    "assert appartient(2, []) == False\n",
    "assert appartient(1, [1, 2, 3, 4]) == True\n",
    "assert appartient(4, [1, 2, 3, 4]) == True\n",
    "assert appartient(2, [1, 3, 4]) == False"
   ]
  },
  {
   "cell_type": "markdown",
   "metadata": {},
   "source": [
    "<h2 style=\"color:blue\"> Exercice 5 : Tester une fonction (2)</h2>\n",
    "\n",
    "On prétend que la fonction suivante teste l’appartenance de la valeur **`v`** au tableau **`t`**.\n",
    "\n",
    "```Python\n",
    "def appartient(v, t):\n",
    "    trouvee = None\n",
    "    for i in range(len(t)):\n",
    "        if t[i] == v:\n",
    "            trouvee = True\n",
    "        else:\n",
    "            trouvee = False\n",
    "    return trouvee\n",
    "\n",
    "```\n",
    "Documenter puis donner des tests pour cette fonction, et en particulier des tests montrant plusieurs raisons pour lesquelles cette fonction est incorrecte."
   ]
  },
  {
   "cell_type": "markdown",
   "metadata": {},
   "source": [
    "Cette fonction génère une erreur si elle est appliquée au tableau vide. En effet, dans ce cas `len(t) = 0` et la boucle `for` n'est pas exécutée. La variable locale `trouvee` vaut donc sa valeur initiale, c'est-à-dire `None`.\n",
    "\n",
    "Autre erreur, plus grave encore, le booléen renvoyé par la fonction est systématiquement celui correspondant à la dernière comparaison faite : la fonction teste en réalité si `v` est le dernier élément du tableau. En effet, si avant d'arriver au dernier élément, `trouvee`pass à `True`, cette valeur sera écrasée au tour de boucle suivant si l'élément suivant n'est pas dans le tableau.\n",
    "\n",
    "Les premier et troisième tests mettent ces erreurs en évidence.\n",
    "\n",
    "*Remarque* : Les tests étant à la suite, si le premier n'est pas vérifié, le programme s'arrête et le troisième n'est pas effectué. Il faut d'abord corriger la programme pour que le premier test soit passé avec succès pour se rendre compte que le troisième déclenche aussi une erreur."
   ]
  },
  {
   "cell_type": "code",
   "execution_count": 19,
   "metadata": {},
   "outputs": [
    {
     "ename": "AssertionError",
     "evalue": "",
     "output_type": "error",
     "traceback": [
      "\u001b[1;31m---------------------------------------------------------------------------\u001b[0m",
      "\u001b[1;31mAssertionError\u001b[0m                            Traceback (most recent call last)",
      "\u001b[1;32m<ipython-input-19-75e8051de354>\u001b[0m in \u001b[0;36m<module>\u001b[1;34m\u001b[0m\n\u001b[0;32m      8\u001b[0m     \u001b[1;32mreturn\u001b[0m \u001b[0mtrouvee\u001b[0m\u001b[1;33m\u001b[0m\u001b[1;33m\u001b[0m\u001b[0m\n\u001b[0;32m      9\u001b[0m \u001b[1;33m\u001b[0m\u001b[0m\n\u001b[1;32m---> 10\u001b[1;33m \u001b[1;32massert\u001b[0m \u001b[0mappartient\u001b[0m\u001b[1;33m(\u001b[0m\u001b[1;36m1\u001b[0m\u001b[1;33m,\u001b[0m \u001b[1;33m[\u001b[0m\u001b[1;33m]\u001b[0m\u001b[1;33m)\u001b[0m \u001b[1;33m==\u001b[0m \u001b[1;32mFalse\u001b[0m\u001b[1;33m\u001b[0m\u001b[1;33m\u001b[0m\u001b[0m\n\u001b[0m\u001b[0;32m     11\u001b[0m \u001b[1;32massert\u001b[0m \u001b[0mappartient\u001b[0m\u001b[1;33m(\u001b[0m\u001b[1;36m1\u001b[0m\u001b[1;33m,\u001b[0m \u001b[1;33m[\u001b[0m\u001b[1;36m1\u001b[0m\u001b[1;33m,\u001b[0m \u001b[1;36m2\u001b[0m\u001b[1;33m,\u001b[0m \u001b[1;36m3\u001b[0m\u001b[1;33m]\u001b[0m\u001b[1;33m)\u001b[0m \u001b[1;33m==\u001b[0m \u001b[1;32mTrue\u001b[0m\u001b[1;33m\u001b[0m\u001b[1;33m\u001b[0m\u001b[0m\n\u001b[0;32m     12\u001b[0m \u001b[1;32massert\u001b[0m \u001b[0mappartient\u001b[0m\u001b[1;33m(\u001b[0m\u001b[1;36m3\u001b[0m\u001b[1;33m,\u001b[0m \u001b[1;33m[\u001b[0m\u001b[1;36m1\u001b[0m\u001b[1;33m,\u001b[0m \u001b[1;36m2\u001b[0m\u001b[1;33m,\u001b[0m \u001b[1;36m3\u001b[0m\u001b[1;33m]\u001b[0m\u001b[1;33m)\u001b[0m \u001b[1;33m==\u001b[0m \u001b[1;32mTrue\u001b[0m\u001b[1;33m\u001b[0m\u001b[1;33m\u001b[0m\u001b[0m\n",
      "\u001b[1;31mAssertionError\u001b[0m: "
     ]
    }
   ],
   "source": [
    "def appartient(v, t):\n",
    "    trouvee = None\n",
    "    for i in range(len(t)):\n",
    "        if t[i] == v:\n",
    "            trouvee = True\n",
    "        else:\n",
    "            trouvee = False\n",
    "    return trouvee\n",
    "\n",
    "assert appartient(1, []) == False\n",
    "assert appartient(1, [1, 2, 3]) == True\n",
    "assert appartient(3, [1, 2, 3]) == True\n",
    "assert appartient(4, [1, 2, 3]) == False"
   ]
  }
 ],
 "metadata": {
  "kernelspec": {
   "display_name": "Python 3",
   "language": "python",
   "name": "python3"
  },
  "language_info": {
   "codemirror_mode": {
    "name": "ipython",
    "version": 3
   },
   "file_extension": ".py",
   "mimetype": "text/x-python",
   "name": "python",
   "nbconvert_exporter": "python",
   "pygments_lexer": "ipython3",
   "version": "3.7.9"
  }
 },
 "nbformat": 4,
 "nbformat_minor": 4
}
