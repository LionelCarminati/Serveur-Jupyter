{
 "cells": [
  {
   "cell_type": "markdown",
   "metadata": {},
   "source": [
    "<h1 style=\"color:red\"> TP Python 2 : Fonctions et Conditions</h1>\n"
   ]
  },
  {
   "cell_type": "markdown",
   "metadata": {},
   "source": [
    "<h2 style=\"color:blue\"> Exercice 1</h2>\n",
    "\n",
    "Écrire une fonction **`coord_milieu(xA, yA, xB, yB)`** qui retourne le couple de coordonnées du milieu du segment $[AB]$.\n",
    "On vérifiera que **`coord_milieu(0,0,2,2)`** renvoie bien **`1, 1`**.\n",
    "\n",
    "*Remarque* : l'abscisse et l'ordonnée du milieu d'un segment sont les demi-sommes des abscisses et des ordonnées des deux points délimitant le segment."
   ]
  },
  {
   "cell_type": "code",
   "execution_count": 2,
   "metadata": {},
   "outputs": [],
   "source": [
    "def coord_milieu(xA, yA, xB, yB):\n",
    "    return ((xA + xB)/2,(yA + yB)/2)"
   ]
  },
  {
   "cell_type": "code",
   "execution_count": 3,
   "metadata": {},
   "outputs": [
    {
     "data": {
      "text/plain": [
       "(1.0, 1.0)"
      ]
     },
     "execution_count": 3,
     "metadata": {},
     "output_type": "execute_result"
    }
   ],
   "source": [
    "coord_milieu(0,0,2,2)"
   ]
  },
  {
   "cell_type": "markdown",
   "metadata": {},
   "source": [
    "<h2 style=\"color:blue\"> Exercice 2</h2>\n",
    "\n",
    "La surface ***S*** en mètre carrées de la peau d'un adulte est donnée approximativement par la formule $ \\dfrac{\\sqrt[]{l\\times m}}{6}$ où ***l*** est la taille de l'individu en mètres et ***m***  sa masse en kilogramme.\n",
    "\n",
    "Écrire une fonction **`surface(l,m)`** qui retourne la surface corporelle d'un adulte. \n",
    "On vérifiera que la surface corporelle d'un individu de $1,8m$ et $75 kg$ est d'environ $1,94$ $m^2$. \n",
    "\n",
    "La fonction racine carrée se trouve dans le module ***math*** et s'appelle ***sqrt***, pour l'utiliser dans un script, il faut d'abord l'importer avec l'instruction suivante :\n",
    "\n",
    "```python\n",
    "    from math import sqrt\n",
    "```\n",
    "Ensuite, pour avoir la racine carrée d'un nombre `x` il suffira d'écrire `sqrt(x)`."
   ]
  },
  {
   "cell_type": "code",
   "execution_count": 4,
   "metadata": {},
   "outputs": [],
   "source": [
    "from math import sqrt\n",
    "\n",
    "def surface(l,m):\n",
    "    surface = sqrt(l*m)/6\n",
    "    return surface\n"
   ]
  },
  {
   "cell_type": "code",
   "execution_count": 5,
   "metadata": {},
   "outputs": [
    {
     "data": {
      "text/plain": [
       "1.9364916731037083"
      ]
     },
     "execution_count": 5,
     "metadata": {},
     "output_type": "execute_result"
    }
   ],
   "source": [
    "surface(1.8,75)"
   ]
  },
  {
   "cell_type": "markdown",
   "metadata": {},
   "source": [
    "<h2 style=\"color:blue\"> Exercice 3</h2>\n",
    "\n",
    "1. Écrire un programme qui demande à l’utilisateur d’entrer un nombre. Si ce nombre est inférieur ou égal à 100, le programme affiche \"Le nombre … est inférieur à 100\". Dans tous les cas il doit afficher \"Le nombre était le …\"."
   ]
  },
  {
   "cell_type": "code",
   "execution_count": 6,
   "metadata": {},
   "outputs": [
    {
     "name": "stdout",
     "output_type": "stream",
     "text": [
      "Entrer un nombre entier : 6\n",
      "Le nombre 6 est inférieur ou égale à 100\n",
      "Le nombre était 6\n"
     ]
    }
   ],
   "source": [
    "nb = int(input(\"Entrer un nombre entier : \"))\n",
    "if nb <= 100:\n",
    "    print(f\"Le nombre {nb} est inférieur ou égale à 100\")\n",
    "print(f\"Le nombre était {nb}\")"
   ]
  },
  {
   "cell_type": "markdown",
   "metadata": {},
   "source": [
    "<h2 style=\"color:blue\"> Exercice 4</h2>\n",
    "\n",
    "Écrire une fonction **`tarif(age)`** qui doit lire l'âge d'une personne et afficher soit \"Tarif réduit\" si cette personne a strictement moins de 18 ans, soit \"Tarif plein\" dans le cas contraire.\n",
    "\n",
    "**Exemple**  \n",
    "\n",
    "<table style=\"border:1px solid black;\">\n",
    "<tr style=\"border:1px solid black;\"><th>Variables:</th><th>age</th><th></th><th>age</th></tr>\n",
    "<tr><td>Entrée:</td><td>16</td><td></td><td>18</td></tr>\n",
    "<tr><td>Sortie:</td><td>Tarif réduit</td><td></td><td>Tarif plein</td></tr>\n",
    "</table>"
   ]
  },
  {
   "cell_type": "code",
   "execution_count": 8,
   "metadata": {},
   "outputs": [
    {
     "name": "stdout",
     "output_type": "stream",
     "text": [
      "Tarif réduit\n",
      "Tarif plein\n"
     ]
    }
   ],
   "source": [
    "def tarif(age):\n",
    "    if age < 18:\n",
    "        print(\"Tarif réduit\")\n",
    "    else:\n",
    "        print(\"Tarif plein\")\n",
    "\n",
    "tarif(16)\n",
    "tarif(18)"
   ]
  },
  {
   "cell_type": "markdown",
   "metadata": {},
   "source": [
    "Que se passerait-il si on remplaçait `tarif(16)`par `print(tarif(16)` dans le programme précédent ? Expliquez pourquoi."
   ]
  },
  {
   "cell_type": "code",
   "execution_count": 9,
   "metadata": {},
   "outputs": [
    {
     "name": "stdout",
     "output_type": "stream",
     "text": [
      "Tarif réduit\n",
      "None\n"
     ]
    }
   ],
   "source": [
    "print(tarif(16))"
   ]
  },
  {
   "cell_type": "markdown",
   "metadata": {},
   "source": [
    "Le programme affiche \"Tarif réduit\" lors de l'écécution de la fonction. L'instruction `print`fait afficher le résultat de la fonction (ce qu'elle renvoie). Or, notre fonction ici ne renvoit rien, c'est-à-dire par défaut, `None`. Et c'est cela qui est affiché."
   ]
  },
  {
   "cell_type": "markdown",
   "metadata": {},
   "source": [
    "<h2 style=\"color:blue\"> Exercice 5</h2>\n",
    "\n",
    "Écrire une fonction **`bornes(a,b)`** qui doit lire deux entiers, correspondant à deux numéros de bornes kilométriques, et  afficher la distance séparant ces deux bornes.  \n",
    "Notez que le résultat doit être un nombre positif ou nul.   \n",
    "On n'oubliera pas de tester la fonction en utilisant les informations ci-dessous.\n",
    "\n",
    "<table style=\"border:1px solid black;\">\n",
    "<tr style=\"border:1px solid black;\"><th>Variables:</th><th> b1, b2, d</th><th></th><th> b1, b2, d</th></tr>\n",
    "<tr><td>Entrée:</td><td>25; 15</td><td></td><td>15; 25</td></tr>\n",
    "<tr><td>Sortie:</td><td>10</td><td></td><td>10</td></tr>\n",
    "</table>"
   ]
  },
  {
   "cell_type": "code",
   "execution_count": 11,
   "metadata": {},
   "outputs": [
    {
     "name": "stdout",
     "output_type": "stream",
     "text": [
      "Distance : 10\n",
      "Distance : 10\n"
     ]
    }
   ],
   "source": [
    "def bornes(a, b):\n",
    "    if b > a:\n",
    "        print(f\"Distance : {b - a}\")\n",
    "    else : \n",
    "        print(f\"Distance : {a - b}\")\n",
    "bornes(25,15)\n",
    "bornes(15,25)"
   ]
  },
  {
   "cell_type": "markdown",
   "metadata": {},
   "source": [
    "<h2 style=\"color:blue\"> Exercice 6</h2>\n",
    "\n",
    "Écrire une fonction **`signe_prod()`** qui prend comme arguments deux entiers **`a`** et **`b`** relatifs et qui renvoie **`True`** si le nombre est positif et **`False`**\n",
    "sinon.    \n",
    "Attention : on ne doit pas calculer le produit des deux nombres."
   ]
  },
  {
   "cell_type": "code",
   "execution_count": 18,
   "metadata": {},
   "outputs": [
    {
     "name": "stdout",
     "output_type": "stream",
     "text": [
      "True\n",
      "False\n",
      "False\n",
      "True\n",
      "False\n",
      "False\n"
     ]
    }
   ],
   "source": [
    "def signe_prod(a,b):\n",
    "    if a > 0:\n",
    "        if b > 0:\n",
    "            return True\n",
    "        else :\n",
    "            return False\n",
    "    else:\n",
    "        if b>=0:\n",
    "            return False\n",
    "        else:\n",
    "            return True\n",
    "print(signe_prod(1,1))\n",
    "print(signe_prod(1,-1))\n",
    "print(signe_prod(-1,1))\n",
    "print(signe_prod(-1,-1))\n",
    "print(signe_prod(0,1))\n",
    "print(signe_prod(1,0))"
   ]
  },
  {
   "cell_type": "code",
   "execution_count": 19,
   "metadata": {},
   "outputs": [
    {
     "name": "stdout",
     "output_type": "stream",
     "text": [
      "True\n",
      "False\n",
      "False\n",
      "True\n",
      "False\n",
      "False\n"
     ]
    }
   ],
   "source": [
    "# Autre façon en utilsant les conjonctions AND et OR\n",
    "def signe_prod(a,b):\n",
    "    if (a > 0 and b > 0) or (a < 0 and b < 0):\n",
    "        return True\n",
    "    else:\n",
    "        return False\n",
    "print(signe_prod(1,1))\n",
    "print(signe_prod(1,-1))\n",
    "print(signe_prod(-1,1))\n",
    "print(signe_prod(-1,-1))\n",
    "print(signe_prod(0,1))\n",
    "print(signe_prod(1,0))   "
   ]
  },
  {
   "cell_type": "markdown",
   "metadata": {},
   "source": [
    "<h2 style=\"color:blue\"> Exercice 7</h2>\n",
    "\n",
    "Écrire une fonction **`est_pair`** qui prend en paramètre un nombre entier et renvoie **`True`** si ce nombre est pair et **`False`** sinon.   \n",
    "**Indice** : un nombre pair est divisible par deux. Que veut le reste d'une telle division ?"
   ]
  },
  {
   "cell_type": "code",
   "execution_count": 22,
   "metadata": {},
   "outputs": [
    {
     "name": "stdout",
     "output_type": "stream",
     "text": [
      "True\n",
      "False\n"
     ]
    }
   ],
   "source": [
    "def est_pair(nb):\n",
    "    if nb%2 == 0: \n",
    "        return True\n",
    "    else : \n",
    "        return False\n",
    "print(est_pair(4))\n",
    "print(est_pair(3))"
   ]
  },
  {
   "cell_type": "markdown",
   "metadata": {},
   "source": [
    "<h2 style=\"color:blue\"> Exercice 8</h2>\n",
    "\n",
    "On veux construire un triangle.   \n",
    "Écrire une fonction **`estconstructible(a,b,c)`**  qui renvoie \t**`True`** si l'on peut construire un triangle de côtés $a, b, c$ et **`False`** si ce triangle n'est pas constructible.    \n",
    "Tester votre fonction en utilisant les informations données dans l'exemple.\n",
    "\n",
    "*Aide*: rechercher sur un moteur de recherche avec les mots   ***inégalité triangulaire  collège***.\n",
    "\n",
    "**Exemples**\n",
    "\n",
    "<table style=\"border:1px solid black;\">\n",
    "<tr style=\"border:1px solid black;\"><th>Variables:</th><th>a, b, c</th><th></th><th>a, b, c</th></tr>\n",
    "<tr><td>Entrée:</td><td>2 , 3, 6</td><td></td><td>2 3 4</td></tr>\n",
    "<tr><td>Sortie:</td><td>False</td><td></td><td>True</td></tr>\n",
    "</table>"
   ]
  },
  {
   "cell_type": "code",
   "execution_count": 23,
   "metadata": {},
   "outputs": [
    {
     "name": "stdout",
     "output_type": "stream",
     "text": [
      "False\n",
      "True\n"
     ]
    }
   ],
   "source": [
    "# L'inégalité triangulaire indique que dans un triangle la longueur d'un coté \n",
    "# est toujours inférieure à la somme des longueurs des deux autres cotés. \n",
    "\n",
    "def estconstructible(a,b,c):\n",
    "    test = (a < (b + c)) and (b < (a + c)) and (c < (a + b)) # le test est évalué et le résultat, True \n",
    "                                                             # ou False est stocké dans la variable test\n",
    "    if test : # Si la variable test vaut True\n",
    "        return True\n",
    "    else :\n",
    "        return False\n",
    "\n",
    "print(estconstructible(2,3,6))\n",
    "print(estconstructible(2,3,4))\n",
    "\n",
    "# On aurait bien sur pu écrire if (a < (b + c)) and (b < (a + c)) and (c < (a + b)):"
   ]
  },
  {
   "cell_type": "markdown",
   "metadata": {},
   "source": [
    "<h2 style=\"color:blue\"> Exercice 9</h2>\n",
    "\n",
    "1. Écrire une fonction **`tri2c(a,b)`** qui retourne les deux valeurs passées en paramètres, triées par ordre croissant."
   ]
  },
  {
   "cell_type": "code",
   "execution_count": 24,
   "metadata": {},
   "outputs": [
    {
     "name": "stdout",
     "output_type": "stream",
     "text": [
      "(1, 8)\n"
     ]
    }
   ],
   "source": [
    "def tri2c(a,b):\n",
    "    if a < b:\n",
    "        return (a,b)\n",
    "    else:\n",
    "        return (b,a)\n",
    "\n",
    "print(tri2c(8,1))"
   ]
  },
  {
   "cell_type": "markdown",
   "metadata": {},
   "source": [
    "2. Écrire une fonction **`tri3c(a,b,c)`** qui retourne les trois valeurs passées en paramètres, triées par ordre croissant. Testez votre fonction."
   ]
  },
  {
   "cell_type": "code",
   "execution_count": 29,
   "metadata": {},
   "outputs": [
    {
     "name": "stdout",
     "output_type": "stream",
     "text": [
      "(1, 2, 3)\n",
      "(1, 2, 3)\n",
      "(1, 2, 3)\n",
      "(1, 2, 3)\n",
      "(1, 2, 3)\n",
      "(1, 2, 3)\n"
     ]
    }
   ],
   "source": [
    "def tri3c(a,b,c):\n",
    "    if a < b and a < c:\n",
    "        if b < c:\n",
    "            return (a,b,c)\n",
    "        else:\n",
    "            return (a,c,b)\n",
    "    elif b < a and b < c:\n",
    "        if a < c :\n",
    "            return (b,a,c)\n",
    "        else:\n",
    "            return (b,c,a)\n",
    "    else:\n",
    "        if a < b:\n",
    "            return (c,a,b)\n",
    "        else :\n",
    "            return (c,b,a)\n",
    "print(tri3c(1,2,3))\n",
    "print(tri3c(1,3,2))\n",
    "print(tri3c(2,1,3))\n",
    "print(tri3c(2,3,1))\n",
    "print(tri3c(3,2,1))\n",
    "print(tri3c(3,1,2))\n"
   ]
  },
  {
   "cell_type": "markdown",
   "metadata": {},
   "source": [
    "3. Écrire une fonction **`tri3d(a,b,c)`** qui retourne les trois valeurs passées en paramètres, triées par ordre décroissant."
   ]
  },
  {
   "cell_type": "code",
   "execution_count": 28,
   "metadata": {},
   "outputs": [
    {
     "name": "stdout",
     "output_type": "stream",
     "text": [
      "(3, 2, 1)\n",
      "(3, 2, 1)\n",
      "(3, 2, 1)\n",
      "(3, 2, 1)\n",
      "(3, 2, 1)\n",
      "(3, 2, 1)\n",
      "(7, 4, 2)\n"
     ]
    }
   ],
   "source": [
    "def tri3d(a,b,c):\n",
    "    if a < b and a < c:\n",
    "        if b < c:\n",
    "            return (c,b,a)\n",
    "        else:\n",
    "            return (b,c,a)\n",
    "    elif b < a and b < c:\n",
    "        if a < c :\n",
    "            return (c,a,b)\n",
    "        else:\n",
    "            return (a,c,b)\n",
    "    else:\n",
    "        if a < b:\n",
    "            return (b,a,c)\n",
    "        else :\n",
    "            return (a,b,c)\n",
    "print(tri3d(1,2,3))\n",
    "print(tri3d(1,3,2))\n",
    "print(tri3d(2,1,3))\n",
    "print(tri3d(2,3,1))\n",
    "print(tri3d(3,2,1))\n",
    "print(tri3d(3,1,2))\n",
    "\n",
    "print(tri3d(4,2,7))"
   ]
  },
  {
   "cell_type": "markdown",
   "metadata": {},
   "source": [
    "4. Écrire une fonction **`tri3(a,b,c,reverse=False)`** qui qui trie les valeurs 𝑎,𝑏 et 𝑐 par ordre croissant si **`reverse=False`** et décroissant si **`reverse=True`**. Testez votre fonction.\n",
    "\n",
    "Remarque : On peut imposer des valeurs par défaut dans une fonction. Ici, **`reverse=False`** met par défaut la valeur du paramètre **`reverse`** à **`False`**.   \n",
    "Du coup, on n'est pas obligé de lui donner une valeur lors de l'appel de la fonction : écrire **`tri3(5,3,7,False)`** est équivalent à écrire **`tri3(5,3,7)`**."
   ]
  },
  {
   "cell_type": "code",
   "execution_count": 32,
   "metadata": {},
   "outputs": [
    {
     "name": "stdout",
     "output_type": "stream",
     "text": [
      "(2, 4, 7)\n",
      "(2, 4, 7)\n",
      "(7, 4, 2)\n"
     ]
    }
   ],
   "source": [
    "# On suppose que les fonction précédentes sont déjà écrite (et on été exécutées)\n",
    "\n",
    "def tri3(a,b,c,reverse=False):\n",
    "    if reverse: # si reverse vaut True\n",
    "        return tri3d(a,b,c)\n",
    "    else:\n",
    "        return tri3c(a,b,c)\n",
    "        \n",
    "\n",
    "\n",
    "print(tri3(4,2,7))\n",
    "print(tri3(4,2,7,reverse=False))\n",
    "print(tri3(4,2,7,reverse=True))"
   ]
  },
  {
   "cell_type": "markdown",
   "metadata": {},
   "source": [
    "<h2 style=\"color:blue\"> Exercice 10</h2>\n",
    "\n",
    "On lance un dé (équilibré, à six faces). \n",
    "- Le joueur gagne 3€ s'il tombe sur une face paire inférieur ou égale à 4 \n",
    "- Il gagne 4€ s'il tombe sur 6.\n",
    "- Il perd 2€ s'il tombe sur une face impaire.\n",
    "\n",
    "**Ce que  votre fonction doit faire**\n",
    "\n",
    "Écrire une fonction **`jeude()`** qui simulera un lancer de dé et affichera la valeur du dé et le gain correspondant.  \n",
    "\n",
    "\n",
    "La fonction **`randint(a,b)**` du module **`random`**  renvoie un nombre entier au hasard entre *a* et *b*.\n",
    "\n",
    "**Exemples**\n",
    "\n",
    "<table style=\"border:1px solid black;\">\n",
    "<tr style=\"border:1px solid black;\"><th>Variables:</th><th>de, gain</th><th></th><th>de, gain</th></tr>\n",
    "<tr><td>Entrée:</td><td></td><td></td><td></td></tr>\n",
    "<tr><td>Sortie:</td><td>dé=2<br /> gain=3€</td><td></td><td>dé=1<br /> gain=-2€</td></tr>\n",
    "</table>"
   ]
  },
  {
   "cell_type": "code",
   "execution_count": 34,
   "metadata": {},
   "outputs": [
    {
     "name": "stdout",
     "output_type": "stream",
     "text": [
      "Vous avez fait 3\n",
      "Vous perdez 2€\n"
     ]
    }
   ],
   "source": [
    "from random import randint\n",
    "\n",
    "def jeude():\n",
    "    de = randint(1,6)\n",
    "    print(f\"Vous avez fait {de}\")\n",
    "    if de == 2 or de ==4:\n",
    "        print(\"Vous gagnez 3€\")\n",
    "    if de == 6:\n",
    "        print(\"Vous gagnez 4€\")\n",
    "    if de%2==1:\n",
    "        print(\"Vous perdez 2€\")\n",
    "\n",
    "\n",
    "jeude()"
   ]
  },
  {
   "cell_type": "markdown",
   "metadata": {},
   "source": [
    "<h2 style=\"color:blue\"> Exercice 11</h2>\n",
    "\n",
    "#### Facultatif mais très intéressant\n",
    "Écrire une fonction `hms` qui demande à l’utilisateur d’entrer un nombre de secondes et qui l’affiche sous la forme d’heures/minutes/secondes. Écrire un jeu de tests.   \n",
    "***Indice*** : on pensera à utiliser la division euclidienne et son reste. En effet, la division eulidienne de 125 par 60 donne par exemple un quotient de 2 et un reste de 5...\n"
   ]
  },
  {
   "cell_type": "code",
   "execution_count": 35,
   "metadata": {},
   "outputs": [],
   "source": [
    "def hms(nbsec):\n",
    "    h = nbsec//(60*60) # le quotient de la division du nombre de secondes par 3600 donne le nb d'heures\n",
    "    s_restant = nbsec%(60*60) # le reste de la division donne le nombre de seconde restante \n",
    "                              # une fois qu'on a enlevé les heures\n",
    "    m = s_restant//60 # le quotient de la division par 60 du nb de secondes restantes donne les minutes\n",
    "    s = s_restant%60 # le reste donne les secondes\n",
    "    return (h,m,s)\n",
    "    "
   ]
  },
  {
   "cell_type": "code",
   "execution_count": null,
   "metadata": {},
   "outputs": [],
   "source": []
  }
 ],
 "metadata": {
  "kernelspec": {
   "display_name": "Python 3",
   "language": "python",
   "name": "python3"
  },
  "language_info": {
   "codemirror_mode": {
    "name": "ipython",
    "version": 3
   },
   "file_extension": ".py",
   "mimetype": "text/x-python",
   "name": "python",
   "nbconvert_exporter": "python",
   "pygments_lexer": "ipython3",
   "version": "3.7.7"
  }
 },
 "nbformat": 4,
 "nbformat_minor": 4
}
