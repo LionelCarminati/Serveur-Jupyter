{
 "cells": [
  {
   "cell_type": "markdown",
   "metadata": {},
   "source": [
    "<h1 style=\"color:red\"> TP Types Construits : Les tableaux </h1>"
   ]
  },
  {
   "cell_type": "markdown",
   "metadata": {},
   "source": [
    "<h2 style=\"color:blue\"> Exercice 1 : Fréquence d'apparition</h2>\n",
    "\n",
    "1. Écrire un programme qui tire au hasard mille entiers entre **`1`** et  **`10`** et affiche ensuite le nombre de fois que chaque nombre a été tiré.      \n",
    "*Indice* : Utiliser un tableau pour stocker le nombre de fois où chaque valeur apparait.\n",
    "\n",
    "2. Modifier le programme pour que le nombre de tirages soit fixé par une variable et qu'il affiche la fréquence d'appartion de chaque valeur, c'est-à-dire le nombre de fois qu'elle apparait divisé par le nombre total de tirage. Relancer  le  programme plusieurs fois.\n",
    "\n",
    "<u>*Rappel*</u> : pour tirer un entier au hasard entre **`1`** et **`n`**, il faut utiliser la fonction **`randint`** du module **`random`** en écrivant **`randint(n)`**. **`randint(a,b)`** permet de tirer un nombre entier aléatoire entre **`a`** et **`b`** inclus.\n"
   ]
  },
  {
   "cell_type": "markdown",
   "metadata": {},
   "source": [
    "On utilise un tableau de taille 11 dans lequel on stocke le nombre de fois que chaque nombre a été tiré. La case 0 de ce tableau n'est pas utilisée.     "
   ]
  },
  {
   "cell_type": "code",
   "execution_count": 2,
   "metadata": {},
   "outputs": [
    {
     "name": "stdout",
     "output_type": "stream",
     "text": [
      "1 apparaît 78 fois\n",
      "2 apparaît 103 fois\n",
      "3 apparaît 95 fois\n",
      "4 apparaît 91 fois\n",
      "5 apparaît 105 fois\n",
      "6 apparaît 100 fois\n",
      "7 apparaît 99 fois\n",
      "8 apparaît 118 fois\n",
      "9 apparaît 120 fois\n",
      "10 apparaît 91 fois\n"
     ]
    }
   ],
   "source": [
    "from random import randint\n",
    "# Initialement, tous les compteurs sont à 0.\n",
    "hist = [0] * 11\n",
    "# On répète 1000 fois le tirage de n entre 1 et 10 inclus\n",
    "for k in range(1000):\n",
    "    n = randint(1,10)\n",
    "    # On augmente le compteur du nombre tiré de 1\n",
    "    hist[n] = hist[n] + 1\n",
    "\n",
    "# On affiche les résultats\n",
    "for v in range(1,11):\n",
    "    print(f\"{v} apparaît {hist[v]} fois\")\n"
   ]
  },
  {
   "cell_type": "code",
   "execution_count": 7,
   "metadata": {},
   "outputs": [
    {
     "name": "stdout",
     "output_type": "stream",
     "text": [
      "1 apparaît 10083 fois et a donc une fréquence d'apparition de 0.10083\n",
      "2 apparaît 9956 fois et a donc une fréquence d'apparition de 0.09956\n",
      "3 apparaît 9991 fois et a donc une fréquence d'apparition de 0.09991\n",
      "4 apparaît 9881 fois et a donc une fréquence d'apparition de 0.09881\n",
      "5 apparaît 10043 fois et a donc une fréquence d'apparition de 0.10043\n",
      "6 apparaît 9945 fois et a donc une fréquence d'apparition de 0.09945\n",
      "7 apparaît 10039 fois et a donc une fréquence d'apparition de 0.10039\n",
      "8 apparaît 10094 fois et a donc une fréquence d'apparition de 0.10094\n",
      "9 apparaît 9871 fois et a donc une fréquence d'apparition de 0.09871\n",
      "10 apparaît 10097 fois et a donc une fréquence d'apparition de 0.10097\n"
     ]
    }
   ],
   "source": [
    "from random import randint\n",
    "# Initialement, tous les compteurs sont à 0.\n",
    "hist = [0] * 11\n",
    "nb_tirages = 100000\n",
    "# On répète nb_tirages fois le tirage de n entre 1 et 10 inclus\n",
    "for k in range(nb_tirages):\n",
    "    n = randint(1,10)\n",
    "    # On augmente le compteur du nombre tiré de 1\n",
    "    hist[n] = hist[n] + 1\n",
    "\n",
    "# On affiche les résultats\n",
    "for v in range(1,11):\n",
    "    print(f\"{v} apparaît {hist[v]} fois et a donc une fréquence d'apparition de {hist[v]/nb_tirages}\")"
   ]
  },
  {
   "cell_type": "markdown",
   "metadata": {},
   "source": [
    "<h2 style=\"color:blue\"> Exercice 2 : Ajouter un élément en fin de tableau</h2>\n",
    "\n",
    "Écrire un programme **`ajout(v, t)`** qui crée un nouveau tableau contenant  d’abord  tous  les éléments de **`t`** puis l'élément **`v`**.\n",
    "\n",
    "*Remarque* : On crée ici un nouveau tableau. Python utilise des tbleaux dynamiques, c'est-à-dire que l'on peut modifier leur taille \"à la volée\". Ainsi, il existe une intruction qui permet de rajouter au tableau existant un nouvel élément à la fin de celui-ci, sans pour autant créer un nouveau tableau. La taille tu tableau est alors automatiquement augmentée de 1. Il suffit de faire : **`t.append(v)`**.   \n",
    "Testez cette instruction. Nous éviterons toutefois de l'utiliser car nous avons pris le parti de considérer les tableaux dont la taille fixée dès le départ.\n"
   ]
  },
  {
   "cell_type": "code",
   "execution_count": 10,
   "metadata": {},
   "outputs": [
    {
     "name": "stdout",
     "output_type": "stream",
     "text": [
      "[1, 2, 3, 4]\n"
     ]
    }
   ],
   "source": [
    "def ajoute(v, t):\n",
    "    # On crée un tableau de len(t) + 1 éléments contenant uniquement l'élément v\n",
    "    r = [v] * (len(t) + 1)\n",
    "    # On copie le tableau t aux len(t) premières places du tableau précédent. La dernière valeur reste donc v\n",
    "    for i in range (len(t)):\n",
    "        r[i] = t[i]\n",
    "    return r\n",
    "print(ajoute(4,[1, 2, 3]))"
   ]
  },
  {
   "cell_type": "code",
   "execution_count": 12,
   "metadata": {},
   "outputs": [
    {
     "name": "stdout",
     "output_type": "stream",
     "text": [
      "[1, 2, 3, 4]\n"
     ]
    }
   ],
   "source": [
    "t = [1, 2, 3]\n",
    "t.append(4)\n",
    "print(t)"
   ]
  },
  {
   "cell_type": "markdown",
   "metadata": {},
   "source": [
    "<h2 style=\"color:blue\"> Exercice 3 : La suite de Fibonacci</h2>\n",
    "\n",
    "En mathématiques, la très celèbre ***suite de Fibonacci*** est une séquence infinie d'entiers définie de la façon suivante : on part des deux entiers **`0`** et **`1`** puis on construit à chaque fois l’entier suivant comme la somme des deux entiers précédents.\n",
    "\n",
    "    0, 1, 0 + 1 = 1, 1 + 1 = 2, 1 + 2 = 3, 2 + 3 = 5, ...\n",
    "\n",
    "Écrire un programme  qui construit  puis imprime un tableau  contenant  les 30\n",
    "premiers   termes  de  la  suite.   Le  dernier   élément   de  ce   tableau   doit être\n",
    "514 229.\n"
   ]
  },
  {
   "cell_type": "code",
   "execution_count": 13,
   "metadata": {},
   "outputs": [
    {
     "name": "stdout",
     "output_type": "stream",
     "text": [
      "[0, 1, 1, 2, 3, 5, 8, 13, 21, 34, 55, 89, 144, 233, 377, 610, 987, 1597, 2584, 4181, 6765, 10946, 17711, 28657, 46368, 75025, 121393, 196418, 317811, 514229]\n"
     ]
    }
   ],
   "source": [
    "# Initialisation\n",
    "n = 30\n",
    "fib = [0] * n # On a donc fib[0] = 0\n",
    "fib[1] = 1\n",
    "# On utilise la relation de définition pour remplir les autres cases (à partir de la 2ème)\n",
    "for i in range(2, n):\n",
    "    # La ième valeur du tableau contient la somme des deux précédentes, i-1 et i-2\n",
    "    fib[i] = fib[i-2] + fib[i-1]\n",
    "print(fib)"
   ]
  },
  {
   "cell_type": "markdown",
   "metadata": {},
   "source": [
    "<h2 style=\"color:blue\">Exercice 4 : Tableau aléatoire croissant</h2>\n",
    "\n",
    "Écrire une fonction **`tableau_croissant(n)`** qui  renvoie  un  tableau de taille **`n`** contenant des entiers tirés an hasard et ayant la propriété d’etre trié par ordre croissant. \n",
    "\n",
    "Pour faire cela, on pourrait construire un tableau aléatoire, puis le trier avec un algorithme de tri (ce que nous verrons ultérieurement).      \n",
    "Il y a néanmoins une façon plus simple de procéder, consistant à remplir le tableau de gauche à droite en ajoutant à chaque fois un entier positif ou nul (entre 0 et 10 par exemple) à l’élément précèdent. Ainsi, le tableau est trié par construction."
   ]
  },
  {
   "cell_type": "markdown",
   "metadata": {},
   "source": [
    "On suit l'indication de l'énoncé et on tire au hasard un nombre entre 0 et 10 que l'on ajoute à l'élément précédent."
   ]
  },
  {
   "cell_type": "code",
   "execution_count": 14,
   "metadata": {},
   "outputs": [
    {
     "name": "stdout",
     "output_type": "stream",
     "text": [
      "[0, 0, 6, 15, 15, 17, 18, 27, 32, 37]\n"
     ]
    }
   ],
   "source": [
    "from random import randint\n",
    "def tableau_croissant(n):\n",
    "    tab = [0] * n\n",
    "    # On garde la valeur du premiere élément à 0\n",
    "    for i in range(1, n):\n",
    "        tab[i] = tab[i-1] + randint(0,10)\n",
    "    return tab\n",
    "print(tableau_croissant(10))"
   ]
  },
  {
   "cell_type": "markdown",
   "metadata": {},
   "source": [
    "<h2 style=\"color:blue\"> Exercice 5 : Fonction miroir</h2>\n",
    "\n",
    "Écrire une fonction **`miroir(tab)`** qui reçoit un tableau en argument et le modifie pour échanger le premier élément avec le dernier, le second avec l’avant-dernier, etc.    \n",
    "Dit autrement, on remplace le tableau par son image miroir. On pourra se servir de la fonction **`echange`** développée dans le cours."
   ]
  },
  {
   "cell_type": "code",
   "execution_count": 31,
   "metadata": {},
   "outputs": [
    {
     "name": "stdout",
     "output_type": "stream",
     "text": [
      "[4, 3, 2, 1] [5, 4, 3, 2, 1]\n"
     ]
    }
   ],
   "source": [
    "def echange(tab, i, j):\n",
    "    tmp = tab[i]\n",
    "    tab[i] = tab[j]\n",
    "    tab[j] = tmp\n",
    "\n",
    "# On va parcourir le tableau jusqu'à la moitié et échanger chaque élément avec son symétrique.\n",
    "# En réfléchissant un peu, on constate que le symétrique de l'élément i est l'élément len(tab)-i-1\n",
    "# car la dernière case du tableau a pour indice len(t)-1\n",
    "\n",
    "def miroir(tab):\n",
    "    n = len(tab) # On stocke la valeur de len(t) pour ne pas la recalculer à chaque tour de boucle\n",
    "    for i in range(n//2):\n",
    "        echange(tab, i, n-i-1)\n",
    "\n",
    "t1 = [1,2,3,4]\n",
    "t2 = [1,2,3,4,5]\n",
    "miroir(t1)\n",
    "miroir(t2)\n",
    "print(t1,t2)"
   ]
  },
  {
   "cell_type": "markdown",
   "metadata": {},
   "source": [
    "Si le tableau est de taille paire, c'est-à-dire `n = 2k` alors la boucle `for` va de `0` à `k` exclu et parcours bien la première moitié du tableau.     \n",
    "Si en revanche le tableau a une taille impaire, c'est-à-dire `n = 2k + 1`, la boucle `for` va toujours de `0` à `k` exclu. Elle parcourt bien la première moitié du tableau, à l'exclusion de l'élément central. Mais l'élément central n'a pas a être modifié par l'opération de symétrie donc c'est bien correct."
   ]
  },
  {
   "cell_type": "markdown",
   "metadata": {},
   "source": [
    "<h2 style=\"color:blue\"> Exercice 6 : Mélanger un tableau</h2>\n",
    "\n",
    "Pour mélanger les élements d’un tableau  aléatoirement, il existe un algorithme très simple qui procède ainsi : on parcourt le tableau de la gauche vers la droite et, pour chaque élément à l’indice  **`i`**,  on l’échange  avec un élèment situe à un indice tiré  aléatoirement  entre  **`0`** et  **`i`**  (inclus).  \n",
    "\n",
    "Écrire une fonction **`melange(tab)`** qui réalise cet algorithme. On pourra se resservir de la fonction **`echange`** développée dans le cours. Cet algorithme  s’appelle  le ***mélange de Knuth***."
   ]
  },
  {
   "cell_type": "code",
   "execution_count": 33,
   "metadata": {},
   "outputs": [
    {
     "name": "stdout",
     "output_type": "stream",
     "text": [
      "[3, 1, 2, 5, 4]\n"
     ]
    }
   ],
   "source": [
    "from random import randint\n",
    "def echange(tab, i, j):\n",
    "    tmp = tab[i]\n",
    "    tab[i] = tab[j]\n",
    "    tab[j] = tmp\n",
    "\n",
    "# On suit l'algorithme donné\n",
    "def melange(tab):\n",
    "    for i in range(1, len(tab)):\n",
    "        echange(tab, i, randint(0,i))\n",
    "\n",
    "t = [1,2,3,4,5]\n",
    "melange(t)\n",
    "print(t)"
   ]
  },
  {
   "cell_type": "markdown",
   "metadata": {},
   "source": [
    "<h2 style=\"color:blue\"> Exercice 7 : Tableau préfixe</h2>\n",
    "\n",
    "Écrire une fonction **`prefixe(tab1, tab2)`**  qui renvoie **`True`**  si  le tableau **`tab1`** est un préfixe du tableau **`tab2`**, c’est-à-dire si le tableau **`tab2`** commence par les éléments du tableau **`tab1`** dans le même ordre."
   ]
  },
  {
   "cell_type": "markdown",
   "metadata": {},
   "source": [
    "On parcourt tous les indices de `tab1`, en renvoyant `False` si on arrive à un indice où les deux tableaux diffèrent ou dépassent la capacité de `tab2`. Ce second critère est testé en premier pour éviter un accès hors limites (la code se repose sur la sémentique paresseuse de `or`)."
   ]
  },
  {
   "cell_type": "code",
   "execution_count": 36,
   "metadata": {},
   "outputs": [
    {
     "name": "stdout",
     "output_type": "stream",
     "text": [
      "True False False False\n"
     ]
    }
   ],
   "source": [
    "def prefixe(tab1, tab2):\n",
    "    for i in range(len(tab1)):\n",
    "        if i >= len(tab2) or tab1[i] != tab2[i]:\n",
    "            return False\n",
    "    return True\n",
    "\n",
    "t = [0,1,2]\n",
    "t1 = [0,1,2,3,4,5,6]\n",
    "t2 = [0,1]\n",
    "t3 = [0,1,5,6]\n",
    "print(prefixe(t,t1), prefixe(t,t2), prefixe(t,t3), prefixe(t,[]))"
   ]
  },
  {
   "cell_type": "markdown",
   "metadata": {},
   "source": [
    "<h2 style=\"color:blue\"> Exercice 8 : Tableau suffixe</h2>\n",
    "\n",
    "Écrire une fonction **`suffixe(tab1, tab2)`**  qui renvoie **`True`**  si  le tableau **`tab1`** est un sufffixe du tableau **`tab2`**, c’est-à-dire si le tableau **`tab2`** se termine par les éléments du tableau **`tab1`** dans le même ordre."
   ]
  },
  {
   "cell_type": "markdown",
   "metadata": {},
   "source": [
    "On adopte la même stratégie que l'exercice précédent mais en partant de la fin de chacun des tableaux."
   ]
  },
  {
   "cell_type": "code",
   "execution_count": 37,
   "metadata": {},
   "outputs": [
    {
     "name": "stdout",
     "output_type": "stream",
     "text": [
      "True False False False\n"
     ]
    }
   ],
   "source": [
    "def suffixe(tab1, tab2):\n",
    "    n1 = len(tab1) - 1\n",
    "    n2 = len(tab2) - 1\n",
    "    for i in range(len(tab1)):\n",
    "        if i >= n2 or tab1[n1 - i] != tab2[n2 - i]:\n",
    "            return False\n",
    "    return True\n",
    "\n",
    "t = [4,5,6]\n",
    "t1 = [0,1,2,3,4,5,6]\n",
    "t2 = [5,6]\n",
    "t3 = [0,3,5,6]\n",
    "print(suffixe(t,t1), suffixe(t,t2), suffixe(t,t3), suffixe(t,[]))"
   ]
  },
  {
   "cell_type": "markdown",
   "metadata": {},
   "source": [
    "<h2 style=\"color:blue\"> Exercice 9 : Distance de Hamming</h2>\n",
    "\n",
    "Écrire une fonction **`hamming(tab1, tab2)`** qui prend en paramètres  deux  tableaux,  que l’on supposera de la même taille, et qui renvoie le nombre d’indices auxquels les deux tableaux diffèrent. Ce nombre est appelé ***distance de Hamming***."
   ]
  },
  {
   "cell_type": "code",
   "execution_count": 42,
   "metadata": {},
   "outputs": [
    {
     "name": "stdout",
     "output_type": "stream",
     "text": [
      "3 4 2 0\n"
     ]
    }
   ],
   "source": [
    "def hamming1(tab1, tab2):\n",
    "    d = 0\n",
    "    for i in range(len(tab1)):\n",
    "        if tab1[i] != tab2[i]:\n",
    "            d += 1\n",
    "    return d\n",
    "t1 = [0,1,2,3]\n",
    "t2 = [5,1,0,1]\n",
    "t3 = [0,3,2,6]\n",
    "print(hamming1(t1,t2),hamming1(t3,t2),hamming1(t1,t3),hamming1(t1,t1))"
   ]
  },
  {
   "cell_type": "markdown",
   "metadata": {},
   "source": [
    "<h2 style=\"color:blue\"> Exercice 10 : Distance de Hamming (2)</h2>\n",
    "\n",
    "Reprendre l’exercice précédent, sans supposer  que les tableaux ont la même taille. On considérera qu’un indice auquel seul l'un des tableaux est défini compte pour une différence."
   ]
  },
  {
   "cell_type": "markdown",
   "metadata": {},
   "source": [
    "On va définir l'ampleur de la boucle a exécuter avec la plus petite des deux longueurs de tableaux et on ajoute la différence des deux longeurs au résultat obtenu."
   ]
  },
  {
   "cell_type": "code",
   "execution_count": 45,
   "metadata": {},
   "outputs": [
    {
     "name": "stdout",
     "output_type": "stream",
     "text": [
      "7 4 6 7 0 0\n"
     ]
    }
   ],
   "source": [
    "def hamming2(tab1, tab2):\n",
    "    if len(tab1) < len(tab2):\n",
    "        min = len(tab1)\n",
    "        d = len(tab2) - len(tab1)\n",
    "    else:\n",
    "        min = len(tab2)\n",
    "        d = len(tab1) - len(tab2)\n",
    "    for i in range(min):\n",
    "        if tab1[i] != tab2[i]:\n",
    "            d += 1\n",
    "    return d\n",
    "\n",
    "t1 = [0,1,2,3,4,5,6]\n",
    "t2 = [5,6]\n",
    "t3 = [0,3,5,6]\n",
    "print(hamming2(t1,t2),hamming2(t3,t2),hamming2(t1,t3),hamming2(t1,[]), hamming2([],[]), hamming2(t2,t2))"
   ]
  }
 ],
 "metadata": {
  "kernelspec": {
   "display_name": "Python 3",
   "language": "python",
   "name": "python3"
  },
  "language_info": {
   "codemirror_mode": {
    "name": "ipython",
    "version": 3
   },
   "file_extension": ".py",
   "mimetype": "text/x-python",
   "name": "python",
   "nbconvert_exporter": "python",
   "pygments_lexer": "ipython3",
   "version": "3.7.9"
  }
 },
 "nbformat": 4,
 "nbformat_minor": 4
}
