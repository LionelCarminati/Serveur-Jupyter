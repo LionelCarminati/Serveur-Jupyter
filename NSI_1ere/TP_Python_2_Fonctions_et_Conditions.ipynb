{
 "cells": [
  {
   "cell_type": "markdown",
   "metadata": {},
   "source": [
    "# TP Python 2 : Fonctions et Conditions\n"
   ]
  },
  {
   "cell_type": "markdown",
   "metadata": {},
   "source": [
    "## Exercice 1\n",
    "Écrire une fonction `coord_milieu(xA, yA, xB, yB)` qui retourne le couple de coordonnées du milieu du segment $[AB]$.   \n",
    "On écrira la documentation (docstring)de la fonction."
   ]
  },
  {
   "cell_type": "code",
   "execution_count": null,
   "metadata": {},
   "outputs": [],
   "source": []
  },
  {
   "cell_type": "markdown",
   "metadata": {},
   "source": [
    "## Exercice 2\n",
    "La surface ***S*** en mètre carrées de la peau d'un adulte est donment née approximativement par la formule $ \\dfrac{\\sqrt[]{l\\times m}}{6}$ où ***l*** est la taille de l'individu en mètres et ***m***  sa masse en kilogramme.\n",
    "\n",
    "- Écrire une fonction **`surface(l,m)`** qui retourne la surface corporelle d'un adulte. On écrira la documentation (docstring) de la fonction.\n",
    "- Vérifier que la surface corporelle d'un individu de $1,8m$ et $75 kg$ est d'environ $1,94m^2$. \n",
    "\n",
    "La fonction racine carrée se trouve dans le module ***math*** et s'appelle ***sqrt***, pour l'utiliser dans un script, il faut d'abord l'importer avec l'instruction suivante :\n",
    "\n",
    "```python\n",
    "    from math import sqrt\n",
    "```\n",
    "Ensuite, pour avoir la racine carrée d'un nombre `x` il suffira d'écrire `sqrt(x)`."
   ]
  },
  {
   "cell_type": "code",
   "execution_count": null,
   "metadata": {},
   "outputs": [],
   "source": [
    "from math import sqrt\n",
    "def surface(l,m):\n",
    "    ........\n"
   ]
  },
  {
   "cell_type": "markdown",
   "metadata": {},
   "source": [
    "## Exercice 3\n",
    "1. Écrire un programme qui demande à l’utilisateur d’entrer un nombre. Si ce nombre est inférieur ou égal à 100, le programme affiche \"Le nombre … est inférieur à 100\". Dans tous les cas il doit afficher \"Le nombre était le …\"."
   ]
  },
  {
   "cell_type": "code",
   "execution_count": null,
   "metadata": {},
   "outputs": [],
   "source": []
  },
  {
   "cell_type": "markdown",
   "metadata": {},
   "source": [
    "## Exercice 4\n",
    "Écrire une fonction `tarif(age)` (on écrira le docstring de la fonction)qui doit lire l'âge d'une personne et afficher soit \"Tarif réduit\" si cette personne a strictement moins de 18 ans, soit \"Tarif plein\" dans le cas contraire.\n",
    "\n",
    "- **Exemple**  \n",
    "\n",
    "<table style=\"border:1px solid black;\">\n",
    "<tr style=\"border:1px solid black;\"><th>Variables:</th><th>age</th><th></th><th>age</th></tr>\n",
    "<tr><td>Entrée:</td><td>16</td><td></td><td>18</td></tr>\n",
    "<tr><td>Sortie:</td><td>Tarif réduit</td><td></td><td>Tarif plein</td></tr>\n",
    "</table>"
   ]
  },
  {
   "cell_type": "code",
   "execution_count": null,
   "metadata": {},
   "outputs": [],
   "source": [
    "def tarif(age):\n",
    "    \n",
    "\n",
    "print(tarif(16))\n",
    "print(tarif(18))"
   ]
  },
  {
   "cell_type": "markdown",
   "metadata": {},
   "source": [
    "## Exercice 5\n",
    "Écrire une fonction `bornes(a,b)` qui doit lire deux entiers, correspondant à deux numéros de bornes kilométriques, et  afficher la distance séparant ces deux bornes.  \n",
    " Notez que le résultat doit être un nombre positif ou nul.   \n",
    " On écrira la documentation (docstring) de la fonction.\n",
    "\n",
    "\n",
    "<table style=\"border:1px solid black;\">\n",
    "<tr style=\"border:1px solid black;\"><th>Variables:</th><th> b1, b2, d</th><th></th><th> b1, b2, d</th></tr>\n",
    "<tr><td>Entrée:</td><td>25; 15</td><td></td><td>15; 25</td></tr>\n",
    "<tr><td>Sortie:</td><td>10</td><td></td><td>10</td></tr>\n",
    "</table>"
   ]
  },
  {
   "cell_type": "code",
   "execution_count": null,
   "metadata": {},
   "outputs": [],
   "source": [
    "def ...\n",
    "\n",
    "print(bornes(25,15))\n",
    "print(bornes(15,25))"
   ]
  },
  {
   "cell_type": "markdown",
   "metadata": {},
   "source": [
    "## Exercice 6\n",
    "Ecrire une fonction `signe_prod()` qui prend comme arguments deux entiers `a` et `b` relatifs et qui renvoie `True` si le nombre est positif et `False`\n",
    "sinon.    \n",
    "Attention : on ne doit pas calculer le produit des deux nombres.\n",
    "N'oubliez pas d'écrire le docstring de votre fonction."
   ]
  },
  {
   "cell_type": "code",
   "execution_count": null,
   "metadata": {},
   "outputs": [],
   "source": []
  },
  {
   "cell_type": "markdown",
   "metadata": {},
   "source": [
    "## Exercice 7\n",
    "Ecrire et documenter une fonction est_`pair` qui prend en paramètre un nombre entier et renvoie `True` si ce nombre est pair et `False` sinon.   \n",
    "**Indice** : un nombre pair est divisible par deux. Que veut le reste d'une telle division ?"
   ]
  },
  {
   "cell_type": "code",
   "execution_count": null,
   "metadata": {},
   "outputs": [],
   "source": []
  },
  {
   "cell_type": "markdown",
   "metadata": {},
   "source": [
    "## Exercice 8\n",
    "On veux construire un triangle.   \n",
    "Écrire une fonction `estconstructible(a,b,c)`  qui renvoie \t`True` si l'on peut construire un triangle de côtés $a, b, c$ et `False` si ce triangle n'est pas constructible.\n",
    "\n",
    "Aide: rechercher sur un moteur de recherche avec les mots   ***inégalité triangulaire  collège***.\n",
    "\n",
    "**Exemples**\n",
    "\n",
    "<table style=\"border:1px solid black;\">\n",
    "<tr style=\"border:1px solid black;\"><th>Variables:</th><th>a, b, c</th><th></th><th>a, b, c</th></tr>\n",
    "<tr><td>Entrée:</td><td>2 , 3, 6</td><td></td><td>2 3 4</td></tr>\n",
    "<tr><td>Sortie:</td><td>False</td><td></td><td>True</td></tr>\n",
    "</table>"
   ]
  },
  {
   "cell_type": "code",
   "execution_count": null,
   "metadata": {},
   "outputs": [],
   "source": [
    "def ...\n",
    "\n",
    "\n",
    "estconstructible(3,8,4)"
   ]
  },
  {
   "cell_type": "markdown",
   "metadata": {},
   "source": [
    "## Exercice 9\n",
    "Pour chacune des fonctions ci-dessous, on écrira la documentation (docstring).\n",
    "\n",
    "1. Ecrire une fonction `tri2c(a,b)` qui retourne les deux valeurs passées en paramètres, triées par ordre croissant."
   ]
  },
  {
   "cell_type": "code",
   "execution_count": null,
   "metadata": {},
   "outputs": [],
   "source": [
    "\n",
    "\n",
    "\n",
    "print(tri2c(8,1))"
   ]
  },
  {
   "cell_type": "markdown",
   "metadata": {},
   "source": [
    "2. Ecrire une fonction `tri3c(a,b,c)` qui retourne les trois valeurs passées en paramètres, triées par ordre croissant."
   ]
  },
  {
   "cell_type": "code",
   "execution_count": null,
   "metadata": {},
   "outputs": [],
   "source": [
    "\n",
    "\n",
    "\n",
    "print(tri3c(8,1,5))"
   ]
  },
  {
   "cell_type": "markdown",
   "metadata": {},
   "source": [
    "3. Ecrire une fonction `tri3d(a,b,c)` qui retourne les trois valeurs passées en paramètres, triées par ordre décroissant."
   ]
  },
  {
   "cell_type": "code",
   "execution_count": null,
   "metadata": {},
   "outputs": [],
   "source": [
    "\n",
    "\n",
    "\n",
    "print(tri3d(4,2,7))"
   ]
  },
  {
   "cell_type": "markdown",
   "metadata": {},
   "source": [
    "4. Ecrire une fonction `tri3(a,b,c,reverse=False)` qui qui trie les valeurs 𝑎,𝑏 et 𝑐 par ordre croissant et décroissant si `reverse=True`.\n",
    "\n",
    "Remarque : On peut imposer des valeurs par défaut dans une fonction. Ici, `reverse=False` met par défaut la valeur du paramètre `reverse` à `False`.   \n",
    "Du coup, on n'est pas obligé de lui donner une valeur lors de l'appel de la fonction : écrire `tri3(5,3,7,False)` est équivalent à écrire `tri3(5,3,7)`."
   ]
  },
  {
   "cell_type": "code",
   "execution_count": null,
   "metadata": {},
   "outputs": [],
   "source": [
    "\n",
    "\n",
    "\n",
    "print(tri3(4,2,7))\n",
    "print(tri3(4,2,7,reverse=False))\n",
    "print(tri3(4,2,7,reverse=True))"
   ]
  },
  {
   "cell_type": "markdown",
   "metadata": {},
   "source": [
    "## Exercice 10\n",
    "Ecrire une fonction bien_trie() qui recoit une liste `l` de trois chaines de caractères et qui renvoie `True` si les trois mots sont rangés par ordre alphabétique et `False` sinon."
   ]
  },
  {
   "cell_type": "code",
   "execution_count": null,
   "metadata": {},
   "outputs": [],
   "source": [
    "\n",
    "\n",
    "\n",
    "print(bien_trie([\"ab\",\"bcc\",\"cd\"]))\n",
    "print(bien_trie([\"db\",\"rcc\",\"cd\"]))"
   ]
  },
  {
   "cell_type": "markdown",
   "metadata": {},
   "source": [
    "## Exercice 11\n",
    "On lance un dé (équilibré, à six faces). \n",
    "- Le joueur gagne 3€ s'il tombe sur une face paire inférieur ou égale à 4 \n",
    "- Il gagne 4€ s'il tombe sur 6.\n",
    "- Il perd 2€ s'il tombe sur une face impaire.\n",
    "\n",
    "**Ce que  votre fonction doit faire**\n",
    "\n",
    "Écrire une fonction `jeude()` qui simulera un lancer de dé et affichera la valeur du dé et le gain correspondant.  \n",
    "\n",
    "\n",
    "La fonction `randint(a,b)` du module `random`  renvoie un nombre entier au hasard entre *a* et *b*.\n",
    "\n",
    "**Exemples**\n",
    "\n",
    "<table style=\"border:1px solid black;\">\n",
    "<tr style=\"border:1px solid black;\"><th>Variables:</th><th>de, gain</th><th></th><th>de, gain</th></tr>\n",
    "<tr><td>Entrée:</td><td></td><td></td><td></td></tr>\n",
    "<tr><td>Sortie:</td><td>dé=2<br /> gain=3€</td><td></td><td>dé=1<br /> gain=-2€</td></tr>\n",
    "</table>"
   ]
  },
  {
   "cell_type": "code",
   "execution_count": null,
   "metadata": {},
   "outputs": [],
   "source": [
    "from random import randint\n",
    "\n",
    "\n",
    "\n",
    "print(jeude())"
   ]
  },
  {
   "cell_type": "markdown",
   "metadata": {},
   "source": [
    "## Exercice 12\n",
    "#### Facultatif mais très intéressant\n",
    "Écrire une fonction `hms` qui demande à l’utilisateur d’entrer un nombre de secondes et qui l’affiche sous la forme d’heures/minutes/secondes.    \n",
    "***Indice*** : on pensera à utiliser la division euclidienne et son reste. En effet, la division eulidienne de 125 par 60 donne par exemple un quotient de 2 et un reste de 5...\n"
   ]
  },
  {
   "cell_type": "code",
   "execution_count": null,
   "metadata": {},
   "outputs": [],
   "source": []
  }
 ],
 "metadata": {
  "kernelspec": {
   "display_name": "Python 3",
   "language": "python",
   "name": "python3"
  },
  "language_info": {
   "codemirror_mode": {
    "name": "ipython",
    "version": 3
   },
   "file_extension": ".py",
   "mimetype": "text/x-python",
   "name": "python",
   "nbconvert_exporter": "python",
   "pygments_lexer": "ipython3",
   "version": "3.7.7"
  }
 },
 "nbformat": 4,
 "nbformat_minor": 4
}
