{
 "cells": [
  {
   "cell_type": "markdown",
   "metadata": {},
   "source": [
    "<h1 style=\"color:red\"> TP Python 4 : Spécification et mise au point</h1>"
   ]
  },
  {
   "cell_type": "markdown",
   "metadata": {},
   "source": [
    "<h2 style=\"color:blue\"> Exercice 1 : Documenter une fonction</h2>\n",
    "\n",
    "Documenter la fonction *dividion euclidienne* vue en cours. Tester des préconditions."
   ]
  },
  {
   "cell_type": "code",
   "execution_count": null,
   "metadata": {},
   "outputs": [],
   "source": [
    "def div_euclidienne(a,b):\n",
    "    \"\"\"\n",
    "        ...\n",
    "    \"\"\"\n",
    "    q = 0\n",
    "    r = a\n",
    "    while r >= b:\n",
    "        q += 1\n",
    "        r -= b\n",
    "    return q, r\n"
   ]
  },
  {
   "cell_type": "markdown",
   "metadata": {},
   "source": [
    "<h2 style=\"color:blue\"> Exercice 2 : Fonction puissance</h2>\n",
    "\n",
    "Donner un invariant de boucle pour la fonction suivante qui calcule **`x`** à la puissance **`n`**, écrire la documentation et des tests.\n",
    "\n",
    "```Python\n",
    "def puissance(x, n):\n",
    "    r = 1\n",
    "    for i in range(n):\n",
    "        r = r * x\n",
    "    return r\n",
    "```"
   ]
  },
  {
   "cell_type": "markdown",
   "metadata": {},
   "source": []
  },
  {
   "cell_type": "code",
   "execution_count": null,
   "metadata": {},
   "outputs": [],
   "source": [
    "def puissance(x, n):\n",
    "    r = 1\n",
    "    for i in range(n):\n",
    "        r = r * x\n",
    "    return r"
   ]
  },
  {
   "cell_type": "markdown",
   "metadata": {},
   "source": [
    "<h2 style=\"color:blue\"> Exercice 3 : Fonction inconnue</h2>\n",
    "\n",
    "Pour la fonction suivante, lui donner un meilleur nom, une chaîne de documentation, un invariant de boucle et des tests.\n",
    "\n",
    "```Python\n",
    "def f(t):\n",
    "    s = 0\n",
    "    for i in range(len(t)):\n",
    "        s += t[i]\n",
    "    return s\n",
    "```"
   ]
  },
  {
   "cell_type": "markdown",
   "metadata": {},
   "source": []
  },
  {
   "cell_type": "code",
   "execution_count": null,
   "metadata": {},
   "outputs": [],
   "source": [
    "def f(t):\n",
    "    s = 0\n",
    "    for i in range(len(t)):\n",
    "        s += t[i]\n",
    "    return s"
   ]
  },
  {
   "cell_type": "markdown",
   "metadata": {},
   "source": [
    "<h2 style=\"color:blue\"> Exercice 4 : Tester une fonction (1)</h2>\n",
    "\n",
    "On prétend que la fonction suivante teste l’appartenance de la valeur **`v`** au tableau **`t`**.\n",
    "\n",
    "```Python\n",
    "def appartient(v, t):\n",
    "    i = 0\n",
    "    while i < len(t) - 1 and t[i] != v:\n",
    "        i = i + 1\n",
    "    return i < len(t)\n",
    "\n",
    "```\n",
    "Documenter puis donner des tests pour cette fonction, et en particulier un test montrant qu'elle est incorrecte."
   ]
  },
  {
   "cell_type": "markdown",
   "metadata": {},
   "source": []
  },
  {
   "cell_type": "code",
   "execution_count": null,
   "metadata": {},
   "outputs": [],
   "source": [
    "def appartient(v, t):\n",
    "    i = 0\n",
    "    while i < len(t) - 1 and t[i] != v:\n",
    "        i = i + 1\n",
    "    return i < len(t)"
   ]
  },
  {
   "cell_type": "markdown",
   "metadata": {},
   "source": [
    "<h2 style=\"color:blue\"> Exercice 5 : Tester une fonction (2)</h2>\n",
    "\n",
    "On prétend que la fonction suivante teste l’appartenance de la valeur **`v`** au tableau **`t`**.\n",
    "\n",
    "```Python\n",
    "def appartient(v, t):\n",
    "    trouvee = None\n",
    "    for i in range(len(t)):\n",
    "        if t[i] == v:\n",
    "            trouvee = True\n",
    "        else:\n",
    "            trouvee = False\n",
    "    return trouvee\n",
    "\n",
    "```\n",
    "Documenter puis donner des tests pour cette fonction, et en particulier des tests montrant plusieurs raisons pour lesquelles cette fonction est incorrecte."
   ]
  },
  {
   "cell_type": "code",
   "execution_count": null,
   "metadata": {},
   "outputs": [],
   "source": []
  }
 ],
 "metadata": {
  "kernelspec": {
   "display_name": "Python 3",
   "language": "python",
   "name": "python3"
  },
  "language_info": {
   "codemirror_mode": {
    "name": "ipython",
    "version": 3
   },
   "file_extension": ".py",
   "mimetype": "text/x-python",
   "name": "python",
   "nbconvert_exporter": "python",
   "pygments_lexer": "ipython3",
   "version": "3.7.9"
  }
 },
 "nbformat": 4,
 "nbformat_minor": 4
}
