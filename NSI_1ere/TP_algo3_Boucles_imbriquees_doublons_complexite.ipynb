{
 "cells": [
  {
   "cell_type": "markdown",
   "metadata": {},
   "source": [
    "<h1 style=\"color:red\"> TP algorithmique 3 : Boucles imbriquées,  Recherche de doublons et Complexité</h1>"
   ]
  },
  {
   "cell_type": "markdown",
   "metadata": {},
   "source": [
    "<h2 style=\"color:blue\"> Exercice 1 : Rectangle</h2>\n",
    "\n",
    "Ecrire un programme qui demande deux entiers **`h`** et **`l`** à l’utilisateur et affiche des symboles **`#`** disposés  en un  rectangle  de hauteur  **`h`** et  de largeur **`l`**."
   ]
  },
  {
   "cell_type": "code",
   "execution_count": null,
   "metadata": {},
   "outputs": [],
   "source": []
  },
  {
   "cell_type": "markdown",
   "metadata": {},
   "source": [
    "<h2 style=\"color:blue\"> Exercice 2 : Figures</h2>\n",
    "\n",
    "Écrire des programmes qui demandent un entier **`n`** à l’utilisateur et affichent chacun  l’une des figures suivantes (dans un carré de coté **`n`**). Les figure ci-dessous sont données pour **`n = 3`**.   \n",
    "```\n",
    "Figure 1 :\n",
    "#\n",
    "##\n",
    "###\n",
    "```\n",
    "```\n",
    "Figure 2 : \n",
    "###\n",
    "##\n",
    "#\n",
    "```\n",
    "```\n",
    "Figure 3 :\n",
    "###\n",
    " ##\n",
    "  #\n",
    "```\n",
    "```\n",
    "Figure 4 : \n",
    "###\n",
    "# #\n",
    "###\n",
    "```"
   ]
  },
  {
   "cell_type": "code",
   "execution_count": null,
   "metadata": {},
   "outputs": [],
   "source": []
  },
  {
   "cell_type": "markdown",
   "metadata": {},
   "source": [
    "<h2 style=\"color:blue\"> Exercice 3 : Triplets pythagoriciens</h2>\n",
    "\n",
    "En utilisant trois boucles imbriquées, afficher tous les triplets d’entiers $1 \\leq a \\leq b \\leq c \\leq 100$ tels que $a^2 + b^2 = c^2$ (dits *triplets pythagoriciens* car, comme vous l'aurez compris, ce sont les triplets qui vérifient le théorème de Pyhtagore). "
   ]
  },
  {
   "cell_type": "code",
   "execution_count": null,
   "metadata": {},
   "outputs": [],
   "source": []
  },
  {
   "cell_type": "markdown",
   "metadata": {},
   "source": [
    "Modifier le programme précédent pour qu’il renvoie le nombre de triplets. On doit trouver 52.    \n",
    "Écrire ce programme sous la forme d’une fonction qui reçoit en argument la borne supérieure des boucles et renvoie le nombre de triplets."
   ]
  },
  {
   "cell_type": "code",
   "execution_count": null,
   "metadata": {},
   "outputs": [],
   "source": []
  },
  {
   "cell_type": "markdown",
   "metadata": {},
   "source": [
    "<h2 style=\"color:blue\"> Exercice 4 : Crible d'Érathostène</h2>\n",
    "\n",
    "Pour calculer les nombres premiers plus petits qu’une certaine limite **`N`** que l’on se fixe, il existe un  algorithme  appe1é  *crible  d ’Ératosthène*.    \n",
    "On se donne un tableau **`t`** de **`N`** booléens, initialement tous égaux à **`True`**, sauf **`t[0]`** et **`t[1]`** qui valent **`False`**.    \n",
    "Puis on parcourt ce tableau, dans le sens des indices  croissants. \n",
    "\n",
    "Pour chaque indice **`i`**, il y a deux  cas  de  figure  :\n",
    "* si **`t[i]`** vaut **`False`**, alors le nombre **`i`** n’est pas premier et il n’y a rien à faire ;\n",
    "\n",
    "\n",
    "* si **`t[i]`** vaut **`True`**, alors le nombre **`i`** est premier et on met à **`False`** toutes les cases du tableau dont l'indice est un multiple de **`i`**, c’est-à- dire **`2*i`**, **`3*i`**, etc.\n",
    "\n",
    "Écrire un programme qui réalise cet algorithme et affiche tous les nombres premiers  plus petits que 100. On doit en trouver 25.\n",
    "\n"
   ]
  },
  {
   "cell_type": "code",
   "execution_count": null,
   "metadata": {},
   "outputs": [],
   "source": []
  },
  {
   "cell_type": "markdown",
   "metadata": {},
   "source": [
    "**Question Facultative** : seriez vous capable de réécrire le programme précédant à l'aide d'une instruction **`continue`** ? (L'idée est de séparer la condition et la boucle interne."
   ]
  },
  {
   "cell_type": "code",
   "execution_count": null,
   "metadata": {},
   "outputs": [],
   "source": []
  },
  {
   "cell_type": "markdown",
   "metadata": {},
   "source": [
    "<h2 style=\"color:blue\"> Exercice 5 : Inclusion d'un tableau dans un autre </h2>\n",
    "\n",
    "Écrire une fonction **`inclus(tab1, tab2)`** qui renvoie **`True`** si chaque élément du tableau **`tab1`** apparaît aussi dans le tableau **`tab2`**.    \n",
    "Proposer une version utilisant une fonction auxiliaire et une version utilisant des boucles imbriquées."
   ]
  },
  {
   "cell_type": "code",
   "execution_count": null,
   "metadata": {},
   "outputs": [],
   "source": []
  },
  {
   "cell_type": "markdown",
   "metadata": {},
   "source": [
    "<h2 style=\"color:blue\"> Exercice 6 : Tableau contenu dans un autre</h2>\n",
    "\n",
    "Écrire une fonction **`contient(tab1, tab2)`** qui renvoie **`True`** si les éléments du tableau **`tab1`** apparaissent dans l’ordre et de manière consécutive dans le tableau **`tab2`**. \n",
    "Proposer une solution utilisant une fonction auxiliaire et une solution utilisant des boucles imbriquées."
   ]
  },
  {
   "cell_type": "code",
   "execution_count": null,
   "metadata": {},
   "outputs": [],
   "source": []
  },
  {
   "cell_type": "markdown",
   "metadata": {},
   "source": [
    "<h2 style=\"color:blue\"> Exercice : Complexité</h2>\n",
    "\n",
    "Voici deux fonctions qui prennent en paramètres deux tableaux de nombres et renvoient un nombre.    \n",
    "Ces deux fonctions, appliquées aux mêmes paramètres, produisent-elles le meme résultat ? Expliquer.       \n",
    "Laquelle des deux vous parait préférable à utiliser ? Justifier en comparant les complexités.\n",
    "\n",
    "```Python\n",
    "def somme_produits(t1, t2):\n",
    "    somme = 0\n",
    "    for a in t1 :\n",
    "        for b in t2 :\n",
    "            somme = somme + a * b\n",
    "    return somme\n",
    "\n",
    "def produit_sommes(t1, t2)\n",
    "    sommel = 0\n",
    "    somme2 = 0\n",
    "    for a in t1:\n",
    "        sommel = sommel + a \n",
    "    for b in t2:\n",
    "        somme2 = somme2 + b\n",
    "    return somme1 * somme2\n",
    "```"
   ]
  },
  {
   "cell_type": "markdown",
   "metadata": {},
   "source": []
  }
 ],
 "metadata": {
  "kernelspec": {
   "display_name": "Python 3",
   "language": "python",
   "name": "python3"
  },
  "language_info": {
   "codemirror_mode": {
    "name": "ipython",
    "version": 3
   },
   "file_extension": ".py",
   "mimetype": "text/x-python",
   "name": "python",
   "nbconvert_exporter": "python",
   "pygments_lexer": "ipython3",
   "version": "3.7.7"
  }
 },
 "nbformat": 4,
 "nbformat_minor": 4
}
