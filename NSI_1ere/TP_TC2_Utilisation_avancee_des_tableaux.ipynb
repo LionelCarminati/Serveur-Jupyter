{
 "cells": [
  {
   "cell_type": "markdown",
   "metadata": {},
   "source": [
    "<h1 style=\"color:red\"> TP Types Construits 2 : Utilisation avancée des tableaux</h1>"
   ]
  },
  {
   "cell_type": "markdown",
   "metadata": {},
   "source": [
    "<h2 style=\"color:blue\"> Exercice 1 : Passage d'une dimension à deux</h2>\n",
    "\n",
    "Écrire un programme qui transforme un tableau **`t`** de 64 cases en un tableau **`m`** à deux dimensions, de taille 8 x 8, tel que **`m[i][j] = t[8 * i + j]`** pour $0 \\leq i, j < 8$."
   ]
  },
  {
   "cell_type": "code",
   "execution_count": null,
   "metadata": {},
   "outputs": [],
   "source": []
  },
  {
   "cell_type": "markdown",
   "metadata": {},
   "source": [
    "<h2 style=\"color:blue\"> Exercice 2 : Passage de deux dimensions à une</h2>\n",
    "\n",
    "Écrire un programme qui transforme un tableau **`m`** à deux dimensions, de taille 8 x 8,  en un tableau **`t`** à une dimensions, de taille 64, tel que **` t[8 * i + j] = m[i][j]`** pour $0 \\leq i, j < 8$."
   ]
  },
  {
   "cell_type": "code",
   "execution_count": null,
   "metadata": {},
   "outputs": [],
   "source": []
  },
  {
   "cell_type": "markdown",
   "metadata": {},
   "source": [
    "<h2 style=\"color:blue\"> Exercice 3 : Maximum d'un tableau à deux dimensions</h2>\n",
    "\n",
    "Reprendre le programme qui crée un tableau à deux dimensions de taille 30 x 30 contenant des entiers tirés au hasard entre 1 et 9999 fait en exercice de cours puis le completer pour calculer et afficher l’élément maximum de ce tableau.      \n",
    "Comment modifier le programme si les éléments du tableau ne sont pas tous positifs ?"
   ]
  },
  {
   "cell_type": "code",
   "execution_count": null,
   "metadata": {},
   "outputs": [],
   "source": []
  },
  {
   "cell_type": "markdown",
   "metadata": {},
   "source": [
    "<h2 style=\"color:blue\"> Exercice 4 : Maximumm des minimum</h2>\n",
    "\n",
    "Écrire une fonction qui prend en paramètre un tableau à deux dimensions de hauteur et de largeur non nulles et qui renvoie le maximum parmi les minima de chaque ligne.    \n",
    "*Indication* : on pourra utiliser une fonction auxiliaire pour calculer le minimum d’une ligne."
   ]
  },
  {
   "cell_type": "code",
   "execution_count": null,
   "metadata": {},
   "outputs": [],
   "source": []
  }
 ],
 "metadata": {
  "kernelspec": {
   "display_name": "Python 3",
   "language": "python",
   "name": "python3"
  },
  "language_info": {
   "codemirror_mode": {
    "name": "ipython",
    "version": 3
   },
   "file_extension": ".py",
   "mimetype": "text/x-python",
   "name": "python",
   "nbconvert_exporter": "python",
   "pygments_lexer": "ipython3",
   "version": "3.7.7"
  }
 },
 "nbformat": 4,
 "nbformat_minor": 4
}
