{
 "cells": [
  {
   "cell_type": "markdown",
   "metadata": {},
   "source": [
    "<h1 style=\"color:red\"> TP Python 3 : Les structures de boucles</h1>"
   ]
  },
  {
   "cell_type": "markdown",
   "metadata": {},
   "source": [
    "<h2 style=\"color:blue\"> Exercice 1</h2>\n",
    "\n",
    "Écrire une fonction **`punition(nblignes)`** qui écrira autant de fois que demandé la phrase \"Je dois suivre en cours\".   \n",
    "Exemple:\n",
    "\n",
    "\n",
    "<table style=\"border:1px solid black;\">\n",
    "<tr style=\"border:1px solid black;\"><th>Variables:</th><th>nblignes</th></tr>\n",
    "<tr><td>Entrée:</td><td>3</td></tr>\n",
    "<tr><td>Sortie:</td><td>Je dois suivre en cours<br />Je dois suivre en cours<br />Je dois suivre en cours<td></tr>\n",
    "</table>"
   ]
  },
  {
   "cell_type": "code",
   "execution_count": 1,
   "metadata": {},
   "outputs": [
    {
     "name": "stdout",
     "output_type": "stream",
     "text": [
      "Je dois suivre en cours\n",
      "Je dois suivre en cours\n",
      "Je dois suivre en cours\n"
     ]
    }
   ],
   "source": [
    "def punition(nblignes):\n",
    "    for _ in range(nblignes):\n",
    "        print(\"Je dois suivre en cours\")\n",
    "\n",
    "punition(3)       "
   ]
  },
  {
   "cell_type": "markdown",
   "metadata": {},
   "source": [
    "<h2 style=\"color:blue\"> Exercice 2</h2>\n",
    "\n",
    "Écrire une fonction d'un paramètre entier **`n`** supérieur à 10 qui affiche sur une même ligne, séparés d’un tiret, les nombres pairs de 10 à **`n`** inclus."
   ]
  },
  {
   "cell_type": "code",
   "execution_count": 3,
   "metadata": {},
   "outputs": [
    {
     "name": "stdout",
     "output_type": "stream",
     "text": [
      "10 - 12 - 14 - 16 - 18 - 20 - \n",
      "10 - 12 - 14 - 16 - 18 - "
     ]
    }
   ],
   "source": [
    "def pair(n):\n",
    "    for i in range(10,n+1):\n",
    "        if i%2 == 0:\n",
    "            print(i, end = \" - \")\n",
    "\n",
    "pair(20)\n",
    "print()\n",
    "pair(19)"
   ]
  },
  {
   "cell_type": "markdown",
   "metadata": {},
   "source": [
    "<h2 style=\"color:blue\"> Exercice 3</h2>\n",
    "\n",
    "Écrire une fonction **`minuterie`** d'un paramètre entier **`n`** qui compte à rebours de n à 0 par pas de une seconde.   \n",
    "Pour cela, vous aurez besoin du module `time` et de sa fonction **`sleep(durée_en_seconde)`**.  \n",
    "Par exemple, pour 3 secondes, l'afichage deva être le suivant :   \n",
    "> Durée  :  3  secondes      \n",
    ">Durée  :  2  secondes   \n",
    ">Durée  :  1  secondes   \n",
    ">Durée  :  0  secondes   \n",
    ">Il s'est écoulé 3 secondes."
   ]
  },
  {
   "cell_type": "code",
   "execution_count": 7,
   "metadata": {},
   "outputs": [
    {
     "name": "stdout",
     "output_type": "stream",
     "text": [
      "Durée : 3 secondes\n",
      "Durée : 2 secondes\n",
      "Durée : 1 secondes\n",
      "Durée : 0 secondes\n",
      "Il s'est écoulé 3 secondes\n"
     ]
    }
   ],
   "source": [
    "from time import sleep\n",
    "\n",
    "def minuterie(n):\n",
    "    print(f\"Durée : {n} secondes\")\n",
    "    for i in range(n):\n",
    "        sleep(2)\n",
    "        print(f\"Durée : {n-1-i} secondes\")\n",
    "        \n",
    "    print(f\"Il s'est écoulé {n} secondes\")\n",
    "\n",
    "minuterie(3)\n"
   ]
  },
  {
   "cell_type": "markdown",
   "metadata": {},
   "source": [
    "<h2 style=\"color:blue\"> Exercice 4</h2>\n",
    "\n",
    "Écrire une fonction **`table`** permettant d'afficher une table de multiplication. Cette fonction devra prendre en paramètre la table **`n`** désirée.   \n",
    "Par exemple si l'on passe le paramètre 3 à la fonction, la fonction devra permettre d'afficher : \n",
    "``` python\n",
    "1 x 3 = 3   \n",
    "2 x 3 = 6\n",
    "...\n",
    "...\n",
    "10 x 3 = 30\n",
    "```"
   ]
  },
  {
   "cell_type": "code",
   "execution_count": 10,
   "metadata": {},
   "outputs": [
    {
     "name": "stdout",
     "output_type": "stream",
     "text": [
      "1 x 3 = 3\n",
      "2 x 3 = 6\n",
      "3 x 3 = 9\n",
      "4 x 3 = 12\n",
      "5 x 3 = 15\n",
      "6 x 3 = 18\n",
      "7 x 3 = 21\n",
      "8 x 3 = 24\n",
      "9 x 3 = 27\n",
      "10 x 3 = 30\n"
     ]
    }
   ],
   "source": [
    "def table(n):\n",
    "    for i in range(10):\n",
    "        print(f\"{i+1} x {n} = {(i+1)*n}\")\n",
    "\n",
    "table(3)"
   ]
  },
  {
   "cell_type": "markdown",
   "metadata": {},
   "source": [
    "<h2 style=\"color:blue\"> Exercice 5</h2>\n",
    "\n",
    "1. Écrire une fonction **`somme(n)`** qui calcule et renvoie la somme des entiers de 1 à n. Vérifier que $1+2+3+4+5 = 15$"
   ]
  },
  {
   "cell_type": "code",
   "execution_count": 11,
   "metadata": {},
   "outputs": [
    {
     "name": "stdout",
     "output_type": "stream",
     "text": [
      "15\n"
     ]
    }
   ],
   "source": [
    "def somme(n):\n",
    "    s = 0\n",
    "    for i in range(n+1):\n",
    "        s += i\n",
    "    return s\n",
    "\n",
    "print(somme(5))"
   ]
  },
  {
   "cell_type": "markdown",
   "metadata": {},
   "source": [
    "2. Écrire une fonction **`seuil_somme(p)`** qui retourne le plus petit entier **`n`** tel que $1+2+3+...+n\\geqslant p$. Tester la fonction."
   ]
  },
  {
   "cell_type": "code",
   "execution_count": 15,
   "metadata": {},
   "outputs": [
    {
     "name": "stdout",
     "output_type": "stream",
     "text": [
      "5\n"
     ]
    }
   ],
   "source": [
    "def seuil_somme(p):\n",
    "    n = 0\n",
    "    while somme(n) < p:\n",
    "        n +=1 \n",
    "    return n\n",
    "\n",
    "print(seuil_somme(14))"
   ]
  },
  {
   "cell_type": "markdown",
   "metadata": {},
   "source": [
    "<h2 style=\"color:blue\"> Exercice 6</h2>\n",
    "\n",
    "Une entreprise vend un récupérateur d'eau de pluie qui a une capacité de 150 litres d'eau.   \n",
    "Elle voudrait proposer à ses clients un programme qui permettrait au client de savoir en combien de jours le réservoir sera plein en fonction du remplissage moyen quotidien.   \n",
    "\n",
    "Écrire une fonction **`full`** qui prend en argument une entrée **`v`** du type **`float`** indiquant le volume en litre du remplissage moyen quotidien et en sortie un entier indiquant le nombre de jours nécessaire au remplissage.    \n",
    "On vérifiera que pour un volume de remplissage moyen quotidien de 3.1 jours, il faut 49 jours de remplissage."
   ]
  },
  {
   "cell_type": "code",
   "execution_count": 17,
   "metadata": {},
   "outputs": [
    {
     "name": "stdout",
     "output_type": "stream",
     "text": [
      "49\n"
     ]
    }
   ],
   "source": [
    "def full(v):\n",
    "    j = 0\n",
    "    vtot = 0\n",
    "    while vtot < 150: # tant que le récupérateur n'est pas remplie\n",
    "        vtot += v # on lui rajouter le volume quotidien\n",
    "        j += 1 # on augmente le nb de jours de 1\n",
    "    return j\n",
    "\n",
    "print(full(3.1))"
   ]
  },
  {
   "cell_type": "markdown",
   "metadata": {},
   "source": [
    "<h2 style=\"color:blue\"> Exercice 7</h2>\n",
    "\n",
    "Écrire une fonction qui prend un entier positif ou nul en argument et renvoie son nombre de chiffres."
   ]
  },
  {
   "cell_type": "code",
   "execution_count": 21,
   "metadata": {},
   "outputs": [
    {
     "name": "stdout",
     "output_type": "stream",
     "text": [
      "3\n"
     ]
    }
   ],
   "source": [
    "def nb_chiffre(n):\n",
    "    nb = 0 # on initialise le nombre de chiffre à 0\n",
    "    temp = n # on crée une variable temporaire initialisée à n\n",
    "    while temp != 0:\n",
    "        temp = temp // 10 # le quotient de la division par 10 diminue de 1 \n",
    "                          # le nb de chiffres du nombre temp\n",
    "        nb += 1 # au augmente alors le nb de chiffres de 1\n",
    "        # Lorsque le quotient est nul, on est arrivé aux unités et on sort de la boucle\n",
    "    return nb\n",
    "\n",
    "print(nb_chiffre(854))\n",
    "        "
   ]
  },
  {
   "cell_type": "code",
   "execution_count": 22,
   "metadata": {},
   "outputs": [
    {
     "name": "stdout",
     "output_type": "stream",
     "text": [
      "3\n"
     ]
    }
   ],
   "source": [
    "# Manière plus feinteuse de faire\n",
    "def nb_chiffre(n):\n",
    "    # on transforme l'entier en chaine de caractères et on renvoie sa longueur\n",
    "    return len(str(n)) \n",
    "\n",
    "print(nb_chiffre(854))"
   ]
  },
  {
   "cell_type": "markdown",
   "metadata": {},
   "source": [
    "<h2 style=\"color:blue\"> Exercice 8</h2>\n",
    "\n",
    "1. Écrire un programme qui demande à l’utilisateur d’entrer des données (quelconques) jusqu’à ce que la valeur 0 soit rentrée. Le programme affichera alors le nombre d’entrée effectuée (le 0 ne comptant pas)."
   ]
  },
  {
   "cell_type": "code",
   "execution_count": 25,
   "metadata": {},
   "outputs": [
    {
     "name": "stdout",
     "output_type": "stream",
     "text": [
      "Entrer une donnée (0 pour terminer) : 2\n",
      "Entrer une donnée (0 pour terminer) : 3\n",
      "Entrer une donnée (0 pour terminer) : 5\n",
      "Entrer une donnée (0 pour terminer) : 0\n",
      "Nombre de données entrées : 3\n"
     ]
    }
   ],
   "source": [
    "a = 1\n",
    "n = -1\n",
    "while a != 0:\n",
    "    a = int(input(\"Entrer une donnée (0 pour terminer) : \"))\n",
    "    n += 1\n",
    "    \n",
    "print(f\"Nombre de données entrées : {n}\")"
   ]
  },
  {
   "cell_type": "markdown",
   "metadata": {},
   "source": [
    "2. Écrire une fonction qui demande à l'utilisateur d'entrer des notes, sans que l'on sache à l'avance combien de notes il va saisir : l'arrêt de la saisie se produit dès que l'utilisateur saisit un nombre négatif.   \n",
    "Le programme doit calculer et afficher la moyenne (Attention: le nombre négatif saisi ne doit pas compter dans la moyenne !). \n",
    "On nommera cette fonction **`moy`** elle ne prendra aucune entrée et donnera un élément de type **`float`** en sortie.     \n",
    "En entrant les notes 10,12,14,8,12,6,8, la moyenne devrait être de 10."
   ]
  },
  {
   "cell_type": "code",
   "execution_count": 28,
   "metadata": {},
   "outputs": [
    {
     "name": "stdout",
     "output_type": "stream",
     "text": [
      "Entrer une note (nombre négatif pour arrêter) : 10\n",
      "Entrer une note (nombre négatif pour arrêter) : 12\n",
      "Entrer une note (nombre négatif pour arrêter) : 14\n",
      "Entrer une note (nombre négatif pour arrêter) : 8\n",
      "Entrer une note (nombre négatif pour arrêter) : 12\n",
      "Entrer une note (nombre négatif pour arrêter) : 6\n",
      "Entrer une note (nombre négatif pour arrêter) : 8\n",
      "Entrer une note (nombre négatif pour arrêter) : -1\n"
     ]
    },
    {
     "data": {
      "text/plain": [
       "10.0"
      ]
     },
     "execution_count": 28,
     "metadata": {},
     "output_type": "execute_result"
    }
   ],
   "source": [
    "def moy():\n",
    "    somme = 0\n",
    "    nb_notes = -1\n",
    "    note = 0\n",
    "    while note >= 0:\n",
    "        somme += note\n",
    "        nb_notes += 1\n",
    "        note = int(input('Entrer une note (nombre négatif pour arrêter) : '))\n",
    "    return somme/nb_notes\n",
    "moy()        "
   ]
  },
  {
   "cell_type": "markdown",
   "metadata": {},
   "source": [
    "<h2 style=\"color:blue\"> Exercice 9</h2>\n",
    "\n",
    "1. Écrire une fonction **`compte_e`** qui prend en paramètre une chaine de caractères puis compte le nombre de \"e\" qu'elle contient. Tester la fonction."
   ]
  },
  {
   "cell_type": "code",
   "execution_count": 29,
   "metadata": {},
   "outputs": [
    {
     "name": "stdout",
     "output_type": "stream",
     "text": [
      "4\n"
     ]
    }
   ],
   "source": [
    "# 1ère version : on parcours la chaine avec ses indices\n",
    "def compte_e(chain):\n",
    "    nb_e = 0\n",
    "    for i in range(len(chain)):\n",
    "        if chain[i] == \"e\":\n",
    "            nb_e += 1\n",
    "    return nb_e\n",
    "print(compte_e(\"elementaire\"))"
   ]
  },
  {
   "cell_type": "code",
   "execution_count": 30,
   "metadata": {},
   "outputs": [
    {
     "name": "stdout",
     "output_type": "stream",
     "text": [
      "4\n"
     ]
    }
   ],
   "source": [
    "# 2ème version : on parcours la chaine\n",
    "def compte_e(chain):\n",
    "    nb_e = 0\n",
    "    for i in chain:\n",
    "        if i == \"e\":\n",
    "            nb_e += 1\n",
    "    return nb_e\n",
    "print(compte_e(\"elementaire\"))"
   ]
  },
  {
   "cell_type": "markdown",
   "metadata": {},
   "source": [
    "2. Écrire une fonction **`compte_voy`** qui prend en paramètre une chaine de caractères puis compte le nombre de voyelles qu'elle contient. Tester la fonction."
   ]
  },
  {
   "cell_type": "code",
   "execution_count": 32,
   "metadata": {},
   "outputs": [
    {
     "name": "stdout",
     "output_type": "stream",
     "text": [
      "6\n"
     ]
    }
   ],
   "source": [
    "def compte_voy(chain):\n",
    "    nb_voy = 0\n",
    "    for letter in chain :\n",
    "        if letter in \"aeiouy\":\n",
    "            nb_voy += 1\n",
    "    return nb_voy\n",
    "\n",
    "print(compte_voy(\"elementaire\"))        "
   ]
  },
  {
   "cell_type": "markdown",
   "metadata": {},
   "source": [
    "<h2 style=\"color:blue\"> Exercice 10</h2>\n",
    "\n",
    "Écrire une fonction qui prend en paramètre une chaine de caractères et renvoie une autre chaine de caractère dans laquelle les lettre minuscules ont été remplacées par des majuscules et les majuscules par des minuscules. Tester la fonction.    \n",
    "*Idée* : construire un nouveau mot par concéténation de lettres majuscules et minuscules.\n",
    "\n",
    "**A savoir** : pour passer en majuscule une chaine de caractère **`chain`** on utilise la méthode **`upper()`** en l'appliquant à la chaine de caractère **`chain`** de la façon suivante : **`chain.upper()`** (syntaxe POO Programmation Orientée Objet). De même, la méthode **`lower()`** permet de passer en minuscule."
   ]
  },
  {
   "cell_type": "code",
   "execution_count": 34,
   "metadata": {},
   "outputs": [
    {
     "name": "stdout",
     "output_type": "stream",
     "text": [
      "bONJOUR\n"
     ]
    }
   ],
   "source": [
    "def majuscule(chain):\n",
    "    new_chain = \"\"\n",
    "    for letter in chain:\n",
    "        if letter == letter.lower():\n",
    "            new_chain += letter.upper()\n",
    "        else:\n",
    "            new_chain += letter.lower()\n",
    "    return new_chain\n",
    "\n",
    "print(majuscule(\"Bonjour\"))"
   ]
  }
 ],
 "metadata": {
  "kernelspec": {
   "display_name": "Python 3",
   "language": "python",
   "name": "python3"
  },
  "language_info": {
   "codemirror_mode": {
    "name": "ipython",
    "version": 3
   },
   "file_extension": ".py",
   "mimetype": "text/x-python",
   "name": "python",
   "nbconvert_exporter": "python",
   "pygments_lexer": "ipython3",
   "version": "3.7.7"
  }
 },
 "nbformat": 4,
 "nbformat_minor": 4
}
