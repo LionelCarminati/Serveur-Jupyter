{
 "cells": [
  {
   "cell_type": "markdown",
   "metadata": {},
   "source": [
    "# TP Python 3 : Les structures de boucles"
   ]
  },
  {
   "cell_type": "markdown",
   "metadata": {},
   "source": [
    "   ### Toutes les fonctions doivent être correctement documentées"
   ]
  },
  {
   "cell_type": "markdown",
   "metadata": {},
   "source": [
    "## Exercice 1\n",
    "Écrire une fonction **`punition(nblignes)`** qui écrira autant de fois que demandé la phrase \"Je dois suivre en cours\".   \n",
    "Exemple:\n",
    "\n",
    "\n",
    "<table style=\"border:1px solid black;\">\n",
    "<tr style=\"border:1px solid black;\"><th>Variables:</th><th>nblignes</th></tr>\n",
    "<tr><td>Entrée:</td><td>3</td></tr>\n",
    "<tr><td>Sortie:</td><td>Je dois suivre en cours<br />Je dois suivre en cours<br />Je dois suivre en cours<td></tr>\n",
    "</table>"
   ]
  },
  {
   "cell_type": "code",
   "execution_count": null,
   "metadata": {},
   "outputs": [],
   "source": []
  },
  {
   "cell_type": "markdown",
   "metadata": {},
   "source": [
    "## Exercice 2\n",
    "Écrire une fonction d'un paramètre entier **`n`** supérieur à 10 qui affiche sur une même ligne, séparés d’un tiret, les nombres pairs de 10 à **`n`** inclus. Écrire un précondition."
   ]
  },
  {
   "cell_type": "code",
   "execution_count": null,
   "metadata": {},
   "outputs": [],
   "source": []
  },
  {
   "cell_type": "markdown",
   "metadata": {},
   "source": [
    "## Exercice 3\n",
    "Écrire une fonction **`minuterie`** d'un paramètre entier **`n`** qui compte à rebours de n à 0 par pas de une seconde.   \n",
    "Pour cela, vous aurez besoin du module `time` et de sa fonction **`sleep(durée_en_seconde)`**.  \n",
    "Par exemple, pour 3 secondes, l'afichage deva être le suivant :   \n",
    "> Durée  :  3  secondes      \n",
    ">Durée  :  2  secondes   \n",
    ">Durée  :  1  secondes   \n",
    ">Durée  :  0  secondes   \n",
    ">Il s'est écoulé 3 secondes."
   ]
  },
  {
   "cell_type": "code",
   "execution_count": null,
   "metadata": {},
   "outputs": [],
   "source": [
    "from time import sleep\n",
    "\n"
   ]
  },
  {
   "cell_type": "markdown",
   "metadata": {},
   "source": [
    "## Exercice 4\n",
    "Écrire une fonction **`table`** permettant d'afficher une table de multiplication. Cette fonction devra prendre en paramètre la table **`n`** désirée.   \n",
    "Par exemple si l'on passe le paramètre 3 à la fonction, la fonction devra permettre d'afficher : \n",
    "``` python\n",
    "1 x 3 = 3   \n",
    "2 x 3 = 6\n",
    "...\n",
    "...\n",
    "10 x 3 = 30\n",
    "```"
   ]
  },
  {
   "cell_type": "code",
   "execution_count": null,
   "metadata": {},
   "outputs": [],
   "source": []
  },
  {
   "cell_type": "markdown",
   "metadata": {},
   "source": [
    "## Exercice 5\n",
    "1. Ecrire une fonction **`somme(n)`** qui calcule la somme des entiers de 1 à n. Vérifier que $1+2+3+4+5 = 15$"
   ]
  },
  {
   "cell_type": "code",
   "execution_count": null,
   "metadata": {},
   "outputs": [],
   "source": []
  },
  {
   "cell_type": "markdown",
   "metadata": {},
   "source": [
    "2. Ecrire une fonction **`seuil_somme(p)`** qui retourne le plus petit entier **`n`** tel que $1+2+3+...+n\\geqslant p$. Tester la fonction."
   ]
  },
  {
   "cell_type": "code",
   "execution_count": null,
   "metadata": {},
   "outputs": [],
   "source": []
  },
  {
   "cell_type": "markdown",
   "metadata": {},
   "source": [
    "## Exercice 6\n",
    "Une entreprise vend un récupérateur d'eau de pluie qui a une capacité de 150 litres d'eau.   \n",
    "Elle voudrait proposer à ses clients un programme qui permettrait au client de savoir en combien de jours le réservoir sera plein en fonction du remplissage moyen quotidien.   \n",
    "Ecrire une fonction **`full`** qui prend en argument une entrée du type **`float`** indiquant le volume en litre du remplissage moyen quotidien **`a`** et en sortie un entier indiquant le nombre de jours nécessaire au remplissage.    \n",
    "On vérifiera que pour un volume de remplissage moyen quotidien de 3.1 jours, il faut 49 jours de remplissage."
   ]
  },
  {
   "cell_type": "code",
   "execution_count": null,
   "metadata": {},
   "outputs": [],
   "source": []
  },
  {
   "cell_type": "markdown",
   "metadata": {},
   "source": [
    "## Exercice 7\n",
    "Ecrire une fonction **`list_alea`** qui permet d'écrire une liste d'entiers aléatoires qui s'arrête dès que la somme des nombres dépasse une certaine valeur.   \n",
    "La fonction **`list_alea`** prend en entrée 3 valeurs entières **`deb`**, **`fin`** et **`max`**  correspondant respectivement à la plus petite valeur des nombres aléatoires, à la plus grande et à la valeur à ne pas dépasser en faisant la somme de ces nombres. \n",
    "\n",
    "**Rappel** : la fonction **`randint(a,b)`** du module **`random`** permet de générer des nombres aléatoires entre **`a`** et **`b`**. "
   ]
  },
  {
   "cell_type": "code",
   "execution_count": null,
   "metadata": {},
   "outputs": [],
   "source": [
    "from random import randint\n",
    "\n",
    "\n",
    "print(list_alea(2,6,30))"
   ]
  },
  {
   "cell_type": "markdown",
   "metadata": {},
   "source": [
    "## Exercice 8\n",
    "1. Écrire un programme qui demande à l’utilisateur d’entrer des données (quelconques) jusqu’à ce que la valeur 0 soit rentrée. Le programme affichera alors le nombre d’entrée effectuée (le 0 ne comptant pas)."
   ]
  },
  {
   "cell_type": "code",
   "execution_count": null,
   "metadata": {},
   "outputs": [],
   "source": []
  },
  {
   "cell_type": "markdown",
   "metadata": {},
   "source": [
    "2. Écrire une fonction qui demande à l'utilisateur d'entrer des notes, sans que l'on sache à l'avance combien de notes il va saisir : l'arrêt de la saisie se produit dès que l'utilisateur saisit un nombre négatif.   \n",
    "Le programme doit calculer et afficher la moyenne (Attention: le nombre négatif saisi ne doit pas compter dans la moyenne !). \n",
    "On nommera cette fonction **`moy`** elle ne prendra aucune entrée et donnera un élément de type **`float`** en sortie.     \n",
    "En entrant les notes 10,12,14,8,12,6,8, la moyenne devrait être de 10."
   ]
  },
  {
   "cell_type": "code",
   "execution_count": null,
   "metadata": {},
   "outputs": [],
   "source": []
  },
  {
   "cell_type": "markdown",
   "metadata": {},
   "source": [
    "## Exercice 9\n",
    "1. Écrire une fonction **`compte_e`** qui prend en paramètre une chaine de caractères puis compte le nombre de \"e\" qu'elle contient. Tester la fonction."
   ]
  },
  {
   "cell_type": "code",
   "execution_count": null,
   "metadata": {},
   "outputs": [],
   "source": []
  },
  {
   "cell_type": "markdown",
   "metadata": {},
   "source": [
    "2. Écrire une fonction **`compte_voy`** qui prend en paramètre une chaine de caractères puis compte le nombre de voyelles qu'elle contient. Tester la fonction."
   ]
  },
  {
   "cell_type": "code",
   "execution_count": null,
   "metadata": {},
   "outputs": [],
   "source": []
  },
  {
   "cell_type": "markdown",
   "metadata": {},
   "source": [
    "## Exercice 10\n",
    "Ecrire une fonction qui prend en paramètre une chaine de caractères et renvoie une autre chaine de caractère dans laquelle les lettre minuscules ont été remplécées par des majuscules. Tester la fonction.    \n",
    "*Idée* : construire un nouveau mot par concéténation de lettres majuscules.\n",
    "\n",
    "**A savoir** : pour passer en majuscule une chaine de caractère **`chain`** on utilise la méthode **`upper()`** en l'appliquant à la chaine de caractère **`chain`** de la façon suivante : **`chain.upper()`** (syntaxe POO Programmation Orientée Objet)."
   ]
  },
  {
   "cell_type": "code",
   "execution_count": null,
   "metadata": {},
   "outputs": [],
   "source": []
  }
 ],
 "metadata": {
  "kernelspec": {
   "display_name": "Python 3",
   "language": "python",
   "name": "python3"
  },
  "language_info": {
   "codemirror_mode": {
    "name": "ipython",
    "version": 3
   },
   "file_extension": ".py",
   "mimetype": "text/x-python",
   "name": "python",
   "nbconvert_exporter": "python",
   "pygments_lexer": "ipython3",
   "version": "3.7.7"
  }
 },
 "nbformat": 4,
 "nbformat_minor": 4
}
