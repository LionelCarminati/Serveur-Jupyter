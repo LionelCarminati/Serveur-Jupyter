{
 "cells": [
  {
   "cell_type": "markdown",
   "metadata": {},
   "source": [
    "# TP Python 1 : Variables et types"
   ]
  },
  {
   "cell_type": "markdown",
   "metadata": {},
   "source": [
    "## Exercice1\n",
    "Exécuter **à la main** l'algorithme suivant :\n",
    "``` python\n",
    "      a = 0\n",
    "      b = 1\n",
    "      a = a + b\n",
    "      b = a * b\n",
    "      a = a - 2\n",
    "```\n",
    "Quelles sont les valeurs finales de a et b ?"
   ]
  },
  {
   "cell_type": "raw",
   "metadata": {},
   "source": [
    "a = \n",
    "b = "
   ]
  },
  {
   "cell_type": "markdown",
   "metadata": {},
   "source": [
    "Insérer une cellule de code en dessous, copiez-y le code précédent et complétez-le de façon à faire afficher les valeurs des variables a et b. Vérifiez avec vos prédictions."
   ]
  },
  {
   "cell_type": "markdown",
   "metadata": {},
   "source": [
    "## Exercice2\n",
    "Traduire en python les expressions suivantes et déterminer leur résultat :\n",
    "\n",
    "a) $3^2+2^3$   \n",
    "b) $\\dfrac{5}{3}\\times \\dfrac{9}{2}+12$   \n",
    "c) $(\\dfrac{36}{25})^2$"
   ]
  },
  {
   "cell_type": "code",
   "execution_count": null,
   "metadata": {},
   "outputs": [],
   "source": []
  },
  {
   "cell_type": "code",
   "execution_count": null,
   "metadata": {},
   "outputs": [],
   "source": []
  },
  {
   "cell_type": "code",
   "execution_count": null,
   "metadata": {},
   "outputs": [],
   "source": []
  },
  {
   "cell_type": "markdown",
   "metadata": {},
   "source": [
    "## Exercice 3\n",
    "Soit le programme python suivant :\n",
    "``` python\n",
    "    a = 2\n",
    "    b = 3\n",
    "    nombre = 8\n",
    "    valeur = 2.718\n",
    "    sp1 = \"Numérique\"\n",
    "    sp2 = \"Sciences Informatiques\"\n",
    "    x = nombre / a\n",
    "    y = nombre // a\n",
    "    z = nombre % a\n",
    "    t = nombre * valeur\n",
    "    u = nombre ** a\n",
    "    v = int(x)\n",
    "    print(\"x=\",x,\"y=\",y,\"z=\",z,\"t=\",t,\"u=\",u,\"v=\",v)\n",
    "    TR = sp1 + \" et \" + sp2\n",
    "    f = sp1 * 2\n",
    "    e = sp1 + 2\n",
    "    print(\"TR=\",TR,\"f=\",f,\"e=\",e)\n",
    "```\n",
    "1. Préciser (sans exécuter le programme) en justifiant la réponse, quelle ligne du script va déclencher une erreur lors de son exécution. Proposer une correction. "
   ]
  },
  {
   "cell_type": "raw",
   "metadata": {},
   "source": []
  },
  {
   "cell_type": "markdown",
   "metadata": {},
   "source": [
    "2.\tDonner la valeur et le type de chacune des variables après exécution des instructions (corrigées) ci-dessus **à la main**."
   ]
  },
  {
   "cell_type": "markdown",
   "metadata": {},
   "source": [
    "x =                                                             \n",
    "y =                                                             \n",
    "z =                                                             \n",
    "t =                                                             \n",
    "u =                                                             \n",
    "TR =                                                             \n",
    "f =                                                             "
   ]
  },
  {
   "cell_type": "markdown",
   "metadata": {},
   "source": [
    "3. Que se passerait-il si on rajoutait la ligne `print(int(e))`. Expliquer."
   ]
  },
  {
   "cell_type": "raw",
   "metadata": {},
   "source": []
  },
  {
   "cell_type": "markdown",
   "metadata": {},
   "source": [
    "## Exercice 4\n",
    "Créer une variable `nsi` et assignez-lui la valeur \"Numérique et Sciences Informatiques\".   \n",
    "1. Faites afficher le troisième caractère de la chaine, le dernier puis la longueur de la chaine. Faire ensuite à nouveau afficher le dernier caractère mais en utilisant la fonction `len`.\n"
   ]
  },
  {
   "cell_type": "code",
   "execution_count": null,
   "metadata": {},
   "outputs": [],
   "source": []
  },
  {
   "cell_type": "markdown",
   "metadata": {},
   "source": [
    "Allons un peu plus loin. On peut vouloir sélectionner une partie des éléments d'une chaine de caractères :   \n",
    "` nom_chaine[n : m] ` affiche les caractères de n à m-1 (le m ième caractère est toujours exclu).\n",
    "\n",
    "On peut aussi vouloir sélectionner une partie des caractères mais en faisaant des sauts constants (par exemple un caracrère sur 2...).   \n",
    "` nom_chaine[n : m : p] ` affiche les caractères de n à m-1 par pas de p\n",
    "\n",
    "2. Faire afficher, à partir de `nsi`, le mot \"Sciences\" en vous aidant de la syntaxt ci-dessus. "
   ]
  },
  {
   "cell_type": "code",
   "execution_count": null,
   "metadata": {},
   "outputs": [],
   "source": []
  },
  {
   "cell_type": "markdown",
   "metadata": {},
   "source": [
    "3. Afficher les 3 derniers caractères de la chaine en vous aidant de la syntaxe précédente, puis en utilisant la fonction `len`."
   ]
  },
  {
   "cell_type": "code",
   "execution_count": null,
   "metadata": {},
   "outputs": [],
   "source": []
  },
  {
   "cell_type": "markdown",
   "metadata": {},
   "source": [
    "4. Faire afficher la chaine \"uéiu\" contenue dans la chaine `nsi` en vous aidant de la syntaxe ci-dessus."
   ]
  },
  {
   "cell_type": "code",
   "execution_count": null,
   "metadata": {},
   "outputs": [],
   "source": []
  },
  {
   "cell_type": "markdown",
   "metadata": {},
   "source": [
    "## Exercice 5\n",
    "Créez une variable `notes` et affectez lui les 4 valeurs numériques suivantes : 15, 9, 13, 20. Ici les éléments sont de type entier.\n",
    "\n",
    "Ecrire un programme qui calcule puis affiche la moyenne des notes en utilisant la fonction `len`. Pour l’instant le calcul est long mais nous l'automatiserons plus tard en utilisant une boucle.\n"
   ]
  },
  {
   "cell_type": "code",
   "execution_count": null,
   "metadata": {},
   "outputs": [],
   "source": []
  },
  {
   "cell_type": "markdown",
   "metadata": {},
   "source": [
    "## Exercice 6\n",
    "Écrire un programme qui demande à l’utilisateur les longueurs (entières) des deux côtés d’un rectangle et qui affiche son périmètre et son aire (avec une petite phrase explicative)."
   ]
  },
  {
   "cell_type": "code",
   "execution_count": null,
   "metadata": {},
   "outputs": [],
   "source": []
  },
  {
   "cell_type": "markdown",
   "metadata": {},
   "source": [
    "## Exercice 7\n",
    "Écrire un programme qui demande 3 valeurs (\"a = \"...), les affecte dans des variables a, b et c, les  permute (a va dans b, b dans c et c dans a) et les affiche (\"Maintenant, a =\"...).   \n",
    "Par exemple, si on rentre dans le programme :   \n",
    "    a = 1   \n",
    "    b = 2   \n",
    "    c = 3   \n",
    "à la fin de l’exécution du programme, on doit avoir dans la variable b la valeur de a soit ici 1, dans la variable c la valeur de b soit ici 2 et dans la variable a la valeur de c soit ici 3."
   ]
  },
  {
   "cell_type": "code",
   "execution_count": null,
   "metadata": {},
   "outputs": [],
   "source": []
  },
  {
   "cell_type": "markdown",
   "metadata": {},
   "source": [
    "## Exercice 8\n",
    "Créez une variable `feu_tricolore` de type liste contenant 4 chaines de caractères relatives aux 3 couleurs que peut prendre un feu tricolore et à la valeur \"clignotant\". \n",
    "\n",
    "On sait qu'il est possible de sélectionner un élément (ici une des chaines de caractères) en précisant l’index `n` l’élément que l’on veut pointer.\n",
    "\n",
    "On peut également sélectionner un des caractères d’un des éléments (chaines) principal de la liste, pour cela il faut préciser un 2eme index `m` pointant le caractère dans le groupe.\n",
    "\n",
    "La syntaxe est la suivante : `nom_variable[n][m]`\n",
    "\n",
    "1. Faire afficher le 1er élément de la liste puis le dernier élément en utilisant la fonction `len` précisant la longueur de la liste."
   ]
  },
  {
   "cell_type": "code",
   "execution_count": null,
   "metadata": {},
   "outputs": [],
   "source": []
  },
  {
   "cell_type": "code",
   "execution_count": null,
   "metadata": {},
   "outputs": [],
   "source": []
  },
  {
   "cell_type": "markdown",
   "metadata": {},
   "source": [
    "2. Faire afficher le V de la couleur Vert."
   ]
  },
  {
   "cell_type": "code",
   "execution_count": null,
   "metadata": {},
   "outputs": [],
   "source": []
  },
  {
   "cell_type": "markdown",
   "metadata": {},
   "source": [
    "### Complément (facultatif)\n",
    "Comme pour les chaines de caractères, il existe d'autres possibilités de sélection.\n",
    "\n",
    "**Syntaxe générale complète** : Liste utilisée ci-dessous sera remplacée par le nom de la liste.   \n",
    "`Liste[x :y :pas]` sélectionne tous les éléments compris entre les index x(compris) et y(non compris) avec un saut entre chaque élément égal au pas. Le pas par défaut est 1 si non précisé.\n",
    "\n",
    "**Variantes :**\n",
    "`Liste[x : y]`\tsélectionne tous les éléments compris entre les index x(compris) et y(non compris)    \n",
    "`Liste[ : y]`\tsélectionne tous les éléments compris entre le début(compris) et l’index y(non compris)    \n",
    "`Liste[ : ]` \tsélectionne tous les éléments . \tOn peut écrire plus simplement \tListe    \n",
    "`Liste[:: p ]` \tsélectionne un élément tous les p éléments dans l’ensemble de la liste    \n",
    "\n",
    "Il est possible également de partir de la fin, on utilise pour cela des index négatifs. -1 étant le dernier élément.    \n",
    "`Liste[ -1]`\tsélectionne le dernier élément de la liste    \n",
    "`Liste[ :-y]`\tsélectionne tous les éléments compris entre le début de la liste(compris) et l’index y(non compris) en partant de la fin (en sachant que -1 est le dernier, -2 le 2eme en partant de la fin et ainsi de suite).     \n",
    "`Liste [x :-y]` sélectionne tous les éléments compris entre l’index x(compris) et l’index y(non compris) en partant de la fin. Si toutefois l’index x correspond à une position supérieure à la position –y, la sélection vous renverra un élément vide.    \n"
   ]
  },
  {
   "cell_type": "markdown",
   "metadata": {},
   "source": [
    "En utilisant la liste précédente `feu_tricolore`, proposez au moins 2 syntaxes pour chaque cas de sélections ci-dessous. Utilisez pour cela aussi bien l’indexation positive que négative.\n",
    "\n",
    "- Sélection des 3 1er éléments\n",
    "- Sélection des 2 éléments du centre\n",
    "- Sélection de tous les éléments\n",
    "- Sélection du 2eme et du 4eme élément\n"
   ]
  },
  {
   "cell_type": "code",
   "execution_count": null,
   "metadata": {},
   "outputs": [],
   "source": []
  },
  {
   "cell_type": "code",
   "execution_count": null,
   "metadata": {},
   "outputs": [],
   "source": []
  },
  {
   "cell_type": "code",
   "execution_count": null,
   "metadata": {},
   "outputs": [],
   "source": []
  },
  {
   "cell_type": "code",
   "execution_count": null,
   "metadata": {},
   "outputs": [],
   "source": []
  }
 ],
 "metadata": {
  "kernelspec": {
   "display_name": "Python 3",
   "language": "python",
   "name": "python3"
  },
  "language_info": {
   "codemirror_mode": {
    "name": "ipython",
    "version": 3
   },
   "file_extension": ".py",
   "mimetype": "text/x-python",
   "name": "python",
   "nbconvert_exporter": "python",
   "pygments_lexer": "ipython3",
   "version": "3.7.7"
  }
 },
 "nbformat": 4,
 "nbformat_minor": 4
}
