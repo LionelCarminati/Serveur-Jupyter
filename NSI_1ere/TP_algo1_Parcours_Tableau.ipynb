{
 "cells": [
  {
   "cell_type": "markdown",
   "metadata": {},
   "source": [
    "<h1 style=\"color:red\"> TP Algorithmique 1 : Parcours séquentiel d'un tableau</h1>"
   ]
  },
  {
   "cell_type": "markdown",
   "metadata": {},
   "source": [
    "<h2 style=\"color:blue\"> Exercice 1 : Maximum d'un tableau </h2>\n",
    "\n",
    "1. Écrire une fonction **`tab_alea`** qui prend un nombre entier **`n`** en paramètre et qui construit un tableau de **`n`** entiers tirés au hasard entre 1 et 1000 puis l’affiche. \n",
    "\n",
    "*Rappel* : pour tirer un entier au hasard entre **`1`** et **`n`**, il faut utiliser la fonction **`randint`** du module **`random`** en écrivant **`randint(n)`**.\n",
    "\n",
    "2. Écrire une fonction **`max_tab`** qui calcule et affiche l'élément maximum d'un tableau passé en paramètre. L'appliquer à un tableau aléatoire.\n",
    "\n",
    "3. Modifier la fonction précédante pour qu'elle affiche aussi l'indice de l'élément maximum."
   ]
  },
  {
   "cell_type": "code",
   "execution_count": null,
   "metadata": {},
   "outputs": [],
   "source": []
  },
  {
   "cell_type": "markdown",
   "metadata": {},
   "source": [
    "<h2 style=\"color:blue\"> Exercice 2 : Moyenne des éléments d'un tableau</h2>\n",
    "\n",
    "Écrire une fonction **`somme(tab)`** qui calcule et renvoie la somme des éléments d’un tableau d’entiers. \n",
    "\n",
    "En déduire une fonction **`moyenne(tab)`** qui calcule et renvoie la moyenne des éléments du tableau **`tab`** supposé non vide."
   ]
  },
  {
   "cell_type": "code",
   "execution_count": null,
   "metadata": {},
   "outputs": [],
   "source": []
  },
  {
   "cell_type": "markdown",
   "metadata": {},
   "source": [
    "<h2 style=\"color:blue\"> Exercice 3 : Liste triée</h2>\n",
    "\n",
    "Écrire une fonction **`triee(l)`** qui prend une liste **`l`** et répond **`True`** si et seulement si les valeurs de **`l`** sont dans l’ordre croissant."
   ]
  },
  {
   "cell_type": "code",
   "execution_count": null,
   "metadata": {},
   "outputs": [],
   "source": []
  },
  {
   "cell_type": "markdown",
   "metadata": {},
   "source": [
    "<h2 style=\"color:blue\"> Exercice 4 : Ordre alphabétique</h2>\n",
    "\n",
    "Écrire une fonction **`ordre(m1, m2`** qui prend en paramètres deux mots **`ml`** et **`m2`** sous la forme de chaînes de caractères, et qui  renvoie **`True`** si **`ml`** est avant **`m2`** dans l'ordre du dictionnaire ou si **`ml`** est égal à **`m2`**.\n",
    "\n",
    "<u>Indication</u> : On peut parcourir les deux mots en parallèle, en s'interrompant à la première lettre différente. N'oubliez pas que les opérateurs de comparaison permettent aussi de comparer des lettres suivant l'ordre alphabétique."
   ]
  },
  {
   "cell_type": "code",
   "execution_count": null,
   "metadata": {},
   "outputs": [],
   "source": []
  },
  {
   "cell_type": "markdown",
   "metadata": {},
   "source": [
    "**Les exercices qui suivent sont d'un niveau assez élevé mais des indications sont données pour les résoudre. Avant de vous précipiter sur le code, essayer d'écrire l'algorithme à la main. N'oubliez pas de le tester sur des exemples simples**"
   ]
  },
  {
   "cell_type": "markdown",
   "metadata": {},
   "source": [
    "<h2 style=\"color:blue\"> Exercice 5 : Occurences non consécutives</h2>\n",
    "\n",
    "Écrire une fonction  **`occurence_nc(a, b, tab)`** qui teste s'il existe dans le tableau **`tab`** une occurrence de l’élément **`a`** et une occurrence de l’élément **`b`** dans cet ordre (mais pas nécessairement consécutives).\n",
    "\n",
    "<u>Indication</u> : On peut chercher d'abord l'élément **`a`** à partir du début du tableau, puis l'élément **`b`** à partir de l'indice suivant celui auquel **`a`** a été trouvé. "
   ]
  },
  {
   "cell_type": "code",
   "execution_count": null,
   "metadata": {},
   "outputs": [],
   "source": []
  },
  {
   "cell_type": "markdown",
   "metadata": {},
   "source": [
    "<h2 style=\"color:blue\"> Exercice 6 : Sous mot</h2>\n",
    "\n",
    "Écrire une fonction **`sous_mot(tab1,tab2)`** qui renvoie **`True`** si tous les éléments du tableau **`tab1`** apparaissent, dans l’ordre, dans le tableau **`tab2`** (sans être forcément consécutifs).\n",
    "\n",
    "<u>Indication</u> : On peut utiliser une boucle sur les indices **`j`** du tableau **`tab2`** ainsi qu'un compteur **`i`** indiquant les éléments de **`tab1`** déjà trouvés."
   ]
  },
  {
   "cell_type": "code",
   "execution_count": null,
   "metadata": {},
   "outputs": [],
   "source": []
  },
  {
   "cell_type": "markdown",
   "metadata": {},
   "source": [
    "<h2 style=\"color:blue\"> Exercice 7 : Plus grande séquence d'occurences consécutive</h2>\n",
    "\n",
    "\n",
    "Écrire une fonction **`pgs_oc(e, tab)`** qui renvoie la longueur de la plus grande séquence d’occurrences consécutives de l’élément **`e`** dans le tableau **`tab`**.\n",
    "\n",
    "<u>Indication</u> : On peut parcourir le tableau en mettant à jour une variable **`longueur_courante`** indiquant la longueur de la séquence actuelle, et une variable **`longueur_max`** indiquant la longueur de la plus grande séquence trouvée jusqu'ici."
   ]
  },
  {
   "cell_type": "code",
   "execution_count": null,
   "metadata": {},
   "outputs": [],
   "source": []
  },
  {
   "cell_type": "markdown",
   "metadata": {},
   "source": [
    "<h2 style=\"color:blue\"> Exercice 8 : Plus grande séquence d'éléments identiques</h2>\n",
    "\n",
    "Écrire une fonction **`pgs(tab)`** qui prend en paramètre un tableau **`tab`** et renvoie  la  longueur de la plus grande séquence d'éléments identiques consécutifs.\n",
    "\n",
    "<u>Indication</u> : On peut faire comme pour le précédent exercice mais, avec en plus, une variable **`element_courant`** indiquant le dernier élément trouvé."
   ]
  },
  {
   "cell_type": "code",
   "execution_count": null,
   "metadata": {},
   "outputs": [],
   "source": []
  },
  {
   "cell_type": "markdown",
   "metadata": {},
   "source": [
    "<h2 style=\"color:blue\"> Exercice 9 : Préfixe commun</h2>\n",
    "\n",
    "Écrire une fonction **`pgpc(tab1, tab2)`** qui prend en paramètre deux tableaux et qui renvoie la longueur du plus grand préfixe commun à ces deux tableaux, c’est-à-dire un nombre **`l`** tel que les **`l`** premières valeurs de **`tab1`** et **`tab2`** sont  égales mais pas celles d’indice **`l`**.\n",
    "\n",
    "<u>Indication</u> : On peut utiliser une boucle **`while`** pour parcourir tous les indices communs aux deux tableaux, que l'on interrompt au premier indice où les deux tableaux diffèrent."
   ]
  },
  {
   "cell_type": "code",
   "execution_count": null,
   "metadata": {},
   "outputs": [],
   "source": []
  }
 ],
 "metadata": {
  "kernelspec": {
   "display_name": "Python 3",
   "language": "python",
   "name": "python3"
  },
  "language_info": {
   "codemirror_mode": {
    "name": "ipython",
    "version": 3
   },
   "file_extension": ".py",
   "mimetype": "text/x-python",
   "name": "python",
   "nbconvert_exporter": "python",
   "pygments_lexer": "ipython3",
   "version": "3.7.7"
  }
 },
 "nbformat": 4,
 "nbformat_minor": 4
}
